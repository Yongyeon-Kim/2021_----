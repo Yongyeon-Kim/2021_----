{
 "cells": [
  {
   "cell_type": "code",
   "execution_count": 46,
   "source": [
    "import time\r\n",
    "start = time.time()\r\n",
    "\r\n",
    "def iteration_fibo(n):\r\n",
    "    a = 0; b =1; result=0\r\n",
    "    for i in range(1, n):\r\n",
    "        result = a + b\r\n",
    "        a = b\r\n",
    "        b = result    \r\n",
    "    return result"
   ],
   "outputs": [],
   "metadata": {}
  },
  {
   "cell_type": "code",
   "execution_count": 47,
   "source": [
    "print(iteration_fibo(30))\r\n",
    "print('time: ', time.time()-start)"
   ],
   "outputs": [
    {
     "output_type": "stream",
     "name": "stdout",
     "text": [
      "832040\n",
      "time:  0.3590402603149414\n"
     ]
    }
   ],
   "metadata": {}
  },
  {
   "cell_type": "code",
   "execution_count": 50,
   "source": [
    "import time\r\n",
    "start = time.time()\r\n",
    "\r\n",
    "def recursion_fibo(n): \r\n",
    "    if n == 0:\r\n",
    "        return 0\r\n",
    "    elif n == 1:\r\n",
    "        return 1\r\n",
    "    else:\r\n",
    "        return recursion_fibo(n-1) + recursion_fibo(n-2)"
   ],
   "outputs": [],
   "metadata": {}
  },
  {
   "cell_type": "code",
   "execution_count": 51,
   "source": [
    "print(recursion_fibo(30))\r\n",
    "print('time: ', time.time() - start)"
   ],
   "outputs": [
    {
     "output_type": "stream",
     "name": "stdout",
     "text": [
      "832040\n",
      "time:  0.7679462432861328\n"
     ]
    }
   ],
   "metadata": {}
  },
  {
   "cell_type": "code",
   "execution_count": 60,
   "source": [
    "import time\r\n",
    "\r\n",
    "class Fibonacci:\r\n",
    "    def __init__(self):\r\n",
    "        pass\r\n",
    "\r\n",
    "    def iteration_fibo(self, n):\r\n",
    "        start = time.time()\r\n",
    "        \r\n",
    "        a = 0; b =1; result=0\r\n",
    "        for i in range(1, n):\r\n",
    "            result = a + b\r\n",
    "            a = b\r\n",
    "            b = result\r\n",
    "        \r\n",
    "        return result\r\n",
    "    \r\n",
    "    \r\n",
    "    def recursion_fibo(self, n): \r\n",
    "        \r\n",
    "        if n == 0:\r\n",
    "            return 0\r\n",
    "        elif n == 1:\r\n",
    "            return 1\r\n",
    "        else:\r\n",
    "            return recursion_fibo(n-1) + recursion_fibo(n-2)\r\n",
    "    \r\n",
    "    def fibo(self):\r\n",
    "        n = int(input(\"확인할 피보나치 수열의 수\"))\r\n",
    "        print(\"반복적인 피보나치 수열: \",self.recursion_fibo(n))\r\n",
    "        print(\"순환하는 피보나치 수열: \", self.iteration_fibo(n))\r\n",
    "\r\n",
    "f1 = Fibonacci()\r\n",
    "f1.fibo()"
   ],
   "outputs": [
    {
     "output_type": "stream",
     "name": "stdout",
     "text": [
      "time:  663.7082140445709\n",
      "확인할 피보나치 수열의 수30\n",
      "반복적인 피보나치 수열:  832040\n",
      "순환하는 피보나치 수열:  832040\n"
     ]
    }
   ],
   "metadata": {}
  },
  {
   "cell_type": "code",
   "execution_count": null,
   "source": [
    "import time\r\n",
    "\r\n",
    "class Fibonacci:\r\n",
    "    def __init__(self):\r\n",
    "        pass\r\n",
    "\r\n",
    "    def iteration_fibo(self, n):\r\n",
    "        start = time.time()\r\n",
    "        \r\n",
    "        a = 0; b =1; result=0\r\n",
    "        for i in range(1, n):\r\n",
    "            result = a + b\r\n",
    "            a = b\r\n",
    "            b = result\r\n",
    "        \r\n",
    "        return result\r\n",
    "    \r\n",
    "    def recursion_fibo(self, n): \r\n",
    "        if n == 0:\r\n",
    "            return 0\r\n",
    "        elif n == 1:\r\n",
    "            return 1\r\n",
    "        else:\r\n",
    "            return recursion_fibo(n-1) + recursion_fibo(n-2)\r\n",
    "    \r\n",
    "    def fibo(self):\r\n",
    "        n = int(input(\"확인할 피보나치 수열의 수\"))\r\n",
    "        print(\"반복적인 피보나치 수열: \",self.recursion_fibo(n))\r\n",
    "        print(\"순환하는 피보나치 수열: \", self.iteration_fibo(n))\r\n",
    "\r\n",
    "f1 = Fibonacci()\r\n",
    "f1.fibo()"
   ],
   "outputs": [],
   "metadata": {}
  },
  {
   "cell_type": "code",
   "execution_count": 87,
   "source": [
    "def Ackermann(m,n):\r\n",
    "    if m==0:\r\n",
    "        return n+1\r\n",
    "    elif n==0:\r\n",
    "        return Ackermann(m-1,1)\r\n",
    "    else:\r\n",
    "        return Ackermann(m-1, Ackermann(m,n-1))\r\n",
    "\r\n",
    "print(Ackermann(1,2))"
   ],
   "outputs": [
    {
     "output_type": "stream",
     "name": "stdout",
     "text": [
      "4\n",
      "6\n"
     ]
    }
   ],
   "metadata": {}
  },
  {
   "cell_type": "code",
   "execution_count": 1,
   "source": [
    "def A(m,n):\r\n",
    "    while m!=0:\r\n",
    "        list=[[m],[n]]\r\n",
    "        if n==0:\r\n",
    "            list = [[m-1],[n]]\r\n",
    "            return list\r\n",
    "        else:\r\n",
    "            tmp = [[m],[n-1]]\r\n",
    "            list = [[m-1],[tmp]]\r\n",
    "            \r\n",
    "    return n+1\r\n",
    "\r\n",
    "print(A(1,2))"
   ],
   "outputs": [],
   "metadata": {}
  },
  {
   "cell_type": "code",
   "execution_count": 153,
   "source": [
    "def Ackermann(m,n):\r\n",
    "    if m==0:\r\n",
    "        return n+1\r\n",
    "    elif m==1:\r\n",
    "        return n+2\r\n",
    "    elif m==2:\r\n",
    "        return 2*n + 3\r\n",
    "    elif m==3:\r\n",
    "        return 2**(n+3) -3\r\n",
    "    else:\r\n",
    "        val = 2\r\n",
    "        for i in range(0, n+3):\r\n",
    "            val **= 2\r\n",
    "        return val-3\r\n",
    "print(Ackermann(4,1))"
   ],
   "outputs": [
    {
     "output_type": "stream",
     "name": "stdout",
     "text": [
      "65533\n"
     ]
    }
   ],
   "metadata": {}
  },
  {
   "cell_type": "code",
   "execution_count": null,
   "source": [
    "def Ackermann(m,n):\r\n",
    "    val = 2\r\n",
    "    while True:\r\n",
    "        if m==0:\r\n",
    "            return n+1\r\n",
    "        elif m==1:\r\n",
    "            return n+2\r\n",
    "        elif m==2:\r\n",
    "            return 2*n + 3\r\n",
    "        elif m==3:\r\n",
    "            return 2**(n+3) - 3\r\n",
    "        else:\r\n",
    "            for i in range(1, n+3):"
   ],
   "outputs": [],
   "metadata": {}
  },
  {
   "cell_type": "code",
   "execution_count": 139,
   "source": [
    "val = 2\r\n",
    "print(val)"
   ],
   "outputs": [
    {
     "output_type": "stream",
     "name": "stdout",
     "text": [
      "2\n"
     ]
    }
   ],
   "metadata": {}
  },
  {
   "cell_type": "code",
   "execution_count": 122,
   "source": [
    "for i in range(1,4):\r\n",
    "    print(i)"
   ],
   "outputs": [
    {
     "output_type": "stream",
     "name": "stdout",
     "text": [
      "1\n",
      "2\n",
      "3\n"
     ]
    }
   ],
   "metadata": {}
  },
  {
   "cell_type": "code",
   "execution_count": null,
   "source": [
    "def A(m,n):\r\n",
    "    list = [[m],[n]]\r\n",
    "    while True:\r\n",
    "        if n == 0:\r\n",
    "            "
   ],
   "outputs": [],
   "metadata": {}
  },
  {
   "cell_type": "code",
   "execution_count": 81,
   "source": [
    "def A(m,n):\r\n",
    "    list = [m,n]\r\n",
    "    while"
   ],
   "outputs": [
    {
     "output_type": "error",
     "ename": "TypeError",
     "evalue": "insert expected 2 arguments, got 1",
     "traceback": [
      "\u001b[1;31m---------------------------------------------------------------------------\u001b[0m",
      "\u001b[1;31mTypeError\u001b[0m                                 Traceback (most recent call last)",
      "\u001b[1;32m<ipython-input-81-ad6b2f78e9b8>\u001b[0m in \u001b[0;36m<module>\u001b[1;34m\u001b[0m\n\u001b[0;32m      1\u001b[0m \u001b[0mlist\u001b[0m \u001b[1;33m=\u001b[0m \u001b[1;33m[\u001b[0m\u001b[1;33m[\u001b[0m\u001b[1;36m5\u001b[0m\u001b[1;33m]\u001b[0m\u001b[1;33m,\u001b[0m\u001b[1;33m[\u001b[0m\u001b[1;36m2\u001b[0m\u001b[1;33m]\u001b[0m\u001b[1;33m]\u001b[0m\u001b[1;33m\u001b[0m\u001b[1;33m\u001b[0m\u001b[0m\n\u001b[1;32m----> 2\u001b[1;33m \u001b[0mprint\u001b[0m\u001b[1;33m(\u001b[0m\u001b[0mlist\u001b[0m\u001b[1;33m[\u001b[0m\u001b[1;36m0\u001b[0m\u001b[1;33m]\u001b[0m\u001b[1;33m.\u001b[0m\u001b[0minsert\u001b[0m\u001b[1;33m(\u001b[0m\u001b[1;36m1\u001b[0m\u001b[1;33m)\u001b[0m\u001b[1;33m)\u001b[0m\u001b[1;33m\u001b[0m\u001b[1;33m\u001b[0m\u001b[0m\n\u001b[0m",
      "\u001b[1;31mTypeError\u001b[0m: insert expected 2 arguments, got 1"
     ]
    }
   ],
   "metadata": {}
  },
  {
   "cell_type": "code",
   "execution_count": 84,
   "source": [
    "def fib(n):\r\n",
    "    fibList=[1, 1]\r\n",
    "    if n==1 or n==2:\r\n",
    "        return 1\r\n",
    "    for i in range(2, n):\r\n",
    "        fibList.append( fibList[i-1] + fibList[i-2] )\r\n",
    "    return fibList\r\n",
    "\r\n",
    "fib(5)"
   ],
   "outputs": [
    {
     "output_type": "execute_result",
     "data": {
      "text/plain": [
       "[1, 1, 2, 3, 5]"
      ]
     },
     "metadata": {},
     "execution_count": 84
    }
   ],
   "metadata": {}
  },
  {
   "cell_type": "code",
   "execution_count": null,
   "source": [
    "def A(m,n):\r\n",
    "    list = [m, n]\r\n",
    "    if m == 0:\r\n",
    "        list.append(list[])"
   ],
   "outputs": [],
   "metadata": {}
  },
  {
   "cell_type": "code",
   "execution_count": 89,
   "source": [
    "def A(m,n):\r\n",
    "    while m!=0:\r\n",
    "        list = (m,n)\r\n",
    "        if n==0:\r\n",
    "            return list(m-1, 1)\r\n",
    "        elif m==0:\r\n",
    "            return n+1\r\n",
    "        else:\r\n",
    "            tmp=(m,n)\r\n",
    "            result =(m,n)\r\n",
    "            tmp = list(m,n-1)\r\n",
    "            result = list(m-1,tmp)\r\n",
    "            return result\r\n",
    "print(A(1,2))"
   ],
   "outputs": [
    {
     "output_type": "error",
     "ename": "TypeError",
     "evalue": "'tuple' object is not callable",
     "traceback": [
      "\u001b[1;31m---------------------------------------------------------------------------\u001b[0m",
      "\u001b[1;31mTypeError\u001b[0m                                 Traceback (most recent call last)",
      "\u001b[1;32m<ipython-input-89-555a80671bcd>\u001b[0m in \u001b[0;36m<module>\u001b[1;34m\u001b[0m\n\u001b[0;32m     12\u001b[0m             \u001b[0mresult\u001b[0m \u001b[1;33m=\u001b[0m \u001b[0mlist\u001b[0m\u001b[1;33m(\u001b[0m\u001b[0mm\u001b[0m\u001b[1;33m-\u001b[0m\u001b[1;36m1\u001b[0m\u001b[1;33m,\u001b[0m\u001b[0mtmp\u001b[0m\u001b[1;33m)\u001b[0m\u001b[1;33m\u001b[0m\u001b[1;33m\u001b[0m\u001b[0m\n\u001b[0;32m     13\u001b[0m             \u001b[1;32mreturn\u001b[0m \u001b[0mresult\u001b[0m\u001b[1;33m\u001b[0m\u001b[1;33m\u001b[0m\u001b[0m\n\u001b[1;32m---> 14\u001b[1;33m \u001b[0mprint\u001b[0m\u001b[1;33m(\u001b[0m\u001b[0mA\u001b[0m\u001b[1;33m(\u001b[0m\u001b[1;36m1\u001b[0m\u001b[1;33m,\u001b[0m\u001b[1;36m2\u001b[0m\u001b[1;33m)\u001b[0m\u001b[1;33m)\u001b[0m\u001b[1;33m\u001b[0m\u001b[1;33m\u001b[0m\u001b[0m\n\u001b[0m",
      "\u001b[1;32m<ipython-input-89-555a80671bcd>\u001b[0m in \u001b[0;36mA\u001b[1;34m(m, n)\u001b[0m\n\u001b[0;32m      9\u001b[0m             \u001b[0mtmp\u001b[0m\u001b[1;33m=\u001b[0m\u001b[1;33m(\u001b[0m\u001b[0mm\u001b[0m\u001b[1;33m,\u001b[0m\u001b[0mn\u001b[0m\u001b[1;33m)\u001b[0m\u001b[1;33m\u001b[0m\u001b[1;33m\u001b[0m\u001b[0m\n\u001b[0;32m     10\u001b[0m             \u001b[0mresult\u001b[0m \u001b[1;33m=\u001b[0m\u001b[1;33m(\u001b[0m\u001b[0mm\u001b[0m\u001b[1;33m,\u001b[0m\u001b[0mn\u001b[0m\u001b[1;33m)\u001b[0m\u001b[1;33m\u001b[0m\u001b[1;33m\u001b[0m\u001b[0m\n\u001b[1;32m---> 11\u001b[1;33m             \u001b[0mtmp\u001b[0m \u001b[1;33m=\u001b[0m \u001b[0mlist\u001b[0m\u001b[1;33m(\u001b[0m\u001b[0mm\u001b[0m\u001b[1;33m,\u001b[0m\u001b[0mn\u001b[0m\u001b[1;33m-\u001b[0m\u001b[1;36m1\u001b[0m\u001b[1;33m)\u001b[0m\u001b[1;33m\u001b[0m\u001b[1;33m\u001b[0m\u001b[0m\n\u001b[0m\u001b[0;32m     12\u001b[0m             \u001b[0mresult\u001b[0m \u001b[1;33m=\u001b[0m \u001b[0mlist\u001b[0m\u001b[1;33m(\u001b[0m\u001b[0mm\u001b[0m\u001b[1;33m-\u001b[0m\u001b[1;36m1\u001b[0m\u001b[1;33m,\u001b[0m\u001b[0mtmp\u001b[0m\u001b[1;33m)\u001b[0m\u001b[1;33m\u001b[0m\u001b[1;33m\u001b[0m\u001b[0m\n\u001b[0;32m     13\u001b[0m             \u001b[1;32mreturn\u001b[0m \u001b[0mresult\u001b[0m\u001b[1;33m\u001b[0m\u001b[1;33m\u001b[0m\u001b[0m\n",
      "\u001b[1;31mTypeError\u001b[0m: 'tuple' object is not callable"
     ]
    }
   ],
   "metadata": {}
  },
  {
   "cell_type": "code",
   "execution_count": 95,
   "source": [
    "def A(m,n):\n",
    "    stack = ([])\n",
    "    stack.extend([m,n])\n",
    "    \n",
    "    while len(stack) != 0:\n",
    "        if m==0:\n",
    "            return stack.append(n+1)\n",
    "        elif m==1:\n",
    "            return stack.append(n+2)\n",
    "        elif m == 2:\n",
    "            return stack.append(2*n+3)\n",
    "        elif m == 3:\n",
    "            return stack.append(2**(n+3)-3)\n",
    "        elif n == 0:\n",
    "            return stack.append([m-1, 1])\n",
    "        else:\n",
    "            return stack.append([m-1,m,n-1])\n",
    "    \n",
    "print(A(1,2))"
   ],
   "outputs": [
    {
     "output_type": "stream",
     "name": "stdout",
     "text": [
      "None\n"
     ]
    }
   ],
   "metadata": {}
  },
  {
   "cell_type": "code",
   "execution_count": 105,
   "source": [
    "A = [[0]*100 for _ in range(100)]\n",
    "def ackermann_loop(m, n):\n",
    "    for i in range(1):\n",
    "        for j in range(50):\n",
    "            if i==0:\n",
    "                A[i][j] = n+1\n",
    "            elif j==0:\n",
    "                A[i][j] = A[i][j-1]\n",
    "            else:\n",
    "                tmp = A[i][j-1]\n",
    "                A[i][j] = A[i-1][tmp]\n",
    "print(Ackermann(1,4))"
   ],
   "outputs": [
    {
     "output_type": "stream",
     "name": "stdout",
     "text": [
      "6\n"
     ]
    }
   ],
   "metadata": {}
  },
  {
   "cell_type": "code",
   "execution_count": null,
   "source": [
    "A = [[0]*100 for _ in range(100)]\n",
    "def ackermann_loop(m, n):\n",
    "    for i in range(len(m+1)):\n",
    "        for j in range(50):\n",
    "            if i==0:\n",
    "                A[i][j] = n+1\n",
    "            elif j==0:\n",
    "                A[i][j] = A[i][j-1]\n",
    "            else:\n",
    "                tmp = A[i][j-1]\n",
    "                A[i][j] = A[i-1][tmp]\n",
    "print(Ackermann(1,2))"
   ],
   "outputs": [],
   "metadata": {}
  },
  {
   "cell_type": "code",
   "execution_count": 157,
   "source": [
    "def Ackermann_Loop(m, n):\n",
    "    arr = [0] * 100000\n",
    "    esp = 0\n",
    "    arr[esp] = m\n",
    "    esp = esp + 1\n",
    "    arr[esp] = n\n",
    "    \n",
    "    while 1:\n",
    "        if esp == 0:\n",
    "            return arr[esp]\n",
    "        \n",
    "        elif arr[esp-1] == 0:\n",
    "            arr[esp-1] = arr[esp] + 1\n",
    "            esp = esp - 1\n",
    "            \n",
    "        elif arr[esp] == 0:\n",
    "            arr[esp-1] = arr[esp-1] - 1\n",
    "            arr[esp] = 1\n",
    "            \n",
    "        else:\n",
    "            arr[esp + 1] = arr[esp] - 1\n",
    "            arr[esp] = arr[esp - 1]\n",
    "            arr[esp - 1] = arr[esp - 1] - 1\n",
    "            esp = esp +1\n",
    "print(Ackermann_Loop(2, 3))"
   ],
   "outputs": [
    {
     "output_type": "stream",
     "name": "stdout",
     "text": [
      "9\n"
     ]
    }
   ],
   "metadata": {}
  },
  {
   "cell_type": "code",
   "execution_count": 163,
   "source": [
    "class ListNode:\n",
    "    class Node:\n",
    "        def __init__(self, item, number, link):\n",
    "            self.item = item\n",
    "            self.number = number\n",
    "            self.link = link\n",
    "\n",
    "    def __init__(self):\n",
    "        self.head = None\n",
    "        self.size = 0\n",
    "\n",
    "    def size(self):\n",
    "        return self.size\n",
    "\n",
    "    def is_empty(self):\n",
    "        return self.size==0\n",
    "\n",
    "    def insert_first(self, item, number):\n",
    "        if self.is_empty():\n",
    "            self.head = self.Node(item, number, None)\n",
    "        else:\n",
    "            self.head = self.Node(item, number, self.head)\n",
    "        self.size += 1\n",
    "\n",
    "    \n",
    "    def search(self, item):\n",
    "        p = self.head\n",
    "        for k in range(self.size):\n",
    "            if item == p.item:\n",
    "                return k\n",
    "            p = p.link\n",
    "        return None\n",
    "    \n",
    "    def print_list(self):\n",
    "        p = self.head\n",
    "        q = self.head\n",
    "        while p:\n",
    "            if p.link != None:\n",
    "                print(p.item, q.number, \"->\", end=\" \") \n",
    "            else:\n",
    "                print(p.item, q.number)              \n",
    "            p = p.link\n",
    "            q = q.link  \n",
    "\n",
    "    def eprint_list(self):\n",
    "        p = self.head\n",
    "        q = self.head\n",
    "        while p:\n",
    "            if p.link != None:\n",
    "                if q.number %2 == 0:\n",
    "                    print(\"짝수번호\", p.item, \"->\", end=\" \")\n",
    "            else:\n",
    "                print(p.item, q.number)              \n",
    "            p = p.link\n",
    "            q = q.link    \n",
    "    \n",
    "class EmptyError(Exception):\n",
    "    pass\n",
    "\n",
    "s = ListNode()\n",
    "s.insert_first(\"a\", 1)\n",
    "s.insert_first(\"b\", 2)\n",
    "s.insert_first(\"c\", 3)\n",
    "s.insert_first(\"d\", 4)\n",
    "s.insert_first(\"e\", 5)\n",
    "s.print_list()\n",
    "s.eprint_list()"
   ],
   "outputs": [
    {
     "output_type": "stream",
     "name": "stdout",
     "text": [
      "e 5 -> d 4 -> c 3 -> b 2 -> a 1\n",
      "짝수번호 d -> 짝수번호 b -> a 1\n"
     ]
    }
   ],
   "metadata": {}
  },
  {
   "cell_type": "code",
   "execution_count": null,
   "source": [
    "def split(self):\n",
    "    p = self.head\n",
    "    while p != NULL:\n",
    "        if p.number %2 == 0:\n",
    "            insert(p.data)\n",
    "            p = p.link\n",
    "        else:\n",
    "            insert(p.data)\n",
    "            p = p.link"
   ],
   "outputs": [],
   "metadata": {}
  },
  {
   "cell_type": "code",
   "execution_count": 245,
   "source": [
    "class ListNode:\n",
    "    class Node:\n",
    "        def __init__(self, data, number, link):\n",
    "            self.data = data\n",
    "            self.number = number\n",
    "            self.link = link\n",
    "    \n",
    "    def __init__(self):\n",
    "        self.head = None\n",
    "        self.size = 0\n",
    "        \n",
    "    def size(self):\n",
    "        return self.size\n",
    "    \n",
    "    def is_empty(self):\n",
    "        return self.size == 0\n",
    "    \n",
    "    def insert(self, data, number):\n",
    "        if self.is_empty(): # 연결리스트 공백상태이면\n",
    "            self.head = self.Node(data, number, None)\n",
    "        else:\n",
    "            self.head = self.Node(data, number, self.head)\n",
    "        self.size += 1\n",
    "        \n",
    "    def Eveninsert(self, data):\n",
    "        if self.is_empty():\n",
    "            self.head = self.Node(data, None, None)\n",
    "        else:\n",
    "            self.head = self.Node(data, None, self.head)\n",
    "        self.size += 1\n",
    "            \n",
    "    def Oddinsert(self, data):\n",
    "        if self.is_empty():\n",
    "            self.head = self.Node(data, None, None)\n",
    "        else:\n",
    "            self.head = self.Node(data, None, self.head)\n",
    "        self.size +=1\n",
    "        \n",
    "    def Split(self):\n",
    "        print(\"리스트 분리 중...\")\n",
    "        p = self.head\n",
    "        while p:\n",
    "            if p.number %2 == 0:\n",
    "                self.Eveninsert(p.data)\n",
    "            else:\n",
    "                self.Oddinsert(p.data)\n",
    "            p = p.link\n",
    "        \n",
    "    def print_list(self):\n",
    "        p = self.head\n",
    "        while p:\n",
    "            if p.link != None:\n",
    "                print(p.data, \"->\", end=\" \")\n",
    "            else:\n",
    "                print(p.data)\n",
    "            p = p.link\n",
    "            \n",
    "    def print_Evenlist(self):\n",
    "        e = self.head\n",
    "        print(\"짝수 노드: \", end=\" \")\n",
    "        while e:\n",
    "            if e.link != None:\n",
    "                print(e.data, \"->\", end=\" \")\n",
    "            else:\n",
    "                print(e.data)\n",
    "            e = e.link\n",
    "            \n",
    "    def print_Oddlist(self):\n",
    "        o = self.head\n",
    "        print(\"홀수 노드: \", end=\" \")\n",
    "        while o:\n",
    "            if o.link != None:\n",
    "                print(o.data, \"->\", end=\" \")\n",
    "            else:\n",
    "                print(o.data)\n",
    "            o = o.link"
   ],
   "outputs": [],
   "metadata": {}
  },
  {
   "cell_type": "code",
   "execution_count": 246,
   "source": [
    "s = ListNode()\n",
    "s.insert(\"용연\", 1)\n",
    "s.insert(\"대곤\", 2)\n",
    "s.insert(\"찬영\", 3)\n",
    "s.insert(\"성민\", 4)\n",
    "s.insert(\"희정\", 5)\n",
    "s.print_list()"
   ],
   "outputs": [
    {
     "output_type": "stream",
     "name": "stdout",
     "text": [
      "희정 -> 성민 -> 찬영 -> 대곤 -> 용연\n"
     ]
    }
   ],
   "metadata": {}
  },
  {
   "cell_type": "code",
   "execution_count": 247,
   "source": [
    "s.Split()"
   ],
   "outputs": [
    {
     "output_type": "stream",
     "name": "stdout",
     "text": [
      "리스트 분리 중...\n"
     ]
    }
   ],
   "metadata": {}
  },
  {
   "cell_type": "code",
   "execution_count": 248,
   "source": [
    "s.print_Evenlist()"
   ],
   "outputs": [
    {
     "output_type": "stream",
     "name": "stdout",
     "text": [
      "짝수 노드:  대곤 -> 성민\n"
     ]
    }
   ],
   "metadata": {}
  },
  {
   "cell_type": "code",
   "execution_count": 249,
   "source": [
    "s.print_Oddlist()"
   ],
   "outputs": [
    {
     "output_type": "stream",
     "name": "stdout",
     "text": [
      "홀수 노드:  용연 -> 찬영 -> 희정\n"
     ]
    }
   ],
   "metadata": {}
  },
  {
   "cell_type": "code",
   "execution_count": 3,
   "source": [
    "class ListNode:\n",
    "    class Node:\n",
    "        def __init__(self, data, number, link):\n",
    "            self.data = data\n",
    "            self.number = number\n",
    "            self.link = link\n",
    "    \n",
    "    def __init__(self):\n",
    "        self.Ahead = None; self.Asize = 0\n",
    "        self.Bhead = None; self.Bsize = 0\n",
    "        self.Chead = None; self.Csize = 0\n",
    "\n",
    "    def Asize(self):\n",
    "        return self.Asize\n",
    "    def Bsize(self):\n",
    "        return self.Bsize\n",
    "    def Csize(self):\n",
    "        return self.Csize\n",
    "\n",
    "    def Ais_empty(self):\n",
    "        return self.Asize == 0\n",
    "    def Bis_empty(self):\n",
    "        return self.Bsize == 0\n",
    "    def Cis_empty(self):\n",
    "        return self.Csize == 0\n",
    "\n",
    "    def A_insert(self, data, number):\n",
    "        if self.Ais_empty():\n",
    "            self.Ahead = self.Node(data, number, None)\n",
    "        else:\n",
    "            self.Ahead = self.Node(data, number, self.Ahead)\n",
    "        self.Asize += 1\n",
    "\n",
    "    def B_insert(self, data, number):\n",
    "        if self.Bis_empty():\n",
    "            self.Bhead = self.Node(data, number, None)\n",
    "        else:\n",
    "            self.Bhead = self.Node(data, number, self.Bhead)\n",
    "        self.Bsize += 1\n",
    "\n",
    "    def C_insert(self, data):\n",
    "        if self.Cis_empty():\n",
    "            self.Chead = self.Node(data, None, None)\n",
    "        else:\n",
    "            self.Chead = self.Node(data, None, self.Chead)\n",
    "        self.Csize += 1\n",
    "\n",
    "    def search_Add(self):\n",
    "        a = self.Ahead\n",
    "        b = self.Bhead\n",
    "        while a != None or b != None:\n",
    "            if b != None:\n",
    "                self.C_insert(b.data)\n",
    "                b = b.link\n",
    "            if a != None:\n",
    "                self.C_insert(a.data)\n",
    "                a = a.link\n",
    "            \n",
    "    def print_Alist(self):\n",
    "        print(\"A 연결리스트\")\n",
    "        a = self.Ahead\n",
    "        while a:\n",
    "            if a.link != None:\n",
    "                print(a.data, \"->\", end=\" \")\n",
    "            else:\n",
    "                print(a.data)\n",
    "            a = a.link\n",
    "\n",
    "    def print_Blist(self):\n",
    "        print(\"B 연결리스트\")\n",
    "        b = self.Bhead\n",
    "        while b:\n",
    "            if b.link != None:\n",
    "                print(b.data, \"->\", end=\" \")\n",
    "            else:\n",
    "                print(b.data)\n",
    "            b = b.link\n",
    "\n",
    "    def print_Clist(self):\n",
    "        print(\"C 연결리스트\")\n",
    "        c = self.Chead\n",
    "        while c:\n",
    "            if c.link != None:\n",
    "                print(c.data, \"->\", end=\" \")\n",
    "            else:\n",
    "                print(c.data)\n",
    "            c = c.link\n",
    "\n",
    "s = ListNode()\n",
    "s.A_insert(\"a1\", 1)\n",
    "s.A_insert(\"a2\", 2)\n",
    "s.A_insert(\"a3\", 3)\n",
    "s.A_insert(\"a4\", 4)\n",
    "s.print_Alist()\n",
    "\n",
    "s.B_insert(\"b1\", 1)\n",
    "s.B_insert(\"b2\", 2)\n",
    "s.B_insert(\"b3\", 3)\n",
    "s.B_insert(\"b4\", 4)\n",
    "s.print_Blist()\n",
    "\n",
    "s.search_Add()\n",
    "\n",
    "s.print_Clist()"
   ],
   "outputs": [
    {
     "output_type": "stream",
     "name": "stdout",
     "text": [
      "A 연결리스트\n",
      "a4 -> a3 -> a2 -> a1\n",
      "B 연결리스트\n",
      "b4 -> b3 -> b2 -> b1\n",
      "C 연결리스트\n",
      "a1 -> b1 -> a2 -> b2 -> a3 -> b3 -> a4 -> b4\n"
     ]
    }
   ],
   "metadata": {}
  },
  {
   "cell_type": "code",
   "execution_count": 86,
   "source": [
    "class ListNode:\n",
    "    class Node:\n",
    "        def __init__(self, coef, expon, link):\n",
    "            self.coef = coef\n",
    "            self.expon = expon\n",
    "            self.link = link\n",
    "    \n",
    "    def __init__(self):\n",
    "        self.Ahead = None; self.Asize = 0\n",
    "        self.Bhead = None; self.Bsize = 0\n",
    "        self.Chead = None; self.Csize = 0\n",
    "        \n",
    "    def Asize(self):\n",
    "        return self.Asize\n",
    "    def Bsize(self):\n",
    "        return self.Bsize\n",
    "    def Csize(self):\n",
    "        return self.Csize\n",
    "    \n",
    "    def Ais_empty(self):\n",
    "        return self.Asize == 0\n",
    "    def Bis_empty(self):\n",
    "        return self.Bsize == 0\n",
    "    def Cis_empty(self):\n",
    "        return self.Csize == 0\n",
    "    \n",
    "    def A_insert(self, coef, expon):\n",
    "        if self.Ais_empty():\n",
    "            self.Ahead = self.Node(coef, expon, None)\n",
    "        else:\n",
    "            self.Ahead = self.Node(coef, expon, self.Ahead)\n",
    "        self.Asize += 1\n",
    "    \n",
    "    def B_insert(self, coef, expon):\n",
    "        if self.Bis_empty():\n",
    "            self.Bhead = self.Node(coef, expon, None)\n",
    "        else:\n",
    "            self.Bhead = self.Node(coef, expon, self.Bhead)\n",
    "        self.Bsize += 1\n",
    "        \n",
    "    def C_insert(self, coef, expon):\n",
    "        if self.Cis_empty():\n",
    "            self.Chead = self.Node(coef, expon, None)\n",
    "        else:\n",
    "            self.Chead = self.Node(coef, expon, self.Chead)\n",
    "        self.Csize += 1\n",
    "        \n",
    "    def poly_add(self):\n",
    "        print(\"다항식 계산중...\")\n",
    "        a = self.Ahead; b = self.Bhead; self.sum = 0\n",
    "        while a != None or b != None:\n",
    "            if a.expon == b.expon:\n",
    "                self.sum = a.coef + b.coef\n",
    "                self.C_insert(self.sum, a.expon)\n",
    "                a = a.link; b = b.link\n",
    "            elif a.expon > b.expon:\n",
    "                self.C_insert(a.coef, a.expon)\n",
    "                a = a.link\n",
    "            elif a.expon < b.expon:\n",
    "                self.C_insert(b.coef, b.expon)\n",
    "                b = b.link\n",
    "                \n",
    "    def print_Clist(self):\n",
    "        print(\"C 연결리스트\")\n",
    "        c = self.Chead\n",
    "        while c:\n",
    "            if c.link != None:\n",
    "                print(c.coef,\"^\",c.expon,\"+\", end=\" \")\n",
    "            else:\n",
    "                print(c.coef,\"^\",c.expon)\n",
    "            c = c.link"
   ],
   "outputs": [],
   "metadata": {}
  },
  {
   "cell_type": "code",
   "execution_count": 87,
   "source": [
    "s = ListNode()\n",
    "s.A_insert(3,12); s.A_insert(1,10);\n",
    "s.B_insert(5,12); s.B_insert(5,10); "
   ],
   "outputs": [],
   "metadata": {}
  },
  {
   "cell_type": "code",
   "execution_count": 88,
   "source": [
    "s.poly_add()"
   ],
   "outputs": [
    {
     "output_type": "stream",
     "name": "stdout",
     "text": [
      "다항식 계산중...\n"
     ]
    }
   ],
   "metadata": {}
  },
  {
   "cell_type": "code",
   "execution_count": 89,
   "source": [
    "s.print_Clist()"
   ],
   "outputs": [
    {
     "output_type": "stream",
     "name": "stdout",
     "text": [
      "C 연결리스트\n",
      "8 ^ 12 + 6 ^ 10\n"
     ]
    }
   ],
   "metadata": {}
  },
  {
   "cell_type": "code",
   "execution_count": 91,
   "source": [
    "class Node:\n",
    "    def __init__(self, coef, expon, link):\n",
    "        self.coef = coef\n",
    "        self.expon = expon\n",
    "        self.link = link\n",
    "\n",
    "class ListNode:\n",
    "\n",
    "    def __init__(self):\n",
    "        self.Ahead = None\n",
    "        self.Asize = 0\n",
    "        self.Bhead = None\n",
    "        self.Bsize = 0\n",
    "        self.Chead = None\n",
    "        self.Csize = 0\n",
    "\n",
    "    def Ais_empty(self):\n",
    "        return self.Asize == 0\n",
    "\n",
    "    def Bis_empty(self):\n",
    "        return self.Bsize == 0\n",
    "\n",
    "    def Cis_empty(self):\n",
    "        return self.Csize == 0\n",
    "\n",
    "    def A_insert(self, coef, expon):\n",
    "        if self.Ais_empty():\n",
    "            self.Ahead = Node(coef, expon, None)\n",
    "        else:\n",
    "            self.Ahead = Node(coef, expon, self.Ahead)\n",
    "        self.Asize += 1\n",
    "\n",
    "    def B_insert(self, coef, expon):\n",
    "        if self.Bis_empty():\n",
    "            self.Bhead = Node(coef, expon, None)\n",
    "        else:\n",
    "            self.Bhead = Node(coef, expon, self.Bhead)\n",
    "        self.Bsize += 1\n",
    "\n",
    "    def C_insert(self, coef, expon):\n",
    "        if self.Cis_empty():\n",
    "            self.Chead = Node(coef, expon, None)\n",
    "        else:\n",
    "            self.Chead = Node(coef, expon, self.Chead)\n",
    "        self.Csize += 1\n",
    "\n",
    "    def poly_add(self):\n",
    "        print(\"다항식 계산중...\")\n",
    "        a = self.Ahead\n",
    "        b = self.Bhead\n",
    "        sum = 0\n",
    "        while a != None and b != None:      # 하나라도 None이 되면 나온다.\n",
    "            if a.expon == b.expon:\n",
    "                sum = a.coef + b.coef\n",
    "                self.C_insert(sum, a.expon)\n",
    "                a = a.link\n",
    "                b = b.link\n",
    "            elif a.expon > b.expon:\n",
    "                self.C_insert(a.coef, a.expon)\n",
    "                a = a.link\n",
    "            elif a.expon < b.expon:\n",
    "                self.C_insert(b.coef, b.expon)\n",
    "                b = b.link\n",
    "        if a is None:\n",
    "            while b is not None:\n",
    "                self.C_insert(b.coef, b.expon)\n",
    "                b = b.link\n",
    "        elif b is None:\n",
    "            while a is not None:\n",
    "                self.C_insert(a.coef, a.expon)\n",
    "                a = a.link\n",
    "        # 둘다 None이 되어야 함수가 끝난다.\n",
    "\n",
    "    def print_Clist(self):\n",
    "        print(\"C 연결리스트\")\n",
    "        c = self.Chead\n",
    "        while c:\n",
    "            if c.link != None:\n",
    "                print(c.coef, \"^\", c.expon, \"+\", end = \" \")\n",
    "            else:\n",
    "                print(c.coef, \"^\", c.expon)\n",
    "            c = c.link\n",
    "\n",
    "a = ListNode()\n",
    "a.A_insert(3,12)\n",
    "a.A_insert(2,8)\n",
    "a.A_insert(1,0)\n",
    "\n",
    "a.B_insert(8,12)\n",
    "a.B_insert(-3,10)\n",
    "a.B_insert(10,6)\n",
    "a.poly_add()\n",
    "a.print_Clist()"
   ],
   "outputs": [
    {
     "output_type": "stream",
     "name": "stdout",
     "text": [
      "다항식 계산중...\n",
      "C 연결리스트\n",
      "3 ^ 12 + 2 ^ 8 + 1 ^ 0 + 8 ^ 12 + -3 ^ 10 + 10 ^ 6\n"
     ]
    }
   ],
   "metadata": {}
  },
  {
   "cell_type": "code",
   "execution_count": 101,
   "source": [
    "class ListNode:\n",
    "    class Node:\n",
    "        def __init__(self, data, number, link):\n",
    "            self.data = data\n",
    "            self.number = number\n",
    "            self.link = link\n",
    "    \n",
    "    def __init__(self):\n",
    "        self.head = None\n",
    "        self.Even_head = None\n",
    "        self.Odd_head = None\n",
    "        self.size = 0\n",
    "        \n",
    "    def size(self):\n",
    "        return self.size\n",
    "    \n",
    "    def is_empty(self):\n",
    "        return self.size == 0\n",
    "    \n",
    "    def insert(self, data, number):\n",
    "        if self.is_empty(): # 연결리스트 공백상태이면\n",
    "            self.head = self.Node(data, number, None)\n",
    "        else:\n",
    "            self.head = self.Node(data, number, self.head)\n",
    "        self.size += 1\n",
    "        \n",
    "    def Eveninsert(self, data):\n",
    "        if self.is_empty():\n",
    "            self.Even_head = self.Node(data, None, None)\n",
    "        else:\n",
    "            self.Even_head = self.Node(data, None, self.Even_head)\n",
    "        self.size += 1\n",
    "            \n",
    "    def Oddinsert(self, data):\n",
    "        if self.is_empty():\n",
    "            self.Odd_head = self.Node(data, None, None)\n",
    "        else:\n",
    "            self.Odd_head = self.Node(data, None, self.Odd_head)\n",
    "        self.size +=1\n",
    "        \n",
    "    def Split(self):\n",
    "        print(\"리스트 분리 중...\")\n",
    "        p = self.head\n",
    "        while p:\n",
    "            if p.number %2 == 0:\n",
    "                self.Eveninsert(p.data)\n",
    "            else:\n",
    "                self.Oddinsert(p.data)\n",
    "            p = p.link\n",
    "        \n",
    "    def print_list(self):\n",
    "        p = self.head\n",
    "        while True:\n",
    "            if p.link != None:\n",
    "                print(p.data, \"->\", end=\" \")\n",
    "            else:\n",
    "                print(p.data)\n",
    "                break\n",
    "            p = p.link\n",
    "            \n",
    "    def print_Evenlist(self):\n",
    "        e = self.Even_head\n",
    "        print(\"짝수 노드: \", end=\" \")\n",
    "        while e:\n",
    "            if e.link != None:\n",
    "                print(e.data, \"  \", end=\" \")\n",
    "            else:\n",
    "                print(e.data)\n",
    "            e = e.link\n",
    "            \n",
    "    def print_Oddlist(self):\n",
    "        o = self.Odd_head\n",
    "        print(\"홀수 노드: \", end=\" \")\n",
    "        while o:\n",
    "            if o.link != None:\n",
    "                print(o.data, \"  \", end=\" \")\n",
    "            else:\n",
    "                print(o.data)\n",
    "            o = o.link\n",
    "\n",
    "s = ListNode()\n",
    "s.insert(\"용연\", 1)\n",
    "s.insert(\"대곤\", 2)\n",
    "s.insert(\"찬영\", 3)\n",
    "s.insert(\"성민\", 4)\n",
    "s.insert(\"희정\", 5)\n",
    "s.print_list()\n",
    "s.Split()\n",
    "s.print_Evenlist()\n",
    "s.print_Oddlist()"
   ],
   "outputs": [
    {
     "output_type": "stream",
     "name": "stdout",
     "text": [
      "희정 -> 성민 -> 찬영 -> 대곤 -> 용연\n",
      "리스트 분리 중...\n",
      "짝수 노드:  대곤    성민\n",
      "홀수 노드:  용연    찬영    희정\n"
     ]
    }
   ],
   "metadata": {}
  },
  {
   "cell_type": "code",
   "execution_count": 1,
   "source": [
    "class ListNode:\n",
    "    class Node:\n",
    "        def __init__(self, data, link):\n",
    "            self.data = data\n",
    "            \n",
    "            self.link = link\n",
    "    \n",
    "    def __init__(self):\n",
    "        self.Ahead = None; self.Asize = 0\n",
    "        self.Bhead = None; self.Bsize = 0\n",
    "        self.Chead = None; self.Csize = 0\n",
    "\n",
    "    def Asize(self):\n",
    "        return self.Asize\n",
    "    def Bsize(self):\n",
    "        return self.Bsize\n",
    "    def Csize(self):\n",
    "        return self.Csize\n",
    "\n",
    "    def Ais_empty(self):\n",
    "        return self.Asize == 0\n",
    "    def Bis_empty(self):\n",
    "        return self.Bsize == 0\n",
    "    def Cis_empty(self):\n",
    "        return self.Csize == 0\n",
    "\n",
    "    def A_insert(self, data):\n",
    "        if self.Ais_empty():\n",
    "            self.Ahead = self.Node(data, None)\n",
    "        else:\n",
    "            self.Ahead = self.Node(data, self.Ahead)\n",
    "        self.Asize += 1\n",
    "\n",
    "    def B_insert(self, data):\n",
    "        if self.Bis_empty():\n",
    "            self.Bhead = self.Node(data, None)\n",
    "        else:\n",
    "            self.Bhead = self.Node(data, self.Bhead)\n",
    "        self.Bsize += 1\n",
    "\n",
    "    def C_insert(self, data):\n",
    "        if self.Cis_empty():\n",
    "            self.Chead = self.Node(data, None)\n",
    "        else:\n",
    "            self.Chead = self.Node(data, self.Chead)\n",
    "        self.Csize += 1\n",
    "\n",
    "    def alternate(self):\n",
    "        print(\"alternate함수 작동...\")\n",
    "        a = self.Ahead\n",
    "        b = self.Bhead\n",
    "        while a != None or b != None:\n",
    "            if a != None:\n",
    "                self.C_insert(a.data)\n",
    "                a = a.link\n",
    "            if b != None:\n",
    "                self.C_insert(b.data)\n",
    "                b = b.link\n",
    "            \n",
    "    def print_Alist(self):\n",
    "        print(\"A 연결리스트\")\n",
    "        a = self.Ahead\n",
    "        while a:\n",
    "            if a.link != None:\n",
    "                print(a.data, \"->\", end=\" \")\n",
    "            else:\n",
    "                print(a.data)\n",
    "            a = a.link\n",
    "\n",
    "    def print_Blist(self):\n",
    "        print(\"B 연결리스트\")\n",
    "        b = self.Bhead\n",
    "        while b:\n",
    "            if b.link != None:\n",
    "                print(b.data, \"->\", end=\" \")\n",
    "            else:\n",
    "                print(b.data)\n",
    "            b = b.link\n",
    "\n",
    "    def print_Clist(self):\n",
    "        print(\"C 연결리스트\")\n",
    "        c = self.Chead\n",
    "        while c:\n",
    "            if c.link != None:\n",
    "                print(c.data, \"->\", end=\" \")\n",
    "            else:\n",
    "                print(c.data)\n",
    "            c = c.link\n",
    "\n",
    "s = ListNode()\n",
    "s.A_insert(\"a1\")\n",
    "s.A_insert(\"a2\")\n",
    "s.A_insert(\"a3\")\n",
    "s.A_insert(\"a4\")\n",
    "s.print_Alist()\n",
    "\n",
    "s.B_insert(\"b1\")\n",
    "s.B_insert(\"b2\")\n",
    "s.B_insert(\"b3\")\n",
    "s.B_insert(\"b4\")\n",
    "s.print_Blist()\n",
    "\n",
    "s.alternate()\n",
    "\n",
    "s.print_Clist()"
   ],
   "outputs": [
    {
     "output_type": "stream",
     "name": "stdout",
     "text": [
      "A 연결리스트\n",
      "a4 -> a3 -> a2 -> a1\n",
      "B 연결리스트\n",
      "b4 -> b3 -> b2 -> b1\n",
      "alternate함수 작동...\n",
      "C 연결리스트\n",
      "b1 -> a1 -> b2 -> a2 -> b3 -> a3 -> b4 -> a4\n"
     ]
    }
   ],
   "metadata": {}
  },
  {
   "cell_type": "code",
   "execution_count": 4,
   "source": [
    "class ListNode:\n",
    "    class Node:\n",
    "        def __init__(self, coef, expon, link):\n",
    "            self.coef = coef\n",
    "            self.expon = expon\n",
    "            self.link = link\n",
    "    \n",
    "    def __init__(self):\n",
    "        self.Ahead = None; self.Asize = 0\n",
    "        self.Bhead = None; self.Bsize = 0\n",
    "        self.Chead = None; self.Csize = 0\n",
    "    \n",
    "    def Ais_empty(self):\n",
    "        return self.Asize == 0\n",
    "    def Bis_empty(self):\n",
    "        return self.Bsize == 0\n",
    "    def Cis_empty(self):\n",
    "        return self.Csize == 0\n",
    "    \n",
    "    def A_insert(self, coef, expon):\n",
    "        if self.Ais_empty():\n",
    "            self.Ahead = self.Node(coef, expon, None)\n",
    "        else:\n",
    "            self.Ahead = self.Node(coef, expon, self.Ahead)\n",
    "        self.Asize += 1\n",
    "    \n",
    "    def B_insert(self, coef, expon):\n",
    "        if self.Bis_empty():\n",
    "            self.Bhead = self.Node(coef, expon, None)\n",
    "        else:\n",
    "            self.Bhead = self.Node(coef, expon, self.Bhead)\n",
    "        self.Bsize += 1\n",
    "        \n",
    "    def C_insert(self, coef, expon):\n",
    "        if self.Cis_empty():\n",
    "            self.Chead = self.Node(coef, expon, None)\n",
    "        else:\n",
    "            self.Chead = self.Node(coef, expon, self.Chead)\n",
    "        self.Csize += 1\n",
    "        \n",
    "    def poly_add(self):\n",
    "        print(\"다항식 계산중...\")\n",
    "        a = self.Ahead; b = self.Bhead; self.sum = 0\n",
    "        while a != None or b != None:\n",
    "            if a.expon == b.expon:\n",
    "                self.sum = a.coef + b.coef\n",
    "                self.C_insert(self.sum, a.expon)\n",
    "                a = a.link; b = b.link\n",
    "            elif a.expon > b.expon:\n",
    "                self.C_insert(a.coef, a.expon)\n",
    "                a = a.link\n",
    "            elif a.expon < b.expon:\n",
    "                self.C_insert(b.coef, b.expon)\n",
    "                b = b.link\n",
    "        \n",
    "        while a:\n",
    "            self.C_insert(a.coef, a.expon)\n",
    "            a = a.link\n",
    "        while b:\n",
    "            self.C_insert(b.coef, b.expon)\n",
    "            b = b.link\n",
    "                \n",
    "    def print_Clist(self):\n",
    "        print(\"C 연결리스트\")\n",
    "        c = self.Chead\n",
    "        while c:\n",
    "            if c.link != None:\n",
    "                print(c.coef,\"^\",c.expon,\"+\")\n",
    "            else:\n",
    "                print(c.coef,\"^\",c.expon,\"+\")\n",
    "            c = c.link\n",
    "\n",
    "s = ListNode()\n",
    "s.A_insert(3,12); s.A_insert(2,8); s.A_insert(1,0)\n",
    "s.B_insert(5,12); s.B_insert(8,12); s.B_insert(10,6)\n",
    "\n",
    "s.poly_add()\n",
    "s.print_Clist()"
   ],
   "outputs": [
    {
     "output_type": "stream",
     "name": "stdout",
     "text": [
      "다항식 계산중...\n"
     ]
    },
    {
     "output_type": "error",
     "ename": "AttributeError",
     "evalue": "'NoneType' object has no attribute 'expon'",
     "traceback": [
      "\u001b[1;31m---------------------------------------------------------------------------\u001b[0m",
      "\u001b[1;31mAttributeError\u001b[0m                            Traceback (most recent call last)",
      "\u001b[1;32m<ipython-input-4-b6d462d6eef4>\u001b[0m in \u001b[0;36m<module>\u001b[1;34m\u001b[0m\n\u001b[0;32m     75\u001b[0m \u001b[0ms\u001b[0m\u001b[1;33m.\u001b[0m\u001b[0mB_insert\u001b[0m\u001b[1;33m(\u001b[0m\u001b[1;36m5\u001b[0m\u001b[1;33m,\u001b[0m\u001b[1;36m12\u001b[0m\u001b[1;33m)\u001b[0m\u001b[1;33m;\u001b[0m \u001b[0ms\u001b[0m\u001b[1;33m.\u001b[0m\u001b[0mB_insert\u001b[0m\u001b[1;33m(\u001b[0m\u001b[1;36m8\u001b[0m\u001b[1;33m,\u001b[0m\u001b[1;36m12\u001b[0m\u001b[1;33m)\u001b[0m\u001b[1;33m;\u001b[0m \u001b[0ms\u001b[0m\u001b[1;33m.\u001b[0m\u001b[0mB_insert\u001b[0m\u001b[1;33m(\u001b[0m\u001b[1;36m10\u001b[0m\u001b[1;33m,\u001b[0m\u001b[1;36m6\u001b[0m\u001b[1;33m)\u001b[0m\u001b[1;33m\u001b[0m\u001b[1;33m\u001b[0m\u001b[0m\n\u001b[0;32m     76\u001b[0m \u001b[1;33m\u001b[0m\u001b[0m\n\u001b[1;32m---> 77\u001b[1;33m \u001b[0ms\u001b[0m\u001b[1;33m.\u001b[0m\u001b[0mpoly_add\u001b[0m\u001b[1;33m(\u001b[0m\u001b[1;33m)\u001b[0m\u001b[1;33m\u001b[0m\u001b[1;33m\u001b[0m\u001b[0m\n\u001b[0m\u001b[0;32m     78\u001b[0m \u001b[0ms\u001b[0m\u001b[1;33m.\u001b[0m\u001b[0mprint_Clist\u001b[0m\u001b[1;33m(\u001b[0m\u001b[1;33m)\u001b[0m\u001b[1;33m\u001b[0m\u001b[1;33m\u001b[0m\u001b[0m\n",
      "\u001b[1;32m<ipython-input-4-b6d462d6eef4>\u001b[0m in \u001b[0;36mpoly_add\u001b[1;34m(self)\u001b[0m\n\u001b[0;32m     43\u001b[0m         \u001b[0ma\u001b[0m \u001b[1;33m=\u001b[0m \u001b[0mself\u001b[0m\u001b[1;33m.\u001b[0m\u001b[0mAhead\u001b[0m\u001b[1;33m;\u001b[0m \u001b[0mb\u001b[0m \u001b[1;33m=\u001b[0m \u001b[0mself\u001b[0m\u001b[1;33m.\u001b[0m\u001b[0mBhead\u001b[0m\u001b[1;33m;\u001b[0m \u001b[0mself\u001b[0m\u001b[1;33m.\u001b[0m\u001b[0msum\u001b[0m \u001b[1;33m=\u001b[0m \u001b[1;36m0\u001b[0m\u001b[1;33m\u001b[0m\u001b[1;33m\u001b[0m\u001b[0m\n\u001b[0;32m     44\u001b[0m         \u001b[1;32mwhile\u001b[0m \u001b[0ma\u001b[0m \u001b[1;33m!=\u001b[0m \u001b[1;32mNone\u001b[0m \u001b[1;32mor\u001b[0m \u001b[0mb\u001b[0m \u001b[1;33m!=\u001b[0m \u001b[1;32mNone\u001b[0m\u001b[1;33m:\u001b[0m\u001b[1;33m\u001b[0m\u001b[1;33m\u001b[0m\u001b[0m\n\u001b[1;32m---> 45\u001b[1;33m             \u001b[1;32mif\u001b[0m \u001b[0ma\u001b[0m\u001b[1;33m.\u001b[0m\u001b[0mexpon\u001b[0m \u001b[1;33m==\u001b[0m \u001b[0mb\u001b[0m\u001b[1;33m.\u001b[0m\u001b[0mexpon\u001b[0m\u001b[1;33m:\u001b[0m\u001b[1;33m\u001b[0m\u001b[1;33m\u001b[0m\u001b[0m\n\u001b[0m\u001b[0;32m     46\u001b[0m                 \u001b[0mself\u001b[0m\u001b[1;33m.\u001b[0m\u001b[0msum\u001b[0m \u001b[1;33m=\u001b[0m \u001b[0ma\u001b[0m\u001b[1;33m.\u001b[0m\u001b[0mcoef\u001b[0m \u001b[1;33m+\u001b[0m \u001b[0mb\u001b[0m\u001b[1;33m.\u001b[0m\u001b[0mcoef\u001b[0m\u001b[1;33m\u001b[0m\u001b[1;33m\u001b[0m\u001b[0m\n\u001b[0;32m     47\u001b[0m                 \u001b[0mself\u001b[0m\u001b[1;33m.\u001b[0m\u001b[0mC_insert\u001b[0m\u001b[1;33m(\u001b[0m\u001b[0mself\u001b[0m\u001b[1;33m.\u001b[0m\u001b[0msum\u001b[0m\u001b[1;33m,\u001b[0m \u001b[0ma\u001b[0m\u001b[1;33m.\u001b[0m\u001b[0mexpon\u001b[0m\u001b[1;33m)\u001b[0m\u001b[1;33m\u001b[0m\u001b[1;33m\u001b[0m\u001b[0m\n",
      "\u001b[1;31mAttributeError\u001b[0m: 'NoneType' object has no attribute 'expon'"
     ]
    }
   ],
   "metadata": {}
  },
  {
   "cell_type": "code",
   "execution_count": null,
   "source": [
    "class Node:\n",
    "    def __init__(self, coef, expon, link):\n",
    "        self.coef = coef\n",
    "        self.expon = expon\n",
    "        self.link = link\n",
    "\n",
    "class ListNode:\n",
    "\n",
    "    def __init__(self):\n",
    "        self.Ahead = None\n",
    "        self.Asize = 0\n",
    "        self.Bhead = None\n",
    "        self.Bsize = 0\n",
    "        self.Chead = None\n",
    "        self.Csize = 0\n",
    "\n",
    "    def Ais_empty(self):\n",
    "        return self.Asize == 0\n",
    "\n",
    "    def Bis_empty(self):\n",
    "        return self.Bsize == 0\n",
    "\n",
    "    def Cis_empty(self):\n",
    "        return self.Csize == 0\n",
    "\n",
    "    def A_insert(self, coef, expon):\n",
    "        if self.Ais_empty():\n",
    "            self.Ahead = Node(coef, expon, None)\n",
    "        else:\n",
    "            self.Ahead = Node(coef, expon, self.Ahead)\n",
    "        self.Asize += 1\n",
    "\n",
    "    def B_insert(self, coef, expon):\n",
    "        if self.Bis_empty():\n",
    "            self.Bhead = Node(coef, expon, None)\n",
    "        else:\n",
    "            self.Bhead = Node(coef, expon, self.Bhead)\n",
    "        self.Bsize += 1\n",
    "\n",
    "    def C_insert(self, coef, expon):\n",
    "        if self.Cis_empty():\n",
    "            self.Chead = Node(coef, expon, None)\n",
    "        else:\n",
    "            self.Chead = Node(coef, expon, self.Chead)\n",
    "        self.Csize += 1\n",
    "\n",
    "    def poly_add(self):\n",
    "        print(\"다항식 계산중...\")\n",
    "        a = self.Ahead\n",
    "        b = self.Bhead\n",
    "        sum = 0\n",
    "        while a != None and b != None:      # 하나라도 None이 되면 나온다.\n",
    "            if a.expon == b.expon:\n",
    "                sum = a.coef + b.coef\n",
    "                self.C_insert(sum, a.expon)\n",
    "                a = a.link\n",
    "                b = b.link\n",
    "            elif a.expon > b.expon:\n",
    "                self.C_insert(a.coef, a.expon)\n",
    "                a = a.link\n",
    "            elif a.expon < b.expon:\n",
    "                self.C_insert(b.coef, b.expon)\n",
    "                b = b.link\n",
    "        if a is None:\n",
    "            while b is not None:\n",
    "                self.C_insert(b.coef, b.expon)\n",
    "                b = b.link\n",
    "        elif b is None:\n",
    "            while a is not None:\n",
    "                self.C_insert(a.coef, a.expon)\n",
    "                a = a.link\n",
    "        # 둘다 None이 되어야 함수가 끝난다.\n",
    "\n",
    "    def print_Clist(self):\n",
    "        print(\"C 연결리스트\")\n",
    "        c = self.Chead\n",
    "        while c:\n",
    "            if c.link != None:\n",
    "                print(c.coef, \"^\", c.expon, \"+\", end = \" \")\n",
    "            else:\n",
    "                print(c.coef, \"^\", c.expon)\n",
    "            c = c.link\n",
    "\n",
    "a = ListNode()\n",
    "a.A_insert(3,1)\n",
    "a.A_insert(2,2)\n",
    "a.A_insert(1,3)\n",
    "\n",
    "a.B_insert(2,2)\n",
    "a.B_insert(3,3)\n",
    "a.B_insert(2,4)\n",
    "a.poly_add()\n",
    "a.print_Clist()"
   ],
   "outputs": [],
   "metadata": {}
  },
  {
   "cell_type": "code",
   "execution_count": 94,
   "source": [
    "class CircularList:\n",
    "    class Node:\n",
    "        def __init__(self, data, link):\n",
    "            self.data = data\n",
    "            self.lnk = link\n",
    "            \n",
    "    def __init__(self):\n",
    "        self.head = None\n",
    "        self.size = 0\n",
    "        \n",
    "    def Size(self):\n",
    "        return self.size\n",
    "    \n",
    "    def Is_empty(self):\n",
    "        return self.size == 0\n",
    "    \n",
    "    def Insert(self, data):\n",
    "        print(\"원형 연결 리스트 앞에 '%d' 삽입\" % data)\n",
    "        p = self.Node(data, None)\n",
    "        if self.Is_empty():\n",
    "            self.head = p\n",
    "            p.link = self.head\n",
    "        else:\n",
    "            p.link = self.head.link\n",
    "            self.head.link = p\n",
    "        self.size += 1\n",
    "        \n",
    "    def Search(self, data):\n",
    "        print(\"탐색할 data는 '%d' 입니다.\" % data)\n",
    "        count = 1\n",
    "        if self.Is_empty():\n",
    "            raise EmptyError(\"탐색할 원형 연결 리스트 없음!\")\n",
    "        else:\n",
    "            first = self.head.link\n",
    "            x = self.Node(data, None)\n",
    "            y = first\n",
    "            while y.link != first:\n",
    "                if x.data == y.data:\n",
    "                    print(\"탐색한 데이터 '%d'는 '%d' 번째\" % (data, count))\n",
    "                    y = y.link\n",
    "                else:\n",
    "                    y = y.link\n",
    "                    count += 1\n",
    "                    \n",
    "    def Print_list(self):\n",
    "        print(\"현재 원형 리스트 상태:\", end=\" \")\n",
    "        if self.Is_empty():\n",
    "            print(\"공백상태\")\n",
    "        else:\n",
    "            f = self.head.link\n",
    "            p = f\n",
    "            while p.link != f:\n",
    "                print(p.data, \"->\", end=\" \")\n",
    "                p = p.link\n",
    "            print(p.data)\n",
    "                        \n",
    "class EmptyError(Exception):\n",
    "    pass\n",
    "\n",
    "c = CircularList()"
   ],
   "outputs": [],
   "metadata": {}
  },
  {
   "cell_type": "code",
   "execution_count": 95,
   "source": [
    "c.Insert(10)\n",
    "c.Insert(20)\n",
    "c.Insert(30)\n",
    "c.Insert(40)\n",
    "c.Print_list()"
   ],
   "outputs": [
    {
     "output_type": "stream",
     "name": "stdout",
     "text": [
      "원형 연결 리스트 앞에 '10' 삽입\n",
      "원형 연결 리스트 앞에 '20' 삽입\n",
      "원형 연결 리스트 앞에 '30' 삽입\n",
      "원형 연결 리스트 앞에 '40' 삽입\n",
      "현재 원형 리스트 상태: 40 -> 30 -> 20 -> 10\n"
     ]
    }
   ],
   "metadata": {}
  },
  {
   "cell_type": "code",
   "execution_count": 97,
   "source": [
    "c.Search(20)"
   ],
   "outputs": [
    {
     "output_type": "stream",
     "name": "stdout",
     "text": [
      "탐색할 data는 '20' 입니다.\n",
      "탐색한 데이터 '20'는 '3' 번째\n"
     ]
    }
   ],
   "metadata": {}
  },
  {
   "cell_type": "code",
   "execution_count": 101,
   "source": [
    "class CircularList:\n",
    "    class Node:\n",
    "        def __init__(self, data, link):\n",
    "            self.data = data\n",
    "            self.lnk = link\n",
    "            \n",
    "    def __init__(self):\n",
    "        self.head = None\n",
    "        self.size = 0\n",
    "    \n",
    "    def Is_empty(self):\n",
    "        return self.size == 0\n",
    "    \n",
    "    def Insert(self, data):\n",
    "        print(\"원형 연결 리스트 앞에 '%d' 삽입\" % data)\n",
    "        p = self.Node(data, None)\n",
    "        if self.Is_empty():\n",
    "            self.head = p\n",
    "            p.link = self.head\n",
    "        else:\n",
    "            p.link = self.head.link\n",
    "            self.head.link = p\n",
    "        self.size += 1\n",
    "        \n",
    "    def Search(self, data):\n",
    "        print(\"탐색할 data는 '%d' 입니다.\" % data)\n",
    "        count = 1\n",
    "        if self.Is_empty():\n",
    "            raise EmptyError\n",
    "        else:\n",
    "            first = self.head.link\n",
    "            x = self.Node(data, None)\n",
    "            y = first\n",
    "            while y.link != first:\n",
    "                if x.data == y.data:\n",
    "                    print(\"탐색한 데이터 '%d'는 '%d' 번째\" % (data, count))\n",
    "                    break\n",
    "                else:\n",
    "                    y = y.link\n",
    "                    count += 1\n",
    "                    \n",
    "    def Print_list(self):\n",
    "        print(\"현재 원형 리스트 상태:\", end=\" \")\n",
    "        if self.Is_empty():\n",
    "            print(\"공백상태\")\n",
    "        else:\n",
    "            first = self.head.link\n",
    "            p = first\n",
    "            while p.link != first:\n",
    "                print(p.data, \"->\", end=\" \")\n",
    "                p = p.link\n",
    "            print(p.data)\n",
    "                        \n",
    "                \n",
    "class EmptyError(Exception):\n",
    "    print(\"탐색할 원형 연결 리스트 없음!\")\n",
    "\n",
    "c = CircularList()\n",
    "\n",
    "c.Search(30)"
   ],
   "outputs": [
    {
     "output_type": "stream",
     "name": "stdout",
     "text": [
      "탐색할 원형 연결 리스트 없음!\n",
      "탐색할 data는 '30' 입니다.\n"
     ]
    },
    {
     "output_type": "error",
     "ename": "EmptyError",
     "evalue": "",
     "traceback": [
      "\u001b[1;31m---------------------------------------------------------------------------\u001b[0m",
      "\u001b[1;31mEmptyError\u001b[0m                                Traceback (most recent call last)",
      "\u001b[1;32m<ipython-input-101-7133f1e7ca48>\u001b[0m in \u001b[0;36m<module>\u001b[1;34m\u001b[0m\n\u001b[0;32m     58\u001b[0m \u001b[0mc\u001b[0m \u001b[1;33m=\u001b[0m \u001b[0mCircularList\u001b[0m\u001b[1;33m(\u001b[0m\u001b[1;33m)\u001b[0m\u001b[1;33m\u001b[0m\u001b[1;33m\u001b[0m\u001b[0m\n\u001b[0;32m     59\u001b[0m \u001b[1;33m\u001b[0m\u001b[0m\n\u001b[1;32m---> 60\u001b[1;33m \u001b[0mc\u001b[0m\u001b[1;33m.\u001b[0m\u001b[0mSearch\u001b[0m\u001b[1;33m(\u001b[0m\u001b[1;36m30\u001b[0m\u001b[1;33m)\u001b[0m\u001b[1;33m\u001b[0m\u001b[1;33m\u001b[0m\u001b[0m\n\u001b[0m",
      "\u001b[1;32m<ipython-input-101-7133f1e7ca48>\u001b[0m in \u001b[0;36mSearch\u001b[1;34m(self, data)\u001b[0m\n\u001b[0;32m     27\u001b[0m         \u001b[0mcount\u001b[0m \u001b[1;33m=\u001b[0m \u001b[1;36m1\u001b[0m\u001b[1;33m\u001b[0m\u001b[1;33m\u001b[0m\u001b[0m\n\u001b[0;32m     28\u001b[0m         \u001b[1;32mif\u001b[0m \u001b[0mself\u001b[0m\u001b[1;33m.\u001b[0m\u001b[0mIs_empty\u001b[0m\u001b[1;33m(\u001b[0m\u001b[1;33m)\u001b[0m\u001b[1;33m:\u001b[0m\u001b[1;33m\u001b[0m\u001b[1;33m\u001b[0m\u001b[0m\n\u001b[1;32m---> 29\u001b[1;33m             \u001b[1;32mraise\u001b[0m \u001b[0mEmptyError\u001b[0m\u001b[1;33m\u001b[0m\u001b[1;33m\u001b[0m\u001b[0m\n\u001b[0m\u001b[0;32m     30\u001b[0m         \u001b[1;32melse\u001b[0m\u001b[1;33m:\u001b[0m\u001b[1;33m\u001b[0m\u001b[1;33m\u001b[0m\u001b[0m\n\u001b[0;32m     31\u001b[0m             \u001b[0mfirst\u001b[0m \u001b[1;33m=\u001b[0m \u001b[0mself\u001b[0m\u001b[1;33m.\u001b[0m\u001b[0mhead\u001b[0m\u001b[1;33m.\u001b[0m\u001b[0mlink\u001b[0m\u001b[1;33m\u001b[0m\u001b[1;33m\u001b[0m\u001b[0m\n",
      "\u001b[1;31mEmptyError\u001b[0m: "
     ]
    }
   ],
   "metadata": {}
  },
  {
   "cell_type": "code",
   "execution_count": 122,
   "source": [
    "data = input(\"데이터를 입력하시오: \")\n",
    "data = data.lower()\n",
    "data"
   ],
   "outputs": [
    {
     "output_type": "stream",
     "name": "stdout",
     "text": [
      "데이터를 입력하시오: aaaAbBb\n"
     ]
    },
    {
     "output_type": "execute_result",
     "data": {
      "text/plain": [
       "'aaaabbb'"
      ]
     },
     "metadata": {},
     "execution_count": 122
    }
   ],
   "metadata": {}
  },
  {
   "cell_type": "code",
   "execution_count": 127,
   "source": [
    "result=''\n",
    "count = 1\n",
    "for i in range(1, len(data)):\n",
    "    if data[i] == data[i-1]:\n",
    "        count += 1\n",
    "    else:\n",
    "        result += data[i-1] + str(count)\n",
    "        count = 1\n",
    "        \n",
    "    if i == len(data)-1:\n",
    "        result += data[i] + str(count)\n",
    "result"
   ],
   "outputs": [
    {
     "output_type": "execute_result",
     "data": {
      "text/plain": [
       "'a4b3'"
      ]
     },
     "metadata": {},
     "execution_count": 127
    }
   ],
   "metadata": {}
  },
  {
   "cell_type": "code",
   "execution_count": 116,
   "source": [
    "items = [word[0] for word in data]\n",
    "print(items)"
   ],
   "outputs": [
    {
     "output_type": "stream",
     "name": "stdout",
     "text": [
      "['a', 'a', 'a', 'a', 'a', 'b', 'b']\n"
     ]
    }
   ],
   "metadata": {}
  },
  {
   "cell_type": "code",
   "execution_count": 128,
   "source": [
    "class Stack:\n",
    "    def __init__(self,MAX_STACK_SIZE=100):\n",
    "        self.stack = []\n",
    "        self.MAX_STACK_SIZE = MAX_STACK_SIZE\n",
    "        self.size = 0\n",
    "\n",
    "    def size(self):\n",
    "        return self.size\n",
    "\n",
    "    def is_empty(self):\n",
    "        return self.size == 0\n",
    "\n",
    "    def is_full(self):\n",
    "        return self.size >= self.MAX_STACK_SIZE\n",
    "\n",
    "    def push(self, data):\n",
    "        if self.is_full():\n",
    "            raise FullError\n",
    "        else:\n",
    "            print(\"PUSH: 스택의 맨 위에 '%d' 를 삽입! \" % data)\n",
    "            self.stack.append(data)\n",
    "            self.size += 1\n",
    "\n",
    "    def pop(self):\n",
    "        if self.is_empty():\n",
    "            raise EmptyError\n",
    "        else:\n",
    "            print(\"POP: 스택의 맨 위에 data를 제거! \")\n",
    "            self.stack.pop()\n",
    "            self.size -= 1\n",
    "\n",
    "    def peek(self):\n",
    "        if self.is_empty():\n",
    "            raise EmptyError\n",
    "        else:\n",
    "            print(\"PEEK: 스택의 맨 위에 data를 반환! \", end=\" \")\n",
    "            return self.stack[-1]\n",
    "\n",
    "    def print_stack(self):\n",
    "        print(\"현재 스택 상태: \",self.stack)\n",
    "\n",
    "class FullError(Exception):\n",
    "    print(\"스택 포화 에러! \")\n",
    "class EmptyError(Exception):\n",
    "    print(\"스택 공백 에러! \")\n",
    "\n",
    "s1 = Stack()\n",
    "s1.pop()\n",
    "s1.push(1)\n",
    "s1.push(2)\n",
    "s1.push(3)\n",
    "s1.push(4)\n",
    "s1.pop()\n",
    "s1.print_stack()\n",
    "print(s1.peek())"
   ],
   "outputs": [
    {
     "output_type": "stream",
     "name": "stdout",
     "text": [
      "스택 포화 에러! \n",
      "스택 공백 에러! \n"
     ]
    },
    {
     "output_type": "error",
     "ename": "EmptyError",
     "evalue": "",
     "traceback": [
      "\u001b[1;31m---------------------------------------------------------------------------\u001b[0m",
      "\u001b[1;31mEmptyError\u001b[0m                                Traceback (most recent call last)",
      "\u001b[1;32m<ipython-input-128-1d144d893c1f>\u001b[0m in \u001b[0;36m<module>\u001b[1;34m\u001b[0m\n\u001b[0;32m     45\u001b[0m     \u001b[0mprint\u001b[0m\u001b[1;33m(\u001b[0m\u001b[1;34m\"스택 공백 에러! \"\u001b[0m\u001b[1;33m)\u001b[0m\u001b[1;33m\u001b[0m\u001b[1;33m\u001b[0m\u001b[0m\n\u001b[0;32m     46\u001b[0m \u001b[0ms1\u001b[0m \u001b[1;33m=\u001b[0m \u001b[0mStack\u001b[0m\u001b[1;33m(\u001b[0m\u001b[1;33m)\u001b[0m\u001b[1;33m\u001b[0m\u001b[1;33m\u001b[0m\u001b[0m\n\u001b[1;32m---> 47\u001b[1;33m \u001b[0ms1\u001b[0m\u001b[1;33m.\u001b[0m\u001b[0mpop\u001b[0m\u001b[1;33m(\u001b[0m\u001b[1;33m)\u001b[0m\u001b[1;33m\u001b[0m\u001b[1;33m\u001b[0m\u001b[0m\n\u001b[0m\u001b[0;32m     48\u001b[0m \u001b[0ms1\u001b[0m\u001b[1;33m.\u001b[0m\u001b[0mpush\u001b[0m\u001b[1;33m(\u001b[0m\u001b[1;36m1\u001b[0m\u001b[1;33m)\u001b[0m\u001b[1;33m\u001b[0m\u001b[1;33m\u001b[0m\u001b[0m\n\u001b[0;32m     49\u001b[0m \u001b[0ms1\u001b[0m\u001b[1;33m.\u001b[0m\u001b[0mpush\u001b[0m\u001b[1;33m(\u001b[0m\u001b[1;36m2\u001b[0m\u001b[1;33m)\u001b[0m\u001b[1;33m\u001b[0m\u001b[1;33m\u001b[0m\u001b[0m\n",
      "\u001b[1;32m<ipython-input-128-1d144d893c1f>\u001b[0m in \u001b[0;36mpop\u001b[1;34m(self)\u001b[0m\n\u001b[0;32m     24\u001b[0m     \u001b[1;32mdef\u001b[0m \u001b[0mpop\u001b[0m\u001b[1;33m(\u001b[0m\u001b[0mself\u001b[0m\u001b[1;33m)\u001b[0m\u001b[1;33m:\u001b[0m\u001b[1;33m\u001b[0m\u001b[1;33m\u001b[0m\u001b[0m\n\u001b[0;32m     25\u001b[0m         \u001b[1;32mif\u001b[0m \u001b[0mself\u001b[0m\u001b[1;33m.\u001b[0m\u001b[0mis_empty\u001b[0m\u001b[1;33m(\u001b[0m\u001b[1;33m)\u001b[0m\u001b[1;33m:\u001b[0m\u001b[1;33m\u001b[0m\u001b[1;33m\u001b[0m\u001b[0m\n\u001b[1;32m---> 26\u001b[1;33m             \u001b[1;32mraise\u001b[0m \u001b[0mEmptyError\u001b[0m\u001b[1;33m\u001b[0m\u001b[1;33m\u001b[0m\u001b[0m\n\u001b[0m\u001b[0;32m     27\u001b[0m         \u001b[1;32melse\u001b[0m\u001b[1;33m:\u001b[0m\u001b[1;33m\u001b[0m\u001b[1;33m\u001b[0m\u001b[0m\n\u001b[0;32m     28\u001b[0m             \u001b[0mprint\u001b[0m\u001b[1;33m(\u001b[0m\u001b[1;34m\"POP: 스택의 맨 위에 data를 제거! \"\u001b[0m\u001b[1;33m)\u001b[0m\u001b[1;33m\u001b[0m\u001b[1;33m\u001b[0m\u001b[0m\n",
      "\u001b[1;31mEmptyError\u001b[0m: "
     ]
    }
   ],
   "metadata": {}
  },
  {
   "cell_type": "code",
   "execution_count": 129,
   "source": [
    "class Stack:\n",
    "    def __init__(self,MAX_STACK_SIZE=100):\n",
    "        self.stack = []\n",
    "        self.MAX_STACK_SIZE = MAX_STACK_SIZE\n",
    "        self.size = 0\n",
    "\n",
    "    def size(self):\n",
    "        return self.size\n",
    "\n",
    "    def is_empty(self):\n",
    "        return self.size == 0\n",
    "\n",
    "    def is_full(self):\n",
    "        return self.size >= self.MAX_STACK_SIZE\n",
    "\n",
    "    def push(self, data):\n",
    "        if self.is_full():\n",
    "            raise FullError(\"스택 포화 에러\")\n",
    "        else:\n",
    "            print(\"PUSH: 스택의 맨 위에 '%d' 를 삽입! \" % data)\n",
    "            self.stack.append(data)\n",
    "            self.size += 1\n",
    "\n",
    "    def pop(self):\n",
    "        if self.is_empty():\n",
    "            raise EmptyError(\"스택 공백 에러\")\n",
    "        else:\n",
    "            print(\"POP: 스택의 맨 위에 data를 제거! \")\n",
    "            self.stack.pop()\n",
    "            self.size -= 1\n",
    "\n",
    "    def peek(self):\n",
    "        if self.is_empty():\n",
    "            raise EmptyError(\"스택 공백 에러\")\n",
    "        else:\n",
    "            print(\"PEEK: 스택의 맨 위에 data를 반환! \", end=\" \")\n",
    "            return self.stack[-1]\n",
    "\n",
    "    def print_stack(self):\n",
    "        print(\"현재 스택 상태: \",self.stack)\n",
    "\n",
    "class FullError(Exception):\n",
    "    pass\n",
    "class EmptyError(Exception):\n",
    "    pass\n",
    "\n",
    "s1 = Stack()\n",
    "s1.pop()\n",
    "s1.push(1)\n",
    "s1.push(2)\n",
    "s1.push(3)\n",
    "s1.push(4)\n",
    "s1.pop()\n",
    "s1.print_stack()\n",
    "print(s1.peek())"
   ],
   "outputs": [
    {
     "output_type": "error",
     "ename": "EmptyError",
     "evalue": "스택 공백 에러",
     "traceback": [
      "\u001b[1;31m---------------------------------------------------------------------------\u001b[0m",
      "\u001b[1;31mEmptyError\u001b[0m                                Traceback (most recent call last)",
      "\u001b[1;32m<ipython-input-129-50291d69b403>\u001b[0m in \u001b[0;36m<module>\u001b[1;34m\u001b[0m\n\u001b[0;32m     45\u001b[0m     \u001b[1;32mpass\u001b[0m\u001b[1;33m\u001b[0m\u001b[1;33m\u001b[0m\u001b[0m\n\u001b[0;32m     46\u001b[0m \u001b[0ms1\u001b[0m \u001b[1;33m=\u001b[0m \u001b[0mStack\u001b[0m\u001b[1;33m(\u001b[0m\u001b[1;33m)\u001b[0m\u001b[1;33m\u001b[0m\u001b[1;33m\u001b[0m\u001b[0m\n\u001b[1;32m---> 47\u001b[1;33m \u001b[0ms1\u001b[0m\u001b[1;33m.\u001b[0m\u001b[0mpop\u001b[0m\u001b[1;33m(\u001b[0m\u001b[1;33m)\u001b[0m\u001b[1;33m\u001b[0m\u001b[1;33m\u001b[0m\u001b[0m\n\u001b[0m\u001b[0;32m     48\u001b[0m \u001b[0ms1\u001b[0m\u001b[1;33m.\u001b[0m\u001b[0mpush\u001b[0m\u001b[1;33m(\u001b[0m\u001b[1;36m1\u001b[0m\u001b[1;33m)\u001b[0m\u001b[1;33m\u001b[0m\u001b[1;33m\u001b[0m\u001b[0m\n\u001b[0;32m     49\u001b[0m \u001b[0ms1\u001b[0m\u001b[1;33m.\u001b[0m\u001b[0mpush\u001b[0m\u001b[1;33m(\u001b[0m\u001b[1;36m2\u001b[0m\u001b[1;33m)\u001b[0m\u001b[1;33m\u001b[0m\u001b[1;33m\u001b[0m\u001b[0m\n",
      "\u001b[1;32m<ipython-input-129-50291d69b403>\u001b[0m in \u001b[0;36mpop\u001b[1;34m(self)\u001b[0m\n\u001b[0;32m     24\u001b[0m     \u001b[1;32mdef\u001b[0m \u001b[0mpop\u001b[0m\u001b[1;33m(\u001b[0m\u001b[0mself\u001b[0m\u001b[1;33m)\u001b[0m\u001b[1;33m:\u001b[0m\u001b[1;33m\u001b[0m\u001b[1;33m\u001b[0m\u001b[0m\n\u001b[0;32m     25\u001b[0m         \u001b[1;32mif\u001b[0m \u001b[0mself\u001b[0m\u001b[1;33m.\u001b[0m\u001b[0mis_empty\u001b[0m\u001b[1;33m(\u001b[0m\u001b[1;33m)\u001b[0m\u001b[1;33m:\u001b[0m\u001b[1;33m\u001b[0m\u001b[1;33m\u001b[0m\u001b[0m\n\u001b[1;32m---> 26\u001b[1;33m             \u001b[1;32mraise\u001b[0m \u001b[0mEmptyError\u001b[0m\u001b[1;33m(\u001b[0m\u001b[1;34m\"스택 공백 에러\"\u001b[0m\u001b[1;33m)\u001b[0m\u001b[1;33m\u001b[0m\u001b[1;33m\u001b[0m\u001b[0m\n\u001b[0m\u001b[0;32m     27\u001b[0m         \u001b[1;32melse\u001b[0m\u001b[1;33m:\u001b[0m\u001b[1;33m\u001b[0m\u001b[1;33m\u001b[0m\u001b[0m\n\u001b[0;32m     28\u001b[0m             \u001b[0mprint\u001b[0m\u001b[1;33m(\u001b[0m\u001b[1;34m\"POP: 스택의 맨 위에 data를 제거! \"\u001b[0m\u001b[1;33m)\u001b[0m\u001b[1;33m\u001b[0m\u001b[1;33m\u001b[0m\u001b[0m\n",
      "\u001b[1;31mEmptyError\u001b[0m: 스택 공백 에러"
     ]
    }
   ],
   "metadata": {}
  },
  {
   "cell_type": "code",
   "execution_count": 165,
   "source": [
    "class Text:\n",
    "    def __init__(self,):\n",
    "        self.string = \"\"\n",
    "        \n",
    "    def insert(self):\n",
    "        self.string = input(\"문자열을 입력하시오: \")\n",
    "        self.string = self.string.lower()\n",
    "        \n",
    "    def print_stack(self):\n",
    "        print(self.string)\n",
    "        \n",
    "    def run_length(self):\n",
    "        for i in range(len(self.string)):\n",
    "            if string[i]"
   ],
   "outputs": [],
   "metadata": {}
  },
  {
   "cell_type": "code",
   "execution_count": 166,
   "source": [
    "s1 = Text()\n",
    "s1.insert()\n",
    "s1.print_stack()"
   ],
   "outputs": [
    {
     "output_type": "stream",
     "name": "stdout",
     "text": [
      "문자열을 입력하시오: aaaAbBb\n",
      "aaaabbb\n"
     ]
    }
   ],
   "metadata": {}
  },
  {
   "cell_type": "code",
   "execution_count": 181,
   "source": [
    "w = \"aaaabbb\"\n",
    "result = \"\"\n",
    "count = 1\n",
    "\n",
    "for i in range(1, len(w)):\n",
    "    if w[i] == w[i-1]:\n",
    "        count += 1\n",
    "    else:\n",
    "        result += str(count) + w[i-1]\n",
    "result"
   ],
   "outputs": [
    {
     "output_type": "execute_result",
     "data": {
      "text/plain": [
       "'4a'"
      ]
     },
     "metadata": {},
     "execution_count": 181
    }
   ],
   "metadata": {}
  },
  {
   "cell_type": "code",
   "execution_count": 173,
   "source": [
    "data = \"aaaabbb\"\n",
    "result=''\n",
    "count = 1\n",
    "for i in range(1, len(data)):\n",
    "    if data[i] == data[i-1]:\n",
    "        count += 1\n",
    "    else:\n",
    "        result += data[i-1] + str(count)\n",
    "        count = 1\n",
    "        \n",
    "    if i == len(data)-1:\n",
    "        result += data[i] + str(count)\n",
    "result"
   ],
   "outputs": [
    {
     "output_type": "execute_result",
     "data": {
      "text/plain": [
       "'a4b3'"
      ]
     },
     "metadata": {},
     "execution_count": 173
    }
   ],
   "metadata": {}
  },
  {
   "cell_type": "code",
   "execution_count": 176,
   "source": [
    "a=input('문자열을 입력하시오:')\n",
    "a=list(a)\n",
    "count=1\n",
    "b=''\n",
    "for i in range(len(a)):\n",
    "    if i<len(a)-1:\n",
    "        if a[i]==a[i+1]:\n",
    "            count+=1\n",
    "        else:\n",
    "            b+=a[i]+str(count)\n",
    "            count=1\n",
    "    else:\n",
    "        b+=a[i]+str(count)\n",
    "b"
   ],
   "outputs": [
    {
     "output_type": "stream",
     "name": "stdout",
     "text": [
      "문자열을 입력하시오:aaaabbb\n"
     ]
    },
    {
     "output_type": "execute_result",
     "data": {
      "text/plain": [
       "'a4b3'"
      ]
     },
     "metadata": {},
     "execution_count": 176
    }
   ],
   "metadata": {}
  },
  {
   "cell_type": "code",
   "execution_count": 209,
   "source": [
    "w = \"aaaabbb\"\n",
    "result = \"\"\n",
    "count = 1\n",
    "for i in range(1, len(w)):\n",
    "    if data[i] == data[i-1]:\n",
    "        count +=1\n",
    "    else:\n",
    "        result += str(count) + data[i-1]\n",
    "        count = 1\n",
    "    \n",
    "    if i == len(data)-1:\n",
    "        result += str(count) + data[i]\n",
    "        \n",
    "result"
   ],
   "outputs": [
    {
     "output_type": "execute_result",
     "data": {
      "text/plain": [
       "'4a3b'"
      ]
     },
     "metadata": {},
     "execution_count": 209
    }
   ],
   "metadata": {}
  },
  {
   "cell_type": "code",
   "execution_count": 207,
   "source": [
    "for i in range(1, 7):\n",
    "    print(i)"
   ],
   "outputs": [
    {
     "output_type": "stream",
     "name": "stdout",
     "text": [
      "1\n",
      "2\n",
      "3\n",
      "4\n",
      "5\n",
      "6\n"
     ]
    }
   ],
   "metadata": {}
  },
  {
   "cell_type": "code",
   "execution_count": 213,
   "source": [
    "class Text:\n",
    "    def __init__(self):\n",
    "        self.string=\"\"\n",
    "        \n",
    "    def run_length(self, string):\n",
    "        w = string\n",
    "        result = \"\"\n",
    "        count = 1\n",
    "        for i in range(1, len(w)):\n",
    "            if data[i] == data[i-1]:\n",
    "                count +=1\n",
    "            else:\n",
    "                result += str(count) + data[i-1]\n",
    "                count = 1\n",
    "    \n",
    "        if i == len(data)-1:\n",
    "            result += str(count) + data[i]\n",
    "            return result\n",
    "\n",
    "t = Text()            \n",
    "result"
   ],
   "outputs": [
    {
     "output_type": "execute_result",
     "data": {
      "text/plain": [
       "'4a3b'"
      ]
     },
     "metadata": {},
     "execution_count": 213
    }
   ],
   "metadata": {}
  },
  {
   "cell_type": "code",
   "execution_count": 227,
   "source": [
    "class Deque:\n",
    "    def __init__(self, MAX_QSIZE = 10):\n",
    "        self.MAX_QSIZE = MAX_QSIZE\n",
    "        self.front = 0\n",
    "        self.rear = 0\n",
    "        self.queue = [None] * MAX_QSIZE\n",
    "\n",
    "    def is_empty(self):\n",
    "        return self.front == self.rear\n",
    "    def is_full(self):\n",
    "        return self.front == (self.rear + 1) % self.MAX_QSIZE\n",
    "    def size\n",
    "\n",
    "    def add_rear(self, data):\n",
    "        if self.is_full():\n",
    "            raise FullError(\"포화 상태\")\n",
    "        else:\n",
    "            self.rear = (self.rear+1)% self.MAX_QSIZE\n",
    "            self.queue[self.rear] = data\n",
    "\n",
    "    def add_front(self, data):\n",
    "        if self.is_full():\n",
    "            raise FullError(\"포화 상태\")\n",
    "        else:\n",
    "            self.queue[self.front] = data\n",
    "            self.front = self.front - 1\n",
    "\n",
    "        if self.front < 0:\n",
    "            self.front = self.MAX_QSIZE - 1\n",
    "\n",
    "    def delete_rear(self):\n",
    "        if self.is_empty():\n",
    "            raise EmptyError(\"공백 상태\")\n",
    "        else:\n",
    "            self.rear = self.rear - 1\n",
    "            return self.queue[self.rear]\n",
    "        \n",
    "        if self.rear < 0:\n",
    "            self.rear = MAX_QSIZE - 1\n",
    "    \n",
    "    def delete_front(self):\n",
    "        if self.is_empty():\n",
    "            raise EmptyError(\"공백 상태\")\n",
    "        else:\n",
    "            self.front = (self.front+1) % self.MAX_QSIZE\n",
    "            return self.queue[self.front]\n",
    "\n",
    "    def get_rear(self):\n",
    "        if self.is_empty():\n",
    "            raise EmptyError(\"공백 상태\")\n",
    "        return self.queue[self.rear]\n",
    "\n",
    "    def get_front(self):\n",
    "        if self.is_empty():\n",
    "            raise EmptyError(\"공백 상태\")\n",
    "        return self.queue[(self.front+1)%self.MAX_QSIZE]\n",
    "\n",
    "    def print_Queue(self):\n",
    "        out = []\n",
    "        if self.front < self.rear:\n",
    "            out = self.queue[self.front+1:self.rear+1]\n",
    "        else:\n",
    "            out = self.queue[self.front+1:self.MAX_QSIZE] + self.queue[0:self.rear+1]\n",
    "        print(\"[front=%d, rear=%d] ==>\"%(self.front, self.rear), out)\n",
    "\n",
    "    def palindrome(self):\n",
    "        low = 0\n",
    "        high = len(self.queue) - 1\n",
    "\n",
    "        while True:\n",
    "            if low > high:\n",
    "                return True\n",
    "            a = self.queue[low]\n",
    "            b = self.queue[high]\n",
    "\n",
    "            if a != b:\n",
    "                return False\n",
    "            low += 1\n",
    "            high -= 1\n",
    "\n",
    "        \n",
    "class EmptyError(Exception):\n",
    "    pass\n",
    "class FullError(Exception):\n",
    "    pass\n",
    "\n",
    "dq = Deque()\n",
    "dq.add_front(\"1\")\n",
    "dq.add_front(\"2\")\n",
    "dq.add_front(\"3\")\n",
    "dq.add_rear(\"a\")\n",
    "dq.add_rear(\"b\")\n",
    "dq.add_rear(\"c\")\n",
    "dq.print_Queue()\n",
    "dq.delete_front()\n",
    "dq.delete_rear()\n",
    "dq.print_Queue()"
   ],
   "outputs": [
    {
     "output_type": "stream",
     "name": "stdout",
     "text": [
      "[front=7, rear=3] ==> ['3', '2', '1', 'a', 'b', 'c']\n",
      "[front=8, rear=2] ==> ['2', '1', 'a', 'b']\n"
     ]
    }
   ],
   "metadata": {}
  },
  {
   "cell_type": "code",
   "execution_count": 261,
   "source": [
    "def checking(s):\n",
    "    low = 0\n",
    "    high = len(s)-1\n",
    "    \n",
    "    while True:\n",
    "        a = s[low]\n",
    "        b = s[high]\n",
    "        \n",
    "        if a != b:\n",
    "            print(\"회문 아님\")\n",
    "            break\n",
    "            \n",
    "        if low == high:\n",
    "            return True\n",
    "\n",
    "        low += 1\n",
    "        high -= 1"
   ],
   "outputs": [],
   "metadata": {}
  },
  {
   "cell_type": "code",
   "execution_count": 262,
   "source": [
    "s = input(\"\")\n",
    "if checking(s) == True:\n",
    "    print(\"회문\")"
   ],
   "outputs": [
    {
     "output_type": "stream",
     "name": "stdout",
     "text": [
      "mmmcc\n",
      "회문 아님\n"
     ]
    }
   ],
   "metadata": {}
  },
  {
   "cell_type": "code",
   "execution_count": 268,
   "source": [
    "#list = ['e','y','e']\n",
    "list = ['c','c','e','i','c']\n",
    "def testing():\n",
    "    low = 0\n",
    "    high = len(list) - 1\n",
    "    \n",
    "    while True:\n",
    "        a = list[low]\n",
    "        b = list[high]\n",
    "        \n",
    "        if a != b:\n",
    "            print(\"X\")\n",
    "            break\n",
    "            \n",
    "        if low == high:\n",
    "            return True\n",
    "        \n",
    "        low += 1\n",
    "        high -= 1\n",
    "        \n",
    "if testing() == True:\n",
    "    print(\"O\")"
   ],
   "outputs": [
    {
     "output_type": "stream",
     "name": "stdout",
     "text": [
      "X\n"
     ]
    }
   ],
   "metadata": {}
  },
  {
   "cell_type": "code",
   "execution_count": null,
   "source": [
    "class Deque:\n",
    "    def __init__(self, MAX_QSIZE = 10):\n",
    "        self.MAX_QSIZE = MAX_QSIZE\n",
    "        self.front = 0\n",
    "        self.rear = 0\n",
    "        self.queue = [None] * MAX_QSIZE\n",
    "\n",
    "    def is_empty(self):\n",
    "        return self.front == self.rear\n",
    "    def is_full(self):\n",
    "        return self.front == (self.rear + 1) % self.MAX_QSIZE\n",
    "    def size(self):\n",
    "        return len(self.queue) - 1\n",
    "\n",
    "    def add_rear(self, data):\n",
    "        if self.is_full():\n",
    "            raise FullError(\"포화 상태\")\n",
    "        else:\n",
    "            self.rear = (self.rear+1)% self.MAX_QSIZE\n",
    "            self.queue[self.rear] = data\n",
    "\n",
    "    def add_front(self, data):\n",
    "        if self.is_full():\n",
    "            raise FullError(\"포화 상태\")\n",
    "        else:\n",
    "            self.queue[self.front] = data\n",
    "            self.front = self.front - 1\n",
    "\n",
    "        if self.front < 0:\n",
    "            self.front = self.MAX_QSIZE - 1\n",
    "\n",
    "    def delete_rear(self):\n",
    "        if self.is_empty():\n",
    "            raise EmptyError(\"공백 상태\")\n",
    "        else:\n",
    "            data = self.queue[self.rear]\n",
    "            self.rear = self.rear - 1\n",
    "        \n",
    "        if self.rear < 0:\n",
    "            self.rear = self.MAX_QSIZE - 1\n",
    "        return data\n",
    "    \n",
    "    def delete_front(self):\n",
    "        if self.is_empty():\n",
    "            raise EmptyError(\"공백 상태\")\n",
    "        else:\n",
    "            self.front = (self.front+1) % self.MAX_QSIZE\n",
    "            return self.queue[self.front]\n",
    "\n",
    "    def get_rear(self):\n",
    "        if self.is_empty():\n",
    "            raise EmptyError(\"공백 상태\")\n",
    "        return self.queue[self.rear]\n",
    "\n",
    "    def get_front(self):\n",
    "        if self.is_empty():\n",
    "            raise EmptyError(\"공백 상태\")\n",
    "        return self.queue[(self.front+1)%self.MAX_QSIZE]\n",
    "\n",
    "    def print_Queue(self):\n",
    "        out = []\n",
    "        if self.front < self.rear:\n",
    "            out = self.queue[self.front+1:self.rear+1]\n",
    "        else:\n",
    "            out = self.queue[self.front+1:self.MAX_QSIZE] + self.queue[0:self.rear+1]\n",
    "        print(\"덱 상태: [front=%d, rear=%d] ==>\"%(self.front, self.rear), out)\n",
    "\n",
    "    def palindrome(self):\n",
    "        while self.front <=self.rear:\n",
    "            a = self.get_front()\n",
    "            b = self.get_rear()\n",
    "            print(\"비교 위치: [front=%d, rear=%d]\" % (self.front+1, self.rear), end=\" || \")\n",
    "            print(\"해당 위치 문자: \", a ,\"<=>\", b)\n",
    "\n",
    "            if a != b:\n",
    "                print(\"회문 아닙니다\")\n",
    "                break\n",
    "            else:\n",
    "                self.front += 1\n",
    "                self.rear -= 1\n",
    "                \n",
    "            if self.front >= self.rear:\n",
    "                print(\"회문입니다\")\n",
    "            \n",
    "class EmptyError(Exception):\n",
    "    pass\n",
    "class FullError(Exception):\n",
    "    pass\n",
    "\n",
    "dq = Deque()\n",
    "for i in range(0, dq.size()):\n",
    "    s = input(\"문자열 입력: \")\n",
    "    dq.add_rear(s)\n",
    "    \n",
    "    if not s:\n",
    "        break\n",
    "dq.print_Queue()\n",
    "dq.palindrome()"
   ],
   "outputs": [],
   "metadata": {}
  },
  {
   "cell_type": "code",
   "execution_count": 374,
   "source": [
    "class Deque:\n",
    "    def __init__(self, MAX_QSIZE = 10):\n",
    "        self.MAX_QSIZE = MAX_QSIZE\n",
    "        self.front = 0\n",
    "        self.rear = 0\n",
    "        self.queue = [None] * MAX_QSIZE\n",
    "\n",
    "    def is_empty(self):\n",
    "        return self.front == self.rear\n",
    "    def is_full(self):\n",
    "        return self.front == (self.rear + 1) % self.MAX_QSIZE\n",
    "\n",
    "    def add_rear(self, data):\n",
    "        if self.is_full():\n",
    "            raise FullError(\"포화 상태\")\n",
    "        else:\n",
    "            self.rear = (self.rear+1)% self.MAX_QSIZE\n",
    "            self.queue[self.rear] = data\n",
    "\n",
    "    def add_front(self, data):\n",
    "        if self.is_full():\n",
    "            raise FullError(\"포화 상태\")\n",
    "        else:\n",
    "            self.queue[self.front] = data\n",
    "            self.front = self.front - 1\n",
    "\n",
    "        if self.front < 0:\n",
    "            self.front = self.MAX_QSIZE - 1\n",
    "\n",
    "    def delete_rear(self):\n",
    "        if self.is_empty():\n",
    "            raise EmptyError(\"공백 상태\")\n",
    "        else:\n",
    "            data = self.queue[self.rear]\n",
    "            self.rear = self.rear - 1\n",
    "        \n",
    "        if self.rear < 0:\n",
    "            self.rear = self.MAX_QSIZE - 1\n",
    "        return data\n",
    "    \n",
    "    def delete_front(self):\n",
    "        if self.is_empty():\n",
    "            raise EmptyError(\"공백 상태\")\n",
    "        else:\n",
    "            self.front = (self.front+1) % self.MAX_QSIZE\n",
    "            return self.queue[self.front]\n",
    "\n",
    "    def get_rear(self):\n",
    "        if self.is_empty():\n",
    "            raise EmptyError(\"공백 상태\")\n",
    "        return self.queue[self.rear]\n",
    "\n",
    "    def get_front(self):\n",
    "        if self.is_empty():\n",
    "            raise EmptyError(\"공백 상태\")\n",
    "        return self.queue[(self.front+1)%self.MAX_QSIZE]\n",
    "\n",
    "    def print_Queue(self):\n",
    "        out = []\n",
    "        if self.front < self.rear:\n",
    "            out = self.queue[self.front+1:self.rear+1]\n",
    "        else:\n",
    "            out = self.queue[self.front+1:self.MAX_QSIZE] + self.queue[0:self.rear+1]\n",
    "        print(\"덱 상태: [front=%d, rear=%d] ==>\"%(self.front, self.rear), out)\n",
    "\n",
    "    def palindrome(self):\n",
    "        while self.front < self.rear:\n",
    "            a = self.queue[(self.front+1)%self.MAX_QSIZE]\n",
    "            b = self.queue[self.rear]\n",
    "            print(\"비교 위치: [front=%d, rear=%d]\" % (self.front+1, self.rear), end=\" || \")\n",
    "            print(\"해당 위치 문자: \", a ,\"<=>\", b)\n",
    "\n",
    "            if a != b:\n",
    "                raise NotPalindrome(\"회문이 아닙니다.\")\n",
    "            else:\n",
    "                self.front += 1\n",
    "                self.rear -= 1\n",
    "        print(\"회문입니다.\")\n",
    "\n",
    "class EmptyError(Exception):\n",
    "    pass\n",
    "class FullError(Exception):\n",
    "    pass\n",
    "class NotPalindrome(Exception):\n",
    "    pass\n",
    "\n",
    "dq = Deque()\n",
    "dq.add_rear(\"c\")\n",
    "dq.add_rear(\"i\")\n",
    "dq.add_rear(\"c\")\n",
    "dq.add_rear(\"i\")\n",
    "dq.add_rear(\"c\")\n",
    "dq.print_Queue()\n",
    "dq.palindrome()"
   ],
   "outputs": [
    {
     "output_type": "stream",
     "name": "stdout",
     "text": [
      "덱 상태: [front=0, rear=5] ==> ['c', 'i', 'c', 'i', 'c']\n",
      "비교 위치: [front=1, rear=5] || 해당 위치 문자:  c <=> c\n",
      "비교 위치: [front=2, rear=4] || 해당 위치 문자:  i <=> i\n",
      "비교 위치: [front=3, rear=3] || 해당 위치 문자:  c <=> c\n",
      "회문입니다.\n"
     ]
    }
   ],
   "metadata": {}
  },
  {
   "cell_type": "code",
   "execution_count": 392,
   "source": [
    "class TreeNode:\n",
    "    def __init__(self, data, llink, rlink):\n",
    "        self.data = data\n",
    "        self.llink = llink\n",
    "        self.rlink = rlink\n",
    "            \n",
    "    def __init__(self):\n",
    "        self.root = None\n",
    "        self.left_size = None\n",
    "        self.right_size = None\n",
    "        \n",
    "    def postorder(self, n):\n",
    "        if n == None:\n",
    "            return 0\n",
    "        else:\n",
    "            self.left_size = self.postorder(n.llink)\n",
    "            self.right_size = self.postorder(n.rlink)\n",
    "            return (n.data + self.left_size + self.right_size)"
   ],
   "outputs": [],
   "metadata": {}
  },
  {
   "cell_type": "code",
   "execution_count": 399,
   "source": [
    "t = TreeNode\n",
    "n4 = (500, None, None)\n",
    "n5 = (200, None, None)\n",
    "n3 = (100, n4, n5)\n",
    "n2 = (50, None, None)\n",
    "n1 = (0, n2, n3)\n",
    "t.root = n1\n",
    "t.postorder(t.root)"
   ],
   "outputs": [
    {
     "output_type": "error",
     "ename": "TypeError",
     "evalue": "postorder() missing 1 required positional argument: 'n'",
     "traceback": [
      "\u001b[1;31m---------------------------------------------------------------------------\u001b[0m",
      "\u001b[1;31mTypeError\u001b[0m                                 Traceback (most recent call last)",
      "\u001b[1;32m<ipython-input-399-267fa2889f87>\u001b[0m in \u001b[0;36m<module>\u001b[1;34m\u001b[0m\n\u001b[0;32m      6\u001b[0m \u001b[0mn1\u001b[0m \u001b[1;33m=\u001b[0m \u001b[1;33m(\u001b[0m\u001b[1;36m0\u001b[0m\u001b[1;33m,\u001b[0m \u001b[0mn2\u001b[0m\u001b[1;33m,\u001b[0m \u001b[0mn3\u001b[0m\u001b[1;33m)\u001b[0m\u001b[1;33m\u001b[0m\u001b[1;33m\u001b[0m\u001b[0m\n\u001b[0;32m      7\u001b[0m \u001b[0mt\u001b[0m\u001b[1;33m.\u001b[0m\u001b[0mroot\u001b[0m \u001b[1;33m=\u001b[0m \u001b[0mn1\u001b[0m\u001b[1;33m\u001b[0m\u001b[1;33m\u001b[0m\u001b[0m\n\u001b[1;32m----> 8\u001b[1;33m \u001b[0mt\u001b[0m\u001b[1;33m.\u001b[0m\u001b[0mpostorder\u001b[0m\u001b[1;33m(\u001b[0m\u001b[0mt\u001b[0m\u001b[1;33m.\u001b[0m\u001b[0mroot\u001b[0m\u001b[1;33m)\u001b[0m\u001b[1;33m\u001b[0m\u001b[1;33m\u001b[0m\u001b[0m\n\u001b[0m",
      "\u001b[1;31mTypeError\u001b[0m: postorder() missing 1 required positional argument: 'n'"
     ]
    }
   ],
   "metadata": {}
  },
  {
   "cell_type": "code",
   "execution_count": 529,
   "source": [
    "class BinaryTree:\n",
    "    class TreeNode:\n",
    "        def __init__(self, data, left, right):\n",
    "            self.data = data\n",
    "            self.left = left\n",
    "            self.right = right\n",
    "            \n",
    "    def __init__(self):\n",
    "        self.size = 0\n",
    "        self.root = None\n",
    "        \n",
    "    def calc_dir_size(self, n):\n",
    "        if n != None:\n",
    "            if n.left:\n",
    "                self.calc_dir_size(n.left)\n",
    "            if n.right:\n",
    "                self.calc_dir_size(n.right)\n",
    "            self.size += n.data\n",
    "            print(\"디렉토리 용량:\",n.data,\"이며, \",end=\"총 용량: \")\n",
    "            print(self.size)"
   ],
   "outputs": [],
   "metadata": {}
  },
  {
   "cell_type": "code",
   "execution_count": 530,
   "source": [
    "t = BinaryTree()\n",
    "n4 = t.TreeNode(500, None, None)\n",
    "n5 = t.TreeNode(200, None, None)\n",
    "n3 = t.TreeNode(100, n4, n5)\n",
    "n2 = t.TreeNode(50, None, None)\n",
    "n1 = t.TreeNode(0, n2, n3)\n",
    "t.root = n1"
   ],
   "outputs": [],
   "metadata": {}
  },
  {
   "cell_type": "code",
   "execution_count": 531,
   "source": [
    "t.calc_dir_size(t.root)"
   ],
   "outputs": [
    {
     "output_type": "stream",
     "name": "stdout",
     "text": [
      "디렉토리 용량: 50 이며, 총 용량: 50\n",
      "디렉토리 용량: 500 이며, 총 용량: 550\n",
      "디렉토리 용량: 200 이며, 총 용량: 750\n",
      "디렉토리 용량: 100 이며, 총 용량: 850\n",
      "디렉토리 용량: 0 이며, 총 용량: 850\n"
     ]
    }
   ],
   "metadata": {}
  },
  {
   "cell_type": "code",
   "execution_count": 539,
   "source": [
    "class BinaryTree:\n",
    "    class TreeNode:\n",
    "        def __init__(self, data, left, right):\n",
    "            self.data = data\n",
    "            self.left = left\n",
    "            self.right = right\n",
    "            \n",
    "    def __init__(self):\n",
    "        self.count = 0\n",
    "\n",
    "    def pre(self, n):\n",
    "        if n != None:\n",
    "            if n.left:\n",
    "                self.pre(n.left)\n",
    "                if n.left == None or n.right == None:\n",
    "                    self.count += 1\n",
    "            if n.right:\n",
    "                self.pre(n.right)\n",
    "                if n.left == None or n.right == None:\n",
    "                    self.count += 1\n",
    "        return(self.count)\n",
    "\n",
    "t = BinaryTree()\n",
    "n8 = t.TreeNode(27, None, None)\n",
    "n7 = t.TreeNode(9, None, None)\n",
    "n6 = t.TreeNode(31, n8, None)\n",
    "n5 = t.TreeNode(12, n7, None)\n",
    "n4 = t.TreeNode(3, None, None)\n",
    "n3 = t.TreeNode(26, None, n6)\n",
    "n2 = t.TreeNode(7, n4, n5)\n",
    "n1 = t.TreeNode(18, n2, n3)\n",
    "t.root = n1\n",
    "\n",
    "print(t.pre(t.root))"
   ],
   "outputs": [
    {
     "output_type": "stream",
     "name": "stdout",
     "text": [
      "3\n"
     ]
    }
   ],
   "metadata": {}
  },
  {
   "cell_type": "code",
   "execution_count": 576,
   "source": [
    "class BinaryTree:\n",
    "    class TreeNode:\n",
    "        def __init__(self, data):\n",
    "            self.data = data\n",
    "            self.left = None\n",
    "            self.right = None\n",
    "    \n",
    "    def __init__(self):\n",
    "        self.root = None\n",
    "        self.temp = None\n",
    "\n",
    "    def new_node(self, data):\n",
    "        self.root = self.insert_node(self.root, data)\n",
    "\n",
    "    def insert_node(self, node, data):\n",
    "        if node is None:\n",
    "            node = self.TreeNode(data)\n",
    "\n",
    "        if data < node.data:\n",
    "            node.left = self.insert_node(node.left, data)\n",
    "        elif data > node.data:\n",
    "            node.right = self.insert_node(node.right, data)\n",
    "        return node\n",
    "\n",
    "    def search(self, node, data):\n",
    "        if node == None:\n",
    "            return None\n",
    "\n",
    "        if data == node.data:\n",
    "            return node\n",
    "        elif data < node.data:\n",
    "            return self.search(node.left, data)\n",
    "        else:\n",
    "            return self.search(node.right, data)\n",
    "                \n",
    "    def inorder(self, n):\n",
    "        if n != None:\n",
    "            if n.left:\n",
    "                self.inorder(n.left)\n",
    "            print(n.data,\" \",end=\"\")\n",
    "            if n.right:\n",
    "                self.inorder(n.right)\n",
    "                \n",
    "    def reverse_inorder(self, n):\n",
    "        if n != None:\n",
    "            if n.right:\n",
    "                self.reverse_inorder(n.right)\n",
    "            print(n.data,\" \",end=\"\")\n",
    "            if n.left:\n",
    "                self.reverse_inorder(n.left)\n",
    "    \n",
    "array = [11, 3, 4, 1, 56, 5, 6, 2, 98, 32, 23]\n",
    "\n",
    "t = BinaryTree()\n",
    "\n",
    "for i in array:\n",
    "    t.new_node(i)\n",
    "    \n",
    "root = t.root\n",
    "print(t.inorder(root))\n",
    "print(t.reverse_inorder(root))"
   ],
   "outputs": [
    {
     "output_type": "stream",
     "name": "stdout",
     "text": [
      "1  2  3  4  5  6  11  23  32  56  98  None\n",
      "98  56  32  23  11  6  5  4  3  2  1  None\n"
     ]
    }
   ],
   "metadata": {}
  },
  {
   "cell_type": "code",
   "execution_count": 28,
   "source": [
    "KEY_SIZE = 10\n",
    "TABLE_SIZE = 13\n",
    "class Hashing:\n",
    "    class Hash:\n",
    "        def __inin__(self):\n",
    "            self.key = [None] * KEY_SIZE\n",
    "        \n",
    "    def __init__(self):\n",
    "        self.ht = []\n",
    "        self.hashtable = [None] * TABLE_SIZE\n",
    "        \n",
    "    def is_empty(self):\n",
    "        return item.key == 0\n",
    "        \n",
    "    def init_table(self, ht):\n",
    "        for i in range(TABLE_SIZE):\n",
    "            ht[i].key[0] = None\n",
    "            \n",
    "    def transform(self, key):\n",
    "        number = 0\n",
    "        i=0\n",
    "        while key:\n",
    "            number = 31 * number * key[i]\n",
    "            i+=1\n",
    "        return number\n",
    "    \n",
    "    def hash_function(self, key):\n",
    "        return transform(key) % TABLE_SIZE\n",
    "    \n",
    "    def hash_lp_add(self, item, ht):\n",
    "        hash_value, i = 0\n",
    "        hash_value = i = hash_function(item.key)\n",
    "        \n",
    "        while self.is_empty() != ht[i]:\n",
    "            if item == ht[i]:\n",
    "                print(\"탐색키가 중복되었습니다.\")\n",
    "            i = (i+1)% TABLE_SIZE\n",
    "            if i == hash_value:\n",
    "                print(\"테이블이 가득찼습니다.\")\n",
    "        ht[i] = item\n",
    "        \n",
    "    def hash_lp_search(self, item, ht):\n",
    "        hash_value, i = 0\n",
    "        hash_value = i = hash_function(item.key)\n",
    "        while item != ht[i]:\n",
    "            if item == ht[i]:\n",
    "                print(\"탐색 %s: 위치= %d\" % (item.key, i))\n",
    "                return\n",
    "            i = (i+1) % TABLE_SIZE\n",
    "            if i == hash_value:\n",
    "                print(\"찾는 값이 테이블에 없습니다.\")\n",
    "                return\n",
    "        print(\"찾는 값이 테이블에 없습니다.\")\n",
    "        \n",
    "    def hash_lp_print(self, ht):\n",
    "        print(\"==================================\")\n",
    "        for i in range(TABLE_SIZE):\n",
    "            print(\"[%d] %s\" % (i, ht[i].key))\n",
    "        print(\"==================================\")\n",
    "        \n",
    "    def main(self):\n",
    "        list = [\"do\", \"for\", \"if\", \"case\", \"else\", \"return\", \"function\"]\n",
    "        e = self.Hash()\n",
    "        \n",
    "        for i in range(0,7):\n",
    "            self.hash_lp_add(e, self.hashtable)\n",
    "            self.hash_lp_print(self.hashtalbe)\n",
    "            \n",
    "        for i in range(0, 7):\n",
    "            self.hash_lp_search(e, self.hashtable)"
   ],
   "outputs": [],
   "metadata": {}
  },
  {
   "cell_type": "code",
   "execution_count": 29,
   "source": [
    "h = Hashing()\n",
    "h.main()"
   ],
   "outputs": [
    {
     "output_type": "error",
     "ename": "TypeError",
     "evalue": "cannot unpack non-iterable int object",
     "traceback": [
      "\u001b[1;31m---------------------------------------------------------------------------\u001b[0m",
      "\u001b[1;31mTypeError\u001b[0m                                 Traceback (most recent call last)",
      "\u001b[1;32m<ipython-input-29-7c2597f0ab29>\u001b[0m in \u001b[0;36m<module>\u001b[1;34m\u001b[0m\n\u001b[0;32m      1\u001b[0m \u001b[0mh\u001b[0m \u001b[1;33m=\u001b[0m \u001b[0mHashing\u001b[0m\u001b[1;33m(\u001b[0m\u001b[1;33m)\u001b[0m\u001b[1;33m\u001b[0m\u001b[1;33m\u001b[0m\u001b[0m\n\u001b[1;32m----> 2\u001b[1;33m \u001b[0mh\u001b[0m\u001b[1;33m.\u001b[0m\u001b[0mmain\u001b[0m\u001b[1;33m(\u001b[0m\u001b[1;33m)\u001b[0m\u001b[1;33m\u001b[0m\u001b[1;33m\u001b[0m\u001b[0m\n\u001b[0m",
      "\u001b[1;32m<ipython-input-28-ffd9fa48f8ae>\u001b[0m in \u001b[0;36mmain\u001b[1;34m(self)\u001b[0m\n\u001b[0;32m     64\u001b[0m \u001b[1;33m\u001b[0m\u001b[0m\n\u001b[0;32m     65\u001b[0m         \u001b[1;32mfor\u001b[0m \u001b[0mi\u001b[0m \u001b[1;32min\u001b[0m \u001b[0mrange\u001b[0m\u001b[1;33m(\u001b[0m\u001b[1;36m0\u001b[0m\u001b[1;33m,\u001b[0m\u001b[1;36m7\u001b[0m\u001b[1;33m)\u001b[0m\u001b[1;33m:\u001b[0m\u001b[1;33m\u001b[0m\u001b[1;33m\u001b[0m\u001b[0m\n\u001b[1;32m---> 66\u001b[1;33m             \u001b[0mself\u001b[0m\u001b[1;33m.\u001b[0m\u001b[0mhash_lp_add\u001b[0m\u001b[1;33m(\u001b[0m\u001b[0me\u001b[0m\u001b[1;33m,\u001b[0m \u001b[0mself\u001b[0m\u001b[1;33m.\u001b[0m\u001b[0mhashtable\u001b[0m\u001b[1;33m)\u001b[0m\u001b[1;33m\u001b[0m\u001b[1;33m\u001b[0m\u001b[0m\n\u001b[0m\u001b[0;32m     67\u001b[0m             \u001b[0mself\u001b[0m\u001b[1;33m.\u001b[0m\u001b[0mhash_lp_print\u001b[0m\u001b[1;33m(\u001b[0m\u001b[0mself\u001b[0m\u001b[1;33m.\u001b[0m\u001b[0mhashtalbe\u001b[0m\u001b[1;33m)\u001b[0m\u001b[1;33m\u001b[0m\u001b[1;33m\u001b[0m\u001b[0m\n\u001b[0;32m     68\u001b[0m \u001b[1;33m\u001b[0m\u001b[0m\n",
      "\u001b[1;32m<ipython-input-28-ffd9fa48f8ae>\u001b[0m in \u001b[0;36mhash_lp_add\u001b[1;34m(self, item, ht)\u001b[0m\n\u001b[0;32m     29\u001b[0m \u001b[1;33m\u001b[0m\u001b[0m\n\u001b[0;32m     30\u001b[0m     \u001b[1;32mdef\u001b[0m \u001b[0mhash_lp_add\u001b[0m\u001b[1;33m(\u001b[0m\u001b[0mself\u001b[0m\u001b[1;33m,\u001b[0m \u001b[0mitem\u001b[0m\u001b[1;33m,\u001b[0m \u001b[0mht\u001b[0m\u001b[1;33m)\u001b[0m\u001b[1;33m:\u001b[0m\u001b[1;33m\u001b[0m\u001b[1;33m\u001b[0m\u001b[0m\n\u001b[1;32m---> 31\u001b[1;33m         \u001b[0mhash_value\u001b[0m\u001b[1;33m,\u001b[0m \u001b[0mi\u001b[0m \u001b[1;33m=\u001b[0m \u001b[1;36m0\u001b[0m\u001b[1;33m\u001b[0m\u001b[1;33m\u001b[0m\u001b[0m\n\u001b[0m\u001b[0;32m     32\u001b[0m         \u001b[0mhash_value\u001b[0m \u001b[1;33m=\u001b[0m \u001b[0mi\u001b[0m \u001b[1;33m=\u001b[0m \u001b[0mhash_function\u001b[0m\u001b[1;33m(\u001b[0m\u001b[0mitem\u001b[0m\u001b[1;33m.\u001b[0m\u001b[0mkey\u001b[0m\u001b[1;33m)\u001b[0m\u001b[1;33m\u001b[0m\u001b[1;33m\u001b[0m\u001b[0m\n\u001b[0;32m     33\u001b[0m \u001b[1;33m\u001b[0m\u001b[0m\n",
      "\u001b[1;31mTypeError\u001b[0m: cannot unpack non-iterable int object"
     ]
    }
   ],
   "metadata": {}
  },
  {
   "cell_type": "code",
   "execution_count": null,
   "source": [
    "TABLE_SIZE = 11\n",
    "KEY_SIZE = 11\n",
    "class Hashing:\n",
    "    def __init__(self):\n",
    "        self.table = [None] * TABLE_SIZE\n",
    "        self.key = [None] * KEY_SIZE\n",
    "        \n",
    "    def hash(self, key):\n",
    "        return key % TABLE_SIZE\n",
    "    \n",
    "    def put(self, key, data):\n",
    "        init_hash = self.hash(key)\n",
    "        i = init_hash\n",
    "        j = 0\n",
    "        while True:\n",
    "            if self.table[i]"
   ],
   "outputs": [],
   "metadata": {}
  },
  {
   "cell_type": "code",
   "execution_count": 37,
   "source": [
    "True or True"
   ],
   "outputs": [
    {
     "output_type": "execute_result",
     "data": {
      "text/plain": [
       "True"
      ]
     },
     "metadata": {},
     "execution_count": 37
    }
   ],
   "metadata": {}
  },
  {
   "cell_type": "code",
   "execution_count": 44,
   "source": [
    "class BinaryTree:\n",
    "    class TreeNode:\n",
    "        def __init__(self, data):\n",
    "            self.data = data\n",
    "            self.left = None\n",
    "            self.right = None\n",
    "    \n",
    "    def __init__(self):\n",
    "        self.root = None\n",
    "\n",
    "    def new_node(self, data):\n",
    "        self.root = self.insert_node(self.root, data)\n",
    "\n",
    "    def insert_node(self, node, data):\n",
    "        if node is None:\n",
    "            node = self.TreeNode(data)\n",
    "\n",
    "        if data < node.data:\n",
    "            if node.left != None:\n",
    "                self.insert_node(node.left, data)\n",
    "            else:\n",
    "                node.left = self.TreeNode(data)\n",
    "        elif data > node.data:\n",
    "            if node.right != None:\n",
    "                self.insert_node(node.right, data)\n",
    "            else:\n",
    "                node.right = self.TreeNode(data)\n",
    "        return node\n",
    "\n",
    "    def reverse_inorder(self, n):\n",
    "        if n != None:\n",
    "            if n.right:\n",
    "                self.reverse_inorder(n.right)\n",
    "            print(n.data,\" \",end=\"\")\n",
    "            if n.left:\n",
    "                self.reverse_inorder(n.left)\n",
    "    \n",
    "array = [11, 3, 4, 1, 56, 5, 6, 2, 98, 32, 23]\n",
    "\n",
    "t = BinaryTree()\n",
    "for i in array:\n",
    "    t.new_node(i)\n",
    "    \n",
    "root = t.root\n",
    "t.reverse_inorder(root)"
   ],
   "outputs": [
    {
     "output_type": "stream",
     "name": "stdout",
     "text": [
      "98  56  32  23  11  6  5  4  3  2  1  "
     ]
    }
   ],
   "metadata": {}
  },
  {
   "cell_type": "code",
   "execution_count": 134,
   "source": [
    "import random\n",
    "for i in range(10):\n",
    "    key[i] = random.randint(1, 9999)\n",
    "    print(i,\" \",key[i])"
   ],
   "outputs": [
    {
     "output_type": "stream",
     "name": "stdout",
     "text": [
      "0   548\n",
      "1   152\n",
      "2   9084\n",
      "3   8001\n",
      "4   9954\n",
      "5   4739\n",
      "6   371\n",
      "7   6934\n",
      "8   1838\n",
      "9   1386\n"
     ]
    }
   ],
   "metadata": {}
  },
  {
   "cell_type": "code",
   "execution_count": 60,
   "source": [
    "class HeapTree:\n",
    "    def __init__(self):\n",
    "        self.heap = [None]\n",
    "\n",
    "    def is_empty(self):\n",
    "        return len(self.heap) < 1 \n",
    "\n",
    "    def insert_max_heap(self, item):\n",
    "        self.heap.append(item)\n",
    "        print(\"삽입 연산: \",self.heap)\n",
    "        \n",
    "        index = len(self.heap) - 1\n",
    "    \n",
    "        while index != 1:\n",
    "            Parent = index//2\n",
    "            print(\"삽입 노드: \", self.heap[index], \"인덱스 번호: \",index, end=\" |#| \")\n",
    "            print(\"부모 노드: \", self.heap[Parent], \"인덱스 번호: \", Parent)\n",
    "\n",
    "            if self.heap[Parent] < self.heap[index]:\n",
    "                print(\"\")\n",
    "                self.heap[Parent], self.heap[index] = self.heap[index], self.heap[Parent]\n",
    "                index = Parent\n",
    "            else:\n",
    "                break\n",
    "            print(\"변환 후: \", self.heap)\n",
    "        print(\"=\"*65)\n",
    "\n",
    "    def delete_max_heap(self):\n",
    "        if len(self.heap) > 1:\n",
    "            self.heap[1], self.heap[-1] = self.heap[-1], self.heap[1]\n",
    "            self.heap.pop(-1)\n",
    "            self.maxHeapify(1)\n",
    "        else:\n",
    "            heap = None\n",
    "        return self.heap\n",
    "    \n",
    "    def maxHeapify(self, i):\n",
    "        left = i * 2\n",
    "        right = i * 2 + 1\n",
    "        greatest = i\n",
    "        \n",
    "        if left < len(self.heap) and self.heap[left] > self.heap[greatest]:\n",
    "            greatest = left\n",
    "\n",
    "        if right < len(self.heap) and self.heap[right] > self.heap[greatest]:\n",
    "            greatest = right\n",
    "            \n",
    "        if greatest != i:\n",
    "            self.heap[i], self.heap[greatest] = self.heap[greatest], self.heap[i]\n",
    "            self.maxHeapify(greatest)\n",
    "\n",
    "class EmptyError(Exception):\n",
    "    pass\n",
    "\n",
    "Heap = HeapTree()\n",
    "Heap.insert_max_heap(9)\n",
    "Heap.insert_max_heap(7)\n",
    "Heap.insert_max_heap(6)\n",
    "Heap.insert_max_heap(5)\n",
    "Heap.insert_max_heap(2)\n",
    "Heap.insert_max_heap(2)\n",
    "Heap.insert_max_heap(4)\n",
    "Heap.insert_max_heap(3)\n",
    "Heap.insert_max_heap(1)\n",
    "Heap.insert_max_heap(3)\n",
    "Heap.delete_max_heap()"
   ],
   "outputs": [
    {
     "output_type": "stream",
     "name": "stdout",
     "text": [
      "삽입 연산:  [None, 9]\n",
      "=================================================================\n",
      "삽입 연산:  [None, 9, 7]\n",
      "삽입 노드:  7 인덱스 번호:  2 |#| 부모 노드:  9 인덱스 번호:  1\n",
      "=================================================================\n",
      "삽입 연산:  [None, 9, 7, 6]\n",
      "삽입 노드:  6 인덱스 번호:  3 |#| 부모 노드:  9 인덱스 번호:  1\n",
      "=================================================================\n",
      "삽입 연산:  [None, 9, 7, 6, 5]\n",
      "삽입 노드:  5 인덱스 번호:  4 |#| 부모 노드:  7 인덱스 번호:  2\n",
      "=================================================================\n",
      "삽입 연산:  [None, 9, 7, 6, 5, 2]\n",
      "삽입 노드:  2 인덱스 번호:  5 |#| 부모 노드:  7 인덱스 번호:  2\n",
      "=================================================================\n",
      "삽입 연산:  [None, 9, 7, 6, 5, 2, 2]\n",
      "삽입 노드:  2 인덱스 번호:  6 |#| 부모 노드:  6 인덱스 번호:  3\n",
      "=================================================================\n",
      "삽입 연산:  [None, 9, 7, 6, 5, 2, 2, 4]\n",
      "삽입 노드:  4 인덱스 번호:  7 |#| 부모 노드:  6 인덱스 번호:  3\n",
      "=================================================================\n",
      "삽입 연산:  [None, 9, 7, 6, 5, 2, 2, 4, 3]\n",
      "삽입 노드:  3 인덱스 번호:  8 |#| 부모 노드:  5 인덱스 번호:  4\n",
      "=================================================================\n",
      "삽입 연산:  [None, 9, 7, 6, 5, 2, 2, 4, 3, 1]\n",
      "삽입 노드:  1 인덱스 번호:  9 |#| 부모 노드:  5 인덱스 번호:  4\n",
      "=================================================================\n",
      "삽입 연산:  [None, 9, 7, 6, 5, 2, 2, 4, 3, 1, 3]\n",
      "삽입 노드:  3 인덱스 번호:  10 |#| 부모 노드:  2 인덱스 번호:  5\n",
      "\n",
      "변환 후:  [None, 9, 7, 6, 5, 3, 2, 4, 3, 1, 2]\n",
      "삽입 노드:  3 인덱스 번호:  5 |#| 부모 노드:  7 인덱스 번호:  2\n",
      "=================================================================\n"
     ]
    },
    {
     "output_type": "execute_result",
     "data": {
      "text/plain": [
       "[None, 7, 5, 6, 3, 3, 2, 4, 2, 1]"
      ]
     },
     "metadata": {},
     "execution_count": 60
    }
   ],
   "metadata": {}
  },
  {
   "cell_type": "code",
   "execution_count": 23,
   "source": [
    "MAX_VERTICES=50\n",
    "class Graph:\n",
    "    def __init__(self):\n",
    "        self.size = 0\n",
    "        self.adj_mat = [[0]*4]*4\n",
    "        \n",
    "    def insert_vertex(self, v):\n",
    "        if self.size+1 > MAX_VERTICES:\n",
    "            print(\"정점의 개수 초과\")\n",
    "        self.size += 1\n",
    "        \n",
    "    def insert_edge(self, start, end):\n",
    "        if start > self.size or end > self.size:\n",
    "            print(\"정점 번호 오류\")\n",
    "  \n",
    "        self.adj_mat[start][end] = 1\n",
    "        self.adj_mat[end][start] = 1\n",
    "        \n",
    "    def print_adj_mat(self):\n",
    "        for i in range(len(self.adj_mat)):\n",
    "            for j in range(len(self.adj_mat)):\n",
    "                print(self.adj_mat[i][j], end=\" \")\n",
    "            print()\n",
    "            \n",
    "\n",
    "                \n",
    "g = Graph()\n",
    "for i in range(5):\n",
    "    g.insert_vertex(i)\n",
    "g.insert_edge(0,1)\n",
    "g.print_adj_mat()"
   ],
   "outputs": [
    {
     "output_type": "stream",
     "name": "stdout",
     "text": [
      "1 1 0 0 \n",
      "1 1 0 0 \n",
      "1 1 0 0 \n",
      "1 1 0 0 \n"
     ]
    }
   ],
   "metadata": {}
  },
  {
   "cell_type": "code",
   "execution_count": 24,
   "source": [
    "n = 4\n",
    "e = 5\n",
    "node =  [[0,1], [0,2], [0,3], [1,2], [2,3]]\n",
    "\n",
    "adj = [[0 for i in range(n)] for i in range(n)]\n",
    "for src, dst in node:\n",
    "    adj[src][dst] = 1\n",
    "    adj[dst][src] = 1\n",
    "adj"
   ],
   "outputs": [
    {
     "output_type": "execute_result",
     "data": {
      "text/plain": [
       "[[0, 1, 1, 1], [1, 0, 1, 0], [1, 1, 0, 1], [1, 0, 1, 0]]"
      ]
     },
     "metadata": {},
     "execution_count": 24
    }
   ],
   "metadata": {}
  },
  {
   "cell_type": "code",
   "execution_count": 25,
   "source": [
    "for i in range(len(adj)):\n",
    "    for j in range(len(adj)):\n",
    "        print(\"%2d\"%adj[i][j],end=\" \")\n",
    "    print()"
   ],
   "outputs": [
    {
     "output_type": "stream",
     "name": "stdout",
     "text": [
      " 0  1  1  1 \n",
      " 1  0  1  0 \n",
      " 1  1  0  1 \n",
      " 1  0  1  0 \n"
     ]
    }
   ],
   "metadata": {}
  },
  {
   "cell_type": "code",
   "execution_count": 3,
   "source": [
    "class Node:\n",
    "    def __init__(self, v):\n",
    "        self.vertex = v\n",
    "        self.next = None\n",
    "\n",
    "def printGraph():\n",
    "    for v in range(5):\n",
    "        print(v, end=': ')\n",
    "        current = adjList1[v]\n",
    "        while current is not None:\n",
    "            print(current.vertex, end=' ')\n",
    "            current = current.next\n",
    "        print()\n",
    "        \n",
    "def dfs2(adjList1, v, visited):\n",
    "    visited[v] = True \n",
    "    print(v, end=' ')\n",
    "    node = adjList1[v]\n",
    "    while node is not None:\n",
    "        w = node.vertex\n",
    "        if visited[w] == False:\n",
    "            dfs2(adjList1, w, visited)\n",
    "        node = node.next\n",
    "    \n",
    "n, m = map(int, input().split())\n",
    "adjList1 = [None for i in range(n)]\n",
    "visited = [False for k in range(n)]  \n",
    "\n",
    "for i in range(m):\n",
    "    u, v = map(int, input().split())\n",
    "    node = Node(v)\n",
    "    node.next = adjList1[u]\n",
    "    adjList1[u] = node\n",
    "   \n",
    "    node = Node(u)\n",
    "    node.next = adjList1[v]\n",
    "    adjList1[v] = node\n",
    "\n",
    "for i in range(n):\n",
    "    visited[i] = False\n",
    "dfs2(adjList1, 0, visited)\n",
    "print(\"\")"
   ],
   "outputs": [
    {
     "output_type": "stream",
     "name": "stdout",
     "text": [
      "5 5\n",
      "0 1\n",
      "0 2\n",
      "0 3\n",
      "1 2\n",
      "2 3\n",
      "0 3 2 1 \n"
     ]
    }
   ],
   "metadata": {}
  },
  {
   "cell_type": "code",
   "execution_count": 15,
   "source": [
    "class Node:\n",
    "    def __init__(self, v):\n",
    "        self.vertex = v\n",
    "        self.next = None\n",
    "\n",
    "def printGraph():\n",
    "    for v in range(5):\n",
    "        print(v, end=': ')\n",
    "        current = adjList1[v]\n",
    "        while current is not None:\n",
    "            print(current.vertex, end=' ')\n",
    "            current = current.next\n",
    "        print()\n",
    "        \n",
    "def dfs2(adjList1, v, visited):\n",
    "    visited[v] = True \n",
    "    print(v, end=' ')\n",
    "    node = adjList1[v]\n",
    "    while node is not None:\n",
    "        w = node.vertex\n",
    "        if visited[w] == False:\n",
    "            dfs2(adjList1, w, visited)\n",
    "        node = node.next\n",
    "    \n",
    "n, m = map(int, input(\"노드의 개수, 간선의 개수: \").split())\n",
    "adjList1 = [None for i in range(n)]\n",
    "visited = [False for k in range(n)]  \n",
    "\n",
    "for i in range(m):\n",
    "    u, v = map(int, input().split())\n",
    "    node = Node(v)\n",
    "    node.next = adjList1[u]\n",
    "    adjList1[u] = node\n",
    "   \n",
    "    node = Node(u)\n",
    "    node.next = adjList1[v]\n",
    "    adjList1[v] = node\n",
    "\n",
    "dfs2(adjList1, 0, visited)\n",
    "print(\"\")"
   ],
   "outputs": [
    {
     "output_type": "stream",
     "name": "stdout",
     "text": [
      "노드의 개수, 간선의 개수: 5 5\n",
      "0 1\n",
      "0 2\n",
      "0 3\n",
      "1 2\n",
      "2 3\n",
      "0 3 2 1 \n"
     ]
    }
   ],
   "metadata": {}
  },
  {
   "cell_type": "code",
   "execution_count": 17,
   "source": [
    "size = 4\n",
    "\n",
    "class Graph:\n",
    "    class Node:\n",
    "        def __init__(self, v):\n",
    "            self.vertex = v\n",
    "            self.link = None\n",
    "\n",
    "    def __init__(self):\n",
    "        self.adj_mat = [None for _ in range(size)]\n",
    "        self.visited = [False for _ in range(size)]\n",
    "\n",
    "    def insert_edge(self, u, v):\n",
    "        self.node = self.Node(v)\n",
    "        self.node.link = self.adj_mat[u]\n",
    "        self.adj_mat[u] = self.node\n",
    "\n",
    "    def dfs(self, v):\n",
    "        self.visited[v] = True\n",
    "        print(\"정점 %d -> \" % v, end=\" \")\n",
    "        self.node = self.adj_mat[v]\n",
    "\n",
    "        while self.node is not None:\n",
    "            w = self.node.vertex\n",
    "            if self.visited[w] == False:\n",
    "                self.dfs(w)\n",
    "\n",
    "\n",
    "    def main(self):\n",
    "        edges = [[0,1], [0,2], [0,3], [1,2], [2,3]]\n",
    "        for u, v in edges:\n",
    "            self.insert_edge(u, v)\n",
    "        self.dfs(0)\n",
    "\n",
    "g = Graph()\n",
    "g.main()"
   ],
   "outputs": [
    {
     "output_type": "stream",
     "name": "stdout",
     "text": [
      "정점 0 ->  정점 3 ->  "
     ]
    }
   ],
   "metadata": {}
  },
  {
   "cell_type": "code",
   "execution_count": 42,
   "source": [
    "size = 4\n",
    "\n",
    "class Graph:\n",
    "    class Node:\n",
    "        def __init__(self, v):\n",
    "            self.vertex = v\n",
    "            self.link = None\n",
    "\n",
    "    def __init__(self):\n",
    "        self.adj_mat = [None for _ in range(size)]\n",
    "        self.visited = [False for _ in range(size)]\n",
    "        self.head = None\n",
    "\n",
    "    def insert_edge(self, u, v):\n",
    "        self.node = self.Node(v)\n",
    "        self.node.link = self.adj_mat[u]\n",
    "        self.adj_mat[u] = self.node\n",
    "\n",
    "    def dfs(self, v):\n",
    "        self.visited[v] = True\n",
    "        print(\"정점 %d -> \" % v, end=\" \")\n",
    "        self.head = self.adj_mat[v]\n",
    "        w = self.head\n",
    "\n",
    "        while w!=None:\n",
    "            if w.link != None:\n",
    "                w = w.link\n",
    "            else:\n",
    "                self.dfs(w.vertex)\n",
    "                break\n",
    "\n",
    "\n",
    "    def main(self):\n",
    "        edges = [[0,1], [0,2], [0,3], [1,2], [2,3]]\n",
    "        for u, v in edges:\n",
    "            self.insert_edge(u, v)\n",
    "        self.dfs(0)\n",
    "        \n",
    "g = Graph()\n",
    "g.main()"
   ],
   "outputs": [
    {
     "output_type": "stream",
     "name": "stdout",
     "text": [
      "정점 0 ->  정점 1 ->  정점 2 ->  정점 3 ->  "
     ]
    }
   ],
   "metadata": {}
  },
  {
   "cell_type": "code",
   "execution_count": 38,
   "source": [
    "class Node:\n",
    "    def __init__(self, v):\n",
    "        self.vertex = v\n",
    "        self.next = None\n",
    "\n",
    "class Graph:    \n",
    "    def dfs2(adjList1, v, visited):\n",
    "        visited[v] = True \n",
    "        print(v, end=' ')\n",
    "        node = adjList1[v]\n",
    "        while node is not None:\n",
    "            w = node.vertex\n",
    "            if visited[w] == False:\n",
    "                dfs2(adjList1, w, visited)\n",
    "            node = node.next\n",
    "    \n",
    "    n, m = map(int, input().split())\n",
    "    adjList1 = [None for i in range(n)]\n",
    "    visited = [False for k in range(n)]  \n",
    "\n",
    "    for i in range(m):\n",
    "        u, v = map(int, input().split())\n",
    "        node = Node(v)\n",
    "        node.next = adjList1[u]\n",
    "        adjList1[u] = node\n",
    "   \n",
    "        node = Node(u)\n",
    "        node.next = adjList1[v]\n",
    "        adjList1[v] = node\n",
    "dfs2(adjList1, 0, visited)"
   ],
   "outputs": [
    {
     "output_type": "stream",
     "name": "stdout",
     "text": [
      "10 10\n",
      "0 1\n",
      "1 0\n",
      "0 2\n",
      "2 0\n",
      "0 3\n",
      "3 0\n",
      "1 2\n",
      "2 1\n",
      "2 3\n",
      "3 2\n",
      "0 3 2 "
     ]
    }
   ],
   "metadata": {}
  },
  {
   "cell_type": "code",
   "execution_count": 36,
   "source": [
    "size = 5\n",
    "\n",
    "class Graph:\n",
    "    class Node:\n",
    "        def __init__(self, v):\n",
    "            self.vertex = v\n",
    "            self.next = None\n",
    "            \n",
    "    def __init__(self):\n",
    "        self.adjList1 = [None for i in range(size)]\n",
    "        self.visited = [False for k in range(size)]\n",
    "        \n",
    "    def dfs2(self, adjList1, v, visited):\n",
    "        visited[v] = True \n",
    "        print(v, end=' ')\n",
    "        node = adjList1[v]\n",
    "        while node is not None:\n",
    "            w = node.vertex\n",
    "            if visited[w] == False:\n",
    "                self.dfs2(adjList1, w, visited)\n",
    "        node = node.next\n",
    "\n",
    "    def main(self):\n",
    "        m = int(input())\n",
    "\n",
    "        for i in range(m):\n",
    "            u, v = map(int, input().split())\n",
    "            node = self.Node(v)\n",
    "            node.next = self.adjList1[u]\n",
    "            self.adjList1[u] = node\n",
    "\n",
    "            node = self.Node(u)\n",
    "            node.next = self.adjList1[v]\n",
    "            self.adjList1[v] = node\n",
    "            \n",
    "        self.dfs2(self.adjList1, 0, self.visited)\n",
    "\n",
    "g = Graph()\n",
    "g.main()"
   ],
   "outputs": [
    {
     "output_type": "stream",
     "name": "stdout",
     "text": [
      "10 10\n"
     ]
    },
    {
     "output_type": "error",
     "ename": "ValueError",
     "evalue": "invalid literal for int() with base 10: '10 10'",
     "traceback": [
      "\u001b[1;31m---------------------------------------------------------------------------\u001b[0m",
      "\u001b[1;31mValueError\u001b[0m                                Traceback (most recent call last)",
      "\u001b[1;32m<ipython-input-36-598bc03fe802>\u001b[0m in \u001b[0;36m<module>\u001b[1;34m\u001b[0m\n\u001b[0;32m     37\u001b[0m \u001b[1;33m\u001b[0m\u001b[0m\n\u001b[0;32m     38\u001b[0m \u001b[0mg\u001b[0m \u001b[1;33m=\u001b[0m \u001b[0mGraph\u001b[0m\u001b[1;33m(\u001b[0m\u001b[1;33m)\u001b[0m\u001b[1;33m\u001b[0m\u001b[1;33m\u001b[0m\u001b[0m\n\u001b[1;32m---> 39\u001b[1;33m \u001b[0mg\u001b[0m\u001b[1;33m.\u001b[0m\u001b[0mmain\u001b[0m\u001b[1;33m(\u001b[0m\u001b[1;33m)\u001b[0m\u001b[1;33m\u001b[0m\u001b[1;33m\u001b[0m\u001b[0m\n\u001b[0m",
      "\u001b[1;32m<ipython-input-36-598bc03fe802>\u001b[0m in \u001b[0;36mmain\u001b[1;34m(self)\u001b[0m\n\u001b[0;32m     22\u001b[0m \u001b[1;33m\u001b[0m\u001b[0m\n\u001b[0;32m     23\u001b[0m     \u001b[1;32mdef\u001b[0m \u001b[0mmain\u001b[0m\u001b[1;33m(\u001b[0m\u001b[0mself\u001b[0m\u001b[1;33m)\u001b[0m\u001b[1;33m:\u001b[0m\u001b[1;33m\u001b[0m\u001b[1;33m\u001b[0m\u001b[0m\n\u001b[1;32m---> 24\u001b[1;33m         \u001b[0mm\u001b[0m \u001b[1;33m=\u001b[0m \u001b[0mint\u001b[0m\u001b[1;33m(\u001b[0m\u001b[0minput\u001b[0m\u001b[1;33m(\u001b[0m\u001b[1;33m)\u001b[0m\u001b[1;33m)\u001b[0m\u001b[1;33m\u001b[0m\u001b[1;33m\u001b[0m\u001b[0m\n\u001b[0m\u001b[0;32m     25\u001b[0m \u001b[1;33m\u001b[0m\u001b[0m\n\u001b[0;32m     26\u001b[0m         \u001b[1;32mfor\u001b[0m \u001b[0mi\u001b[0m \u001b[1;32min\u001b[0m \u001b[0mrange\u001b[0m\u001b[1;33m(\u001b[0m\u001b[0mm\u001b[0m\u001b[1;33m)\u001b[0m\u001b[1;33m:\u001b[0m\u001b[1;33m\u001b[0m\u001b[1;33m\u001b[0m\u001b[0m\n",
      "\u001b[1;31mValueError\u001b[0m: invalid literal for int() with base 10: '10 10'"
     ]
    }
   ],
   "metadata": {}
  },
  {
   "cell_type": "code",
   "execution_count": 1,
   "source": [
    "class Graph():\n",
    "    def __init__(self, vertices):\n",
    "        self.V = vertices\n",
    "        self.graph = [[0 for column in range(vertices)]\n",
    "                      for row in range(vertices)]\n",
    " \n",
    "    def dijkstra(self, src):\n",
    "\n",
    "g = Graph(9)\n",
    "g.graph = [[0, 4, 0, 0, 0, 0, 0, 8, 0],\n",
    "           [4, 0, 8, 0, 0, 0, 0, 11, 0],\n",
    "           [0, 8, 0, 7, 0, 4, 0, 0, 2],\n",
    "           [0, 0, 7, 0, 9, 14, 0, 0, 0],\n",
    "           [0, 0, 0, 9, 0, 10, 0, 0, 0],\n",
    "           [0, 0, 4, 14, 10, 0, 2, 0, 0],\n",
    "           [0, 0, 0, 0, 0, 2, 0, 1, 6],\n",
    "           [8, 11, 0, 0, 0, 0, 1, 0, 7],\n",
    "           [0, 0, 2, 0, 0, 0, 6, 7, 0]\n",
    "           ]\n",
    " \n",
    "g.dijkstra(0)"
   ],
   "outputs": [
    {
     "output_type": "error",
     "ename": "SyntaxError",
     "evalue": "invalid syntax (<ipython-input-1-21e231f1c804>, line 37)",
     "traceback": [
      "\u001b[1;36m  File \u001b[1;32m\"<ipython-input-1-21e231f1c804>\"\u001b[1;36m, line \u001b[1;32m37\u001b[0m\n\u001b[1;33m    if self.graph[u][v] > 0 and\u001b[0m\n\u001b[1;37m                               ^\u001b[0m\n\u001b[1;31mSyntaxError\u001b[0m\u001b[1;31m:\u001b[0m invalid syntax\n"
     ]
    }
   ],
   "metadata": {}
  },
  {
   "cell_type": "code",
   "execution_count": 3,
   "source": [
    "class Graph:\n",
    "    def __init__(self):\n",
    "        self.nodes = set()\n",
    "        self.edges = defaultdict(list)\n",
    "        self.distances = {}\n",
    "        \n",
    "    def add_node(self, value):\n",
    "        self.nodes.add(value)\n",
    "        \n",
    "        \n",
    "    def add_edge(self, from_node, to_node, distance):\n",
    "        self.edges[from_node].append(to_node)\n",
    "        self.edges[to_node].append(from_node)\n",
    "        self.distances[(from_node, to_node)] = distance\n",
    "\n",
    "    def dijsktra(graph, initial):\n",
    "        visited = {initial: 0}\n",
    "        path = {}\n",
    "    \n",
    "        nodes = set(graph.nodes)\n",
    "    \n",
    "        while nodes: \n",
    "            min_node = None\n",
    "            for node in nodes:\n",
    "                if node in visited:\n",
    "                    if min_node is None:\n",
    "                        min_node = node\n",
    "                    elif visited[node] < visited[min_node]:\n",
    "                        min_node = node\n",
    "                    \n",
    "            if min_node is None:\n",
    "                break\n",
    "\n",
    "            nodes.remove(min_node)\n",
    "            current_weight = visited[min_node]\n",
    "\n",
    "            for edge in graph.edges[min_node]:\n",
    "                weight = current_weight + graph.distance[(min_node, edge)]\n",
    "            \n",
    "                if edge not in visited or weight < visited[edge]:\n",
    "                    visited[edge] = weight\n",
    "                    path[edge] = min_node  \n",
    "            return visited, path"
   ],
   "outputs": [],
   "metadata": {}
  },
  {
   "cell_type": "code",
   "execution_count": 5,
   "source": [
    "\n",
    "g = Graph()\n",
    "add_edge(0, 4, 3)"
   ],
   "outputs": [
    {
     "output_type": "error",
     "ename": "NameError",
     "evalue": "name 'defaultdict' is not defined",
     "traceback": [
      "\u001b[1;31m---------------------------------------------------------------------------\u001b[0m",
      "\u001b[1;31mNameError\u001b[0m                                 Traceback (most recent call last)",
      "\u001b[1;32m<ipython-input-5-d8ba448f94bd>\u001b[0m in \u001b[0;36m<module>\u001b[1;34m\u001b[0m\n\u001b[1;32m----> 1\u001b[1;33m \u001b[0mg\u001b[0m \u001b[1;33m=\u001b[0m \u001b[0mGraph\u001b[0m\u001b[1;33m(\u001b[0m\u001b[1;33m)\u001b[0m\u001b[1;33m\u001b[0m\u001b[1;33m\u001b[0m\u001b[0m\n\u001b[0m\u001b[0;32m      2\u001b[0m \u001b[0mg\u001b[0m\u001b[1;33m.\u001b[0m\u001b[0madd_edge\u001b[0m\u001b[1;33m(\u001b[0m\u001b[1;36m0\u001b[0m\u001b[1;33m,\u001b[0m \u001b[1;36m4\u001b[0m\u001b[1;33m,\u001b[0m \u001b[1;36m3\u001b[0m\u001b[1;33m)\u001b[0m\u001b[1;33m\u001b[0m\u001b[1;33m\u001b[0m\u001b[0m\n",
      "\u001b[1;32m<ipython-input-3-927bbec63f90>\u001b[0m in \u001b[0;36m__init__\u001b[1;34m(self)\u001b[0m\n\u001b[0;32m      2\u001b[0m     \u001b[1;32mdef\u001b[0m \u001b[0m__init__\u001b[0m\u001b[1;33m(\u001b[0m\u001b[0mself\u001b[0m\u001b[1;33m)\u001b[0m\u001b[1;33m:\u001b[0m\u001b[1;33m\u001b[0m\u001b[1;33m\u001b[0m\u001b[0m\n\u001b[0;32m      3\u001b[0m         \u001b[0mself\u001b[0m\u001b[1;33m.\u001b[0m\u001b[0mnodes\u001b[0m \u001b[1;33m=\u001b[0m \u001b[0mset\u001b[0m\u001b[1;33m(\u001b[0m\u001b[1;33m)\u001b[0m\u001b[1;33m\u001b[0m\u001b[1;33m\u001b[0m\u001b[0m\n\u001b[1;32m----> 4\u001b[1;33m         \u001b[0mself\u001b[0m\u001b[1;33m.\u001b[0m\u001b[0medges\u001b[0m \u001b[1;33m=\u001b[0m \u001b[0mdefaultdict\u001b[0m\u001b[1;33m(\u001b[0m\u001b[0mlist\u001b[0m\u001b[1;33m)\u001b[0m\u001b[1;33m\u001b[0m\u001b[1;33m\u001b[0m\u001b[0m\n\u001b[0m\u001b[0;32m      5\u001b[0m         \u001b[0mself\u001b[0m\u001b[1;33m.\u001b[0m\u001b[0mdistances\u001b[0m \u001b[1;33m=\u001b[0m \u001b[1;33m{\u001b[0m\u001b[1;33m}\u001b[0m\u001b[1;33m\u001b[0m\u001b[1;33m\u001b[0m\u001b[0m\n\u001b[0;32m      6\u001b[0m \u001b[1;33m\u001b[0m\u001b[0m\n",
      "\u001b[1;31mNameError\u001b[0m: name 'defaultdict' is not defined"
     ]
    }
   ],
   "metadata": {}
  },
  {
   "cell_type": "code",
   "execution_count": 35,
   "source": [
    "INF = 999\n",
    "def choose_vertex(dist,found):\n",
    "    min = INF\n",
    "    minpos = -1\n",
    "    for i in range(len(dist)):\n",
    "        if dist[i]<min and found[i]== False:\n",
    "            min = dist[i]\n",
    "            minpos = i\n",
    "                \n",
    "    return minpos\n"
   ],
   "outputs": [],
   "metadata": {}
  },
  {
   "cell_type": "code",
   "execution_count": 36,
   "source": [
    "def shorted_path(vtx, adj, start):\n",
    "    vsize = len(vtx)\n",
    "    dist = list(adj[start])\n",
    "    path = [start] * vsize\n",
    "    found = [False] * vsize\n",
    "    found[start] = True\n",
    "    dist[start] = 0\n",
    "    \n",
    "    for i in range(vsize):\n",
    "        print(\"step%2d: \" % (i+1), dist)\n",
    "        u = choose_vertex(dist, found)\n",
    "        found[u] = True\n",
    "        \n",
    "        for w in range(vsize):\n",
    "            if not found[w]:\n",
    "                if dist[u] + adj[u][w] < dist[w]:\n",
    "                    dist[w] = dist[u] + adj[u][w]\n",
    "                    path[w] = u\n",
    "                    \n",
    "    return path"
   ],
   "outputs": [],
   "metadata": {}
  },
  {
   "cell_type": "code",
   "execution_count": 37,
   "source": [
    "vertex = ['a', 'b', 'c', 'd', 'e', 'f', 'g']\n",
    "weight = [[0, 7, INF, INF, 3, 10, INF],\n",
    "          [7, 0, 4, 10, 2, 6, INF],\n",
    "          [INF, 4, 0, 2, INF, INF, INF],\n",
    "          [INF, 10, 2, 0, 11, 9, 4],\n",
    "          [3, 2, INF, 11, 0, 13, 5],\n",
    "          [10, 6, INF, 9, 13, 0, INF],\n",
    "          [INF, INF, INF, 4, 5, INF, 0]]\n",
    "\n",
    "\n",
    "start = 0\n",
    "path = shorted_path(vertex, weight, start)\n",
    "\n",
    "for end in range(len(vertex)):\n",
    "    if end != start:\n",
    "        print(\"[최단경로: %s->%s] %s\" % (vertex[start], vertex[end], vertex[end]), end=\" \")\n",
    "        \n",
    "        while(path[end] != start):\n",
    "            print(\"<- %s\" % vertex[path[end]], end=\" \")\n",
    "            end = path[end]\n",
    "        print(\"<- %s\" % vertex[path[end]])"
   ],
   "outputs": [
    {
     "output_type": "stream",
     "name": "stdout",
     "text": [
      "step 1:  [0, 7, 999, 999, 3, 10, 999]\n",
      "step 2:  [0, 5, 999, 14, 3, 10, 8]\n",
      "step 3:  [0, 5, 9, 14, 3, 10, 8]\n",
      "step 4:  [0, 5, 9, 12, 3, 10, 8]\n",
      "step 5:  [0, 5, 9, 11, 3, 10, 8]\n",
      "step 6:  [0, 5, 9, 11, 3, 10, 8]\n",
      "step 7:  [0, 5, 9, 11, 3, 10, 8]\n",
      "[최단경로: a->b] b <- e <- a\n",
      "[최단경로: a->c] c <- b <- e <- a\n",
      "[최단경로: a->d] d <- c <- b <- e <- a\n",
      "[최단경로: a->e] e <- a\n",
      "[최단경로: a->f] f <- a\n",
      "[최단경로: a->g] g <- e <- a\n"
     ]
    }
   ],
   "metadata": {}
  },
  {
   "cell_type": "code",
   "execution_count": 169,
   "source": [
    "import time\n",
    "\n",
    "class BinaryTree:\n",
    "    class TreeNode:\n",
    "        def __init__(self, data):\n",
    "            self.data = data\n",
    "            self.left = None\n",
    "            self.right = None\n",
    "            \n",
    "    def __init__(self):\n",
    "        self.list = []\n",
    "        self.root = None\n",
    "        \n",
    "    def new_node(self, data):\n",
    "        self.root = self.insert_node(self.root, data)\n",
    "            \n",
    "    def insert_node(self, node, data):\n",
    "        if node is None:\n",
    "            node = self.TreeNode(data)\n",
    "                \n",
    "        if data < node.data:                \n",
    "            node.left = self.insert_node(node.left, data)\n",
    "        elif data > node.data:\n",
    "            node.right = self.insert_node(node.right, data)\n",
    "        return node\n",
    "    \n",
    "    def inorder(self, n):\n",
    "        if n != None:\n",
    "            if n.left != None:\n",
    "                self.inorder(n.left)\n",
    "            self.list.append(n.data)  \n",
    "            if n.right != None:\n",
    "                self.inorder(n.right)\n",
    "        return self.list\n",
    "    \n",
    "    def insertion(self, array):\n",
    "        size = len(array)\n",
    "        for i in range(1, size):\n",
    "            key = array[i]\n",
    "            j = i-1\n",
    "            p = array[j]\n",
    "\n",
    "            if array[j] > key:\n",
    "                array[i], array[j] = array[j], array[i]\n",
    "                self.insertion(array)\n",
    "        return array\n",
    "                    \n",
    "\n",
    "array = [11, 3, 4, 1, 56, 5, 6, 2, 98, 32, 23]\n",
    "\n",
    "t = BinaryTree()\n",
    "for i in array:\n",
    "    t.new_node(i)\n",
    "inorder_start = time.time()\n",
    "print(t.inorder(t.root))\n",
    "inorder_end = time.time()\n",
    "print(\"중위 순회 실행시간: \",(inorder_end-inorder_start))\n",
    "\n",
    "insertion_start = time.time()\n",
    "print(t.insertion(array))\n",
    "insertion_end = time.time()\n",
    "print(\"삽입 정렬 실행시간: \", (insertion_end-insertion_start))"
   ],
   "outputs": [
    {
     "output_type": "stream",
     "name": "stdout",
     "text": [
      "[1, 2, 3, 4, 5, 6, 11, 23, 32, 56, 98]\n",
      "중위 순회 실행시간:  0.0\n",
      "[1, 2, 3, 4, 5, 6, 11, 23, 32, 56, 98]\n",
      "삽입 정렬 실행시간:  0.0009975433349609375\n"
     ]
    }
   ],
   "metadata": {}
  },
  {
   "cell_type": "code",
   "execution_count": 172,
   "source": [
    "for i in range(5, 0, -1):\n",
    "    print(i)"
   ],
   "outputs": [
    {
     "output_type": "stream",
     "name": "stdout",
     "text": [
      "5\n",
      "4\n",
      "3\n",
      "2\n",
      "1\n"
     ]
    }
   ],
   "metadata": {}
  },
  {
   "cell_type": "code",
   "execution_count": 222,
   "source": [
    "def heapify(li, idx, n):\n",
    "    l = idx * 2;\n",
    "    r = idx * 2 + 1\n",
    "    s_idx = idx\n",
    "    if (l <= n and li[s_idx] > li[l]):\n",
    "        s_idx = l\n",
    "    if (r <= n and li[s_idx] > li[r]):\n",
    "        print('right: li[{}] > li[{}]'.format(s_idx,r))\n",
    "        s_idx = r\n",
    "    if s_idx != idx:\n",
    "        li[idx], li[s_idx] = li[s_idx], li[idx]\n",
    "        return heapify(li, s_idx, n)"
   ],
   "outputs": [],
   "metadata": {}
  },
  {
   "cell_type": "code",
   "execution_count": 223,
   "source": [
    "def heap_sort(v) :\n",
    "    n = len(v)\n",
    "    v = [0]+v\n",
    " \n",
    "    # min heap 생성\n",
    "    for i in range(n, 0, -1) :\n",
    "        heapify(v, i, n)\n",
    " \n",
    "    # min element extract & heap\n",
    "    for i in range(n, 0, -1) :\n",
    "        print(v[1])\n",
    "        v[i], v[1] = v[1], v[i]\n",
    "        heapify(v, 1, i-1)"
   ],
   "outputs": [],
   "metadata": {}
  },
  {
   "cell_type": "code",
   "execution_count": 224,
   "source": [
    "heap_sort([5,3,4,2,1])"
   ],
   "outputs": [
    {
     "output_type": "stream",
     "name": "stdout",
     "text": [
      "right: li[4] > li[5]\n",
      "1\n",
      "2\n",
      "3\n",
      "4\n",
      "5\n"
     ]
    }
   ],
   "metadata": {}
  },
  {
   "cell_type": "code",
   "execution_count": 1,
   "source": [
    "import time\n",
    "import random\n",
    "\n",
    "class BinaryTree:\n",
    "    class TreeNode:\n",
    "        def __init__(self, data):\n",
    "            self.data = data\n",
    "            self.left = None\n",
    "            self.right = None\n",
    "            \n",
    "    def __init__(self):\n",
    "        self.list = []\n",
    "        self.root = None\n",
    "        \n",
    "    def new_node(self, data):\n",
    "        self.root = self.insert_node(self.root, data)\n",
    "            \n",
    "    def insert_node(self, node, data):\n",
    "        if node is None:\n",
    "            node = self.TreeNode(data)\n",
    "                \n",
    "        if data < node.data:                \n",
    "            node.left = self.insert_node(node.left, data)\n",
    "        elif data > node.data:\n",
    "            node.right = self.insert_node(node.right, data)\n",
    "        return node\n",
    "    \n",
    "    def inorder(self, n):\n",
    "        if n != None:\n",
    "            if n.left != None:\n",
    "                self.inorder(n.left)\n",
    "            self.list.append(n.data)  \n",
    "            if n.right != None:\n",
    "                self.inorder(n.right)\n",
    "        return self.list\n",
    "    \n",
    "    def insertion(self, array):\n",
    "        size = len(array)\n",
    "        for i in range(1, size):\n",
    "            key = array[i]\n",
    "            j = i-1\n",
    "\n",
    "            if array[j] > key:\n",
    "                array[i], array[j] = array[j], array[i]\n",
    "                self.insertion(array)\n",
    "        return array\n",
    "\n",
    "    def heapify(self, list, index, n):\n",
    "        left = index * 2\n",
    "        right = index * 2 + 1\n",
    "        parent = index\n",
    "        if(left <= n and list[parent] > list[left]):\n",
    "            parent = left\n",
    "        if(right <= n and list[parent] > list[right]):\n",
    "            parent = right\n",
    "        if parent != index:\n",
    "            list[index], list[parent] = list[parent], list[index]\n",
    "            return self.heapify(list, parent, n)\n",
    "\n",
    "    def heap_sort(self, v):\n",
    "        n = len(v)\n",
    "        v = [0] + v\n",
    "\n",
    "        for i in range(n, 0, -1):\n",
    "            self.heapify(v, i, n)\n",
    "\n",
    "        for i in range(n, 0, -1):\n",
    "            print(v[1], end=', ')\n",
    "            #print('[{}]'.format(v[1], end=''))\n",
    "            v[i], v[1] = v[1], v[i]\n",
    "            self.heapify(v, 1, i-1)\n",
    "\n",
    "#array = [5,3,4,2,1]\n",
    "array = random.sample(range(1, 200), 100)\n",
    "\n",
    "t = BinaryTree()\n",
    "for i in array:\n",
    "    t.new_node(i)\n",
    "inorder_start = time.time()\n",
    "print(t.inorder(t.root))\n",
    "inorder_end = time.time()\n",
    "print(\"중위 순회 실행시간: \",(inorder_end - inorder_start))\n",
    "\n",
    "insertion_start = time.time()\n",
    "print(t.insertion(array))\n",
    "insertion_end = time.time()\n",
    "print(\"삽입 정렬 실행시간: \", (insertion_end - insertion_start))\n",
    "\n",
    "heapsort_start = time.time()\n",
    "print(t.heap_sort(array))\n",
    "heapsort_end = time.time()\n",
    "print(\"힙 정렬 실행시간: \", (heapsort_end - heapsort_start))"
   ],
   "outputs": [
    {
     "output_type": "stream",
     "name": "stdout",
     "text": [
      "[2, 3, 4, 8, 10, 11, 12, 14, 18, 20, 21, 22, 23, 26, 32, 33, 34, 38, 41, 43, 46, 47, 51, 52, 53, 54, 56, 58, 59, 61, 63, 64, 65, 66, 68, 72, 73, 74, 77, 78, 79, 81, 82, 84, 86, 88, 89, 90, 91, 94, 96, 97, 101, 102, 104, 111, 113, 115, 117, 118, 122, 123, 124, 125, 130, 134, 136, 140, 141, 142, 143, 144, 145, 146, 147, 151, 153, 155, 156, 157, 158, 159, 161, 164, 166, 167, 170, 171, 173, 180, 181, 184, 185, 186, 187, 188, 191, 197, 198, 199]\n",
      "중위 순회 실행시간:  0.0\n",
      "[2, 3, 4, 8, 10, 11, 12, 14, 18, 20, 21, 22, 23, 26, 32, 33, 34, 38, 41, 43, 46, 47, 51, 52, 53, 54, 56, 58, 59, 61, 63, 64, 65, 66, 68, 72, 73, 74, 77, 78, 79, 81, 82, 84, 86, 88, 89, 90, 91, 94, 96, 97, 101, 102, 104, 111, 113, 115, 117, 118, 122, 123, 124, 125, 130, 134, 136, 140, 141, 142, 143, 144, 145, 146, 147, 151, 153, 155, 156, 157, 158, 159, 161, 164, 166, 167, 170, 171, 173, 180, 181, 184, 185, 186, 187, 188, 191, 197, 198, 199]\n",
      "삽입 정렬 실행시간:  0.026926517486572266\n",
      "2, 3, 4, 8, 10, 11, 12, 14, 18, 20, 21, 22, 23, 26, 32, 33, 34, 38, 41, 43, 46, 47, 51, 52, 53, 54, 56, 58, 59, 61, 63, 64, 65, 66, 68, 72, 73, 74, 77, 78, 79, 81, 82, 84, 86, 88, 89, 90, 91, 94, 96, 97, 101, 102, 104, 111, 113, 115, 117, 118, 122, 123, 124, 125, 130, 134, 136, 140, 141, 142, 143, 144, 145, 146, 147, 151, 153, 155, 156, 157, 158, 159, 161, 164, 166, 167, 170, 171, 173, 180, 181, 184, 185, 186, 187, 188, 191, 197, 198, 199, None\n",
      "힙 정렬 실행시간:  0.0009982585906982422\n"
     ]
    }
   ],
   "metadata": {}
  },
  {
   "cell_type": "code",
   "execution_count": 28,
   "source": [
    "\n",
    "\n",
    "def insertion(array):\n",
    "    for i in range(1, len(array)):\n",
    "        j = i-1\n",
    "        if array[j] > array[i]:\n",
    "            array[j], array[i] = array[i], array[j]\n",
    "    return array"
   ],
   "outputs": [],
   "metadata": {}
  },
  {
   "cell_type": "code",
   "execution_count": 29,
   "source": [
    "array = [5,3,4,2,1]\n",
    "print(insertion(array))"
   ],
   "outputs": [
    {
     "output_type": "stream",
     "name": "stdout",
     "text": [
      "[3, 4, 2, 1, 5]\n"
     ]
    }
   ],
   "metadata": {}
  },
  {
   "cell_type": "code",
   "execution_count": 69,
   "source": [
    "import time\n",
    "import random\n",
    "\n",
    "class BinaryTree:\n",
    "    class TreeNode:\n",
    "        def __init__(self, data):\n",
    "            self.data = data\n",
    "            self.left = None\n",
    "            self.right = None\n",
    "            \n",
    "    def __init__(self):\n",
    "        self.list = []\n",
    "        self.root = None\n",
    "        \n",
    "    def new_node(self, data):\n",
    "        self.root = self.insert_node(self.root, data)\n",
    "            \n",
    "    def insert_node(self, node, data):\n",
    "        if node is None:\n",
    "            node = self.TreeNode(data)\n",
    "                \n",
    "        if data < node.data:                \n",
    "            node.left = self.insert_node(node.left, data)\n",
    "        elif data > node.data:\n",
    "            node.right = self.insert_node(node.right, data)\n",
    "        return node\n",
    "    \n",
    "    def inorder(self, n):\n",
    "        if n != None:\n",
    "            if n.left != None:\n",
    "                self.inorder(n.left)\n",
    "            self.list.append(n.data)  \n",
    "            if n.right != None:\n",
    "                self.inorder(n.right)\n",
    "        return self.list\n",
    "    \n",
    "    def insertion(self, array):\n",
    "        for i in range(1, len(array)):\n",
    "            for j in range(i, 0, -1):\n",
    "                if array[j-1] > array[j]:\n",
    "                    array[j-1], array[j] = array[j], array[j-1]\n",
    "        return array\n",
    "\n",
    "    def heapify(self, list, index, n):\n",
    "        left = index * 2\n",
    "        right = index * 2 + 1\n",
    "        parent = index\n",
    "        if(left <= n and list[parent] > list[left]):\n",
    "            parent = left\n",
    "        if(right <= n and list[parent] > list[right]):\n",
    "            parent = right\n",
    "        if parent != index:\n",
    "            list[index], list[parent] = list[parent], list[index]\n",
    "            return self.heapify(list, parent, n)\n",
    "\n",
    "    def heap_sort(self, v):\n",
    "        n = len(v)\n",
    "        v = [0] + v\n",
    "\n",
    "        for i in range(n, 0, -1):\n",
    "            self.heapify(v, i, n)\n",
    "\n",
    "        for i in range(n, 0, -1):\n",
    "            print(v[1], end=', ')\n",
    "            #print('[{}]'.format(v[1], end=''))\n",
    "            v[i], v[1] = v[1], v[i]\n",
    "            self.heapify(v, 1, i-1)\n",
    "\n",
    "#array = [5,3,4,2,1]\n",
    "array = random.sample(range(1, 3000), 2500)\n",
    "\n",
    "t = BinaryTree()\n",
    "for i in array:\n",
    "    t.new_node(i)\n",
    "inorder_start = time.time()\n",
    "print(t.inorder(t.root))\n",
    "inorder_end = time.time()\n",
    "print(\"중위 순회 실행시간: \",(inorder_end - inorder_start))\n",
    "\n",
    "insertion_start = time.time()\n",
    "print(t.insertion(array))\n",
    "insertion_end = time.time()\n",
    "print(\"삽입 정렬 실행시간: \", (insertion_end - insertion_start))\n",
    "\n",
    "heapsort_start = time.time()\n",
    "print(t.heap_sort(array))\n",
    "heapsort_end = time.time()\n",
    "print(\"힙 정렬 실행시간: \", (heapsort_end - heapsort_start))"
   ],
   "outputs": [
    {
     "output_type": "stream",
     "name": "stdout",
     "text": [
      "[1, 3, 5, 6, 7, 8, 9, 10, 11, 12, 13, 14, 15, 16, 17, 18, 20, 22, 23, 24, 25, 26, 27, 28, 30, 31, 32, 33, 34, 35, 36, 38, 39, 40, 41, 42, 43, 44, 45, 47, 48, 49, 50, 51, 52, 53, 54, 55, 56, 57, 58, 59, 60, 61, 62, 63, 64, 66, 67, 68, 69, 73, 74, 77, 79, 80, 81, 82, 83, 84, 85, 86, 87, 89, 92, 93, 94, 95, 96, 97, 98, 99, 100, 102, 103, 104, 105, 106, 107, 108, 110, 111, 112, 113, 115, 116, 117, 118, 119, 120, 121, 123, 126, 127, 128, 129, 130, 131, 132, 133, 134, 135, 136, 137, 138, 139, 140, 142, 143, 144, 147, 148, 149, 150, 151, 153, 154, 155, 156, 157, 159, 160, 161, 162, 163, 164, 165, 166, 167, 168, 169, 170, 172, 173, 174, 175, 176, 177, 178, 179, 181, 182, 183, 184, 185, 186, 187, 188, 189, 190, 191, 192, 193, 194, 195, 196, 198, 199, 200, 201, 202, 203, 204, 205, 206, 207, 209, 210, 211, 212, 213, 214, 215, 216, 217, 218, 219, 220, 221, 222, 223, 224, 225, 226, 227, 229, 230, 232, 235, 236, 237, 238, 239, 240, 241, 242, 243, 244, 245, 246, 248, 249, 250, 251, 252, 253, 254, 255, 256, 258, 259, 260, 261, 262, 263, 265, 266, 267, 268, 269, 270, 271, 273, 274, 275, 276, 277, 278, 279, 281, 282, 283, 284, 285, 286, 287, 288, 289, 290, 291, 293, 294, 295, 296, 297, 298, 299, 300, 301, 302, 303, 304, 306, 307, 309, 310, 311, 312, 313, 314, 316, 317, 320, 321, 322, 324, 325, 326, 329, 331, 332, 333, 334, 335, 336, 337, 338, 339, 340, 341, 343, 344, 345, 346, 347, 351, 352, 353, 354, 355, 357, 360, 361, 362, 363, 365, 366, 367, 370, 371, 372, 373, 374, 375, 376, 377, 378, 379, 380, 382, 383, 384, 385, 386, 387, 388, 389, 390, 391, 392, 393, 394, 395, 396, 397, 398, 399, 402, 403, 405, 406, 407, 408, 411, 412, 413, 414, 415, 416, 417, 418, 419, 420, 421, 422, 423, 424, 425, 426, 427, 429, 430, 431, 432, 433, 435, 436, 437, 438, 439, 440, 441, 442, 444, 447, 448, 451, 452, 453, 454, 455, 457, 459, 460, 461, 462, 464, 465, 466, 467, 468, 469, 471, 473, 474, 475, 476, 477, 479, 481, 482, 483, 484, 485, 486, 488, 490, 491, 492, 493, 494, 495, 496, 497, 498, 499, 500, 501, 502, 503, 504, 505, 506, 507, 508, 509, 511, 512, 513, 514, 515, 516, 517, 518, 519, 520, 521, 522, 523, 524, 526, 527, 528, 530, 531, 532, 534, 535, 536, 537, 538, 541, 542, 543, 544, 545, 546, 547, 548, 549, 550, 552, 554, 555, 556, 559, 560, 561, 563, 565, 566, 567, 568, 569, 570, 571, 573, 575, 576, 578, 579, 580, 582, 583, 584, 585, 586, 587, 588, 589, 593, 594, 595, 596, 597, 598, 599, 600, 601, 602, 604, 605, 606, 608, 609, 610, 611, 612, 613, 614, 617, 618, 619, 621, 622, 623, 624, 625, 626, 627, 628, 629, 630, 631, 633, 634, 635, 636, 637, 638, 639, 641, 642, 644, 645, 646, 647, 648, 649, 650, 651, 652, 653, 654, 656, 657, 658, 660, 661, 663, 664, 665, 667, 668, 669, 670, 671, 672, 674, 675, 676, 677, 678, 679, 680, 681, 682, 684, 685, 686, 687, 688, 689, 690, 691, 692, 693, 694, 695, 696, 697, 698, 700, 701, 702, 703, 704, 705, 706, 707, 708, 709, 710, 712, 713, 714, 715, 716, 717, 718, 719, 721, 723, 724, 725, 726, 727, 728, 729, 730, 732, 733, 734, 735, 736, 739, 740, 741, 742, 743, 744, 745, 746, 748, 750, 751, 753, 754, 755, 756, 757, 758, 759, 760, 761, 762, 763, 764, 765, 766, 767, 768, 769, 770, 771, 772, 773, 775, 778, 779, 780, 782, 783, 784, 785, 787, 788, 789, 790, 791, 792, 793, 795, 796, 797, 798, 799, 800, 801, 802, 803, 804, 805, 806, 809, 811, 812, 813, 815, 816, 818, 819, 820, 821, 822, 823, 824, 825, 826, 827, 828, 832, 833, 834, 835, 836, 837, 838, 839, 840, 841, 842, 843, 844, 845, 846, 847, 848, 850, 851, 852, 853, 854, 855, 856, 857, 858, 861, 863, 864, 865, 866, 867, 868, 869, 871, 872, 873, 874, 875, 876, 878, 879, 880, 881, 882, 883, 884, 885, 886, 887, 888, 889, 890, 891, 892, 893, 894, 895, 896, 897, 898, 900, 901, 902, 903, 904, 905, 906, 907, 909, 910, 911, 912, 913, 914, 915, 916, 917, 918, 919, 920, 921, 922, 923, 924, 925, 926, 927, 928, 930, 931, 932, 934, 935, 938, 939, 940, 941, 942, 943, 944, 945, 946, 947, 948, 949, 950, 951, 952, 953, 954, 955, 956, 958, 959, 960, 961, 963, 964, 965, 966, 967, 969, 971, 972, 974, 975, 976, 977, 978, 979, 980, 981, 982, 983, 984, 985, 986, 987, 988, 989, 991, 992, 993, 994, 996, 997, 998, 999, 1000, 1003, 1004, 1005, 1006, 1007, 1008, 1010, 1011, 1012, 1013, 1014, 1015, 1016, 1017, 1018, 1020, 1021, 1022, 1023, 1024, 1025, 1026, 1027, 1028, 1029, 1030, 1031, 1032, 1033, 1034, 1037, 1038, 1039, 1040, 1041, 1042, 1043, 1044, 1045, 1046, 1047, 1048, 1049, 1050, 1051, 1052, 1056, 1057, 1058, 1060, 1061, 1062, 1063, 1064, 1065, 1066, 1068, 1069, 1070, 1071, 1072, 1073, 1075, 1076, 1077, 1078, 1079, 1080, 1081, 1082, 1083, 1084, 1085, 1086, 1087, 1088, 1089, 1090, 1091, 1092, 1093, 1094, 1095, 1096, 1097, 1098, 1099, 1100, 1101, 1102, 1103, 1104, 1105, 1106, 1107, 1108, 1109, 1110, 1111, 1113, 1115, 1116, 1119, 1121, 1122, 1123, 1124, 1125, 1127, 1128, 1129, 1130, 1131, 1132, 1133, 1135, 1136, 1138, 1139, 1140, 1141, 1143, 1144, 1145, 1147, 1149, 1150, 1151, 1154, 1155, 1156, 1158, 1161, 1162, 1163, 1165, 1166, 1167, 1169, 1170, 1171, 1173, 1174, 1175, 1176, 1177, 1178, 1179, 1180, 1181, 1182, 1183, 1184, 1185, 1186, 1187, 1188, 1191, 1194, 1195, 1196, 1197, 1198, 1199, 1200, 1201, 1202, 1203, 1204, 1205, 1206, 1207, 1208, 1210, 1211, 1213, 1214, 1215, 1218, 1219, 1220, 1221, 1222, 1223, 1224, 1225, 1226, 1227, 1228, 1229, 1230, 1231, 1232, 1233, 1234, 1235, 1236, 1237, 1238, 1240, 1241, 1242, 1243, 1244, 1245, 1249, 1250, 1251, 1253, 1254, 1255, 1256, 1257, 1259, 1260, 1262, 1263, 1264, 1266, 1267, 1269, 1271, 1274, 1275, 1276, 1277, 1278, 1279, 1280, 1282, 1283, 1284, 1285, 1286, 1287, 1288, 1289, 1290, 1291, 1292, 1293, 1294, 1296, 1297, 1298, 1300, 1301, 1303, 1304, 1305, 1307, 1308, 1310, 1311, 1313, 1314, 1315, 1316, 1317, 1318, 1319, 1320, 1321, 1322, 1323, 1324, 1326, 1327, 1329, 1330, 1331, 1332, 1333, 1334, 1335, 1336, 1337, 1338, 1339, 1340, 1341, 1342, 1343, 1344, 1345, 1346, 1347, 1348, 1349, 1350, 1351, 1352, 1353, 1354, 1355, 1356, 1357, 1359, 1360, 1361, 1362, 1363, 1364, 1365, 1367, 1368, 1369, 1370, 1371, 1372, 1373, 1374, 1375, 1376, 1377, 1378, 1379, 1380, 1381, 1382, 1383, 1384, 1385, 1386, 1387, 1389, 1390, 1391, 1393, 1394, 1397, 1399, 1400, 1401, 1402, 1403, 1404, 1405, 1406, 1407, 1408, 1409, 1410, 1411, 1413, 1414, 1415, 1416, 1417, 1418, 1419, 1420, 1422, 1423, 1424, 1425, 1426, 1427, 1429, 1430, 1431, 1432, 1433, 1434, 1436, 1437, 1438, 1439, 1440, 1441, 1442, 1443, 1444, 1446, 1447, 1448, 1449, 1450, 1451, 1452, 1453, 1454, 1455, 1456, 1457, 1458, 1459, 1460, 1461, 1462, 1463, 1464, 1465, 1466, 1467, 1469, 1471, 1472, 1473, 1474, 1475, 1476, 1479, 1481, 1482, 1483, 1485, 1486, 1488, 1490, 1491, 1492, 1493, 1494, 1495, 1496, 1497, 1498, 1499, 1500, 1501, 1502, 1504, 1505, 1506, 1507, 1510, 1511, 1514, 1515, 1516, 1517, 1518, 1519, 1520, 1521, 1522, 1523, 1524, 1525, 1526, 1527, 1528, 1529, 1530, 1532, 1533, 1534, 1535, 1536, 1537, 1539, 1540, 1541, 1542, 1543, 1544, 1545, 1546, 1548, 1549, 1550, 1551, 1552, 1553, 1555, 1556, 1557, 1558, 1559, 1560, 1561, 1562, 1563, 1564, 1565, 1566, 1567, 1569, 1571, 1572, 1573, 1574, 1576, 1578, 1579, 1580, 1581, 1582, 1583, 1584, 1585, 1587, 1588, 1589, 1590, 1591, 1592, 1593, 1595, 1596, 1597, 1598, 1600, 1602, 1603, 1605, 1606, 1607, 1609, 1610, 1611, 1612, 1613, 1614, 1616, 1617, 1618, 1619, 1620, 1621, 1622, 1623, 1624, 1626, 1627, 1628, 1629, 1630, 1631, 1632, 1633, 1634, 1635, 1636, 1637, 1638, 1640, 1641, 1642, 1643, 1644, 1647, 1648, 1649, 1650, 1651, 1652, 1653, 1654, 1655, 1656, 1657, 1659, 1660, 1662, 1663, 1664, 1665, 1666, 1669, 1670, 1671, 1672, 1673, 1674, 1675, 1676, 1677, 1678, 1679, 1680, 1682, 1684, 1685, 1689, 1690, 1691, 1692, 1693, 1694, 1695, 1696, 1697, 1698, 1700, 1701, 1704, 1705, 1706, 1707, 1708, 1709, 1710, 1712, 1713, 1714, 1715, 1716, 1717, 1719, 1721, 1722, 1723, 1724, 1726, 1728, 1729, 1730, 1731, 1732, 1733, 1735, 1736, 1737, 1739, 1740, 1741, 1742, 1743, 1744, 1745, 1746, 1747, 1748, 1749, 1750, 1752, 1753, 1755, 1756, 1757, 1758, 1759, 1761, 1763, 1765, 1766, 1767, 1770, 1771, 1772, 1773, 1775, 1777, 1778, 1779, 1780, 1781, 1783, 1784, 1785, 1786, 1787, 1789, 1791, 1792, 1793, 1794, 1795, 1796, 1797, 1798, 1799, 1800, 1801, 1802, 1804, 1805, 1806, 1807, 1808, 1809, 1810, 1812, 1813, 1815, 1818, 1819, 1820, 1821, 1823, 1824, 1825, 1826, 1827, 1828, 1829, 1831, 1832, 1833, 1835, 1836, 1837, 1838, 1839, 1840, 1841, 1842, 1843, 1844, 1845, 1846, 1847, 1848, 1849, 1850, 1851, 1852, 1853, 1854, 1856, 1857, 1858, 1860, 1861, 1862, 1863, 1864, 1866, 1867, 1868, 1869, 1870, 1872, 1873, 1874, 1875, 1876, 1877, 1878, 1879, 1880, 1881, 1882, 1883, 1884, 1885, 1886, 1887, 1888, 1891, 1892, 1893, 1895, 1897, 1899, 1900, 1901, 1902, 1903, 1904, 1905, 1906, 1909, 1911, 1912, 1913, 1914, 1915, 1916, 1917, 1919, 1920, 1921, 1922, 1925, 1926, 1927, 1928, 1930, 1932, 1933, 1934, 1935, 1936, 1937, 1939, 1942, 1943, 1944, 1945, 1946, 1947, 1948, 1949, 1950, 1951, 1952, 1953, 1955, 1956, 1959, 1961, 1962, 1964, 1965, 1966, 1968, 1970, 1971, 1973, 1974, 1977, 1978, 1980, 1981, 1982, 1983, 1984, 1985, 1986, 1987, 1988, 1989, 1990, 1991, 1992, 1994, 1997, 1999, 2000, 2001, 2002, 2003, 2004, 2005, 2006, 2007, 2009, 2010, 2011, 2012, 2013, 2014, 2017, 2018, 2019, 2020, 2021, 2022, 2024, 2025, 2026, 2027, 2029, 2030, 2031, 2032, 2033, 2034, 2035, 2036, 2037, 2038, 2039, 2040, 2041, 2042, 2043, 2044, 2045, 2046, 2047, 2048, 2049, 2051, 2054, 2055, 2056, 2057, 2058, 2061, 2063, 2064, 2065, 2066, 2067, 2070, 2072, 2073, 2074, 2076, 2078, 2081, 2082, 2083, 2084, 2085, 2086, 2087, 2089, 2090, 2091, 2092, 2093, 2094, 2096, 2097, 2099, 2100, 2101, 2103, 2105, 2107, 2109, 2110, 2111, 2112, 2113, 2115, 2116, 2117, 2118, 2119, 2120, 2121, 2122, 2123, 2124, 2125, 2126, 2127, 2128, 2129, 2130, 2131, 2132, 2133, 2134, 2136, 2137, 2138, 2139, 2140, 2141, 2142, 2143, 2144, 2146, 2147, 2149, 2150, 2151, 2152, 2153, 2154, 2156, 2157, 2159, 2161, 2162, 2163, 2164, 2165, 2167, 2168, 2169, 2170, 2172, 2174, 2175, 2176, 2177, 2178, 2180, 2181, 2182, 2183, 2184, 2185, 2186, 2187, 2188, 2189, 2190, 2191, 2192, 2194, 2195, 2196, 2197, 2198, 2199, 2200, 2203, 2204, 2205, 2206, 2207, 2208, 2212, 2213, 2214, 2215, 2216, 2217, 2218, 2220, 2221, 2222, 2223, 2224, 2226, 2227, 2230, 2231, 2232, 2234, 2235, 2236, 2237, 2238, 2240, 2241, 2242, 2243, 2244, 2245, 2246, 2247, 2248, 2249, 2250, 2252, 2253, 2254, 2256, 2257, 2258, 2260, 2261, 2262, 2263, 2264, 2265, 2266, 2267, 2270, 2271, 2273, 2274, 2275, 2276, 2277, 2278, 2279, 2281, 2282, 2283, 2284, 2285, 2287, 2288, 2289, 2290, 2291, 2292, 2294, 2296, 2297, 2298, 2299, 2301, 2302, 2303, 2304, 2305, 2306, 2308, 2309, 2310, 2313, 2314, 2315, 2316, 2317, 2318, 2319, 2320, 2321, 2322, 2323, 2324, 2325, 2326, 2327, 2329, 2330, 2331, 2333, 2334, 2335, 2336, 2337, 2339, 2341, 2342, 2343, 2344, 2345, 2346, 2347, 2348, 2349, 2350, 2351, 2352, 2353, 2354, 2355, 2357, 2358, 2359, 2360, 2362, 2363, 2364, 2365, 2366, 2367, 2369, 2370, 2371, 2372, 2374, 2375, 2376, 2377, 2378, 2379, 2381, 2382, 2384, 2385, 2386, 2387, 2388, 2389, 2390, 2391, 2392, 2393, 2394, 2395, 2397, 2398, 2399, 2400, 2401, 2402, 2404, 2405, 2406, 2407, 2408, 2409, 2410, 2411, 2412, 2413, 2414, 2415, 2416, 2418, 2419, 2420, 2421, 2422, 2423, 2424, 2425, 2426, 2427, 2428, 2429, 2430, 2431, 2432, 2433, 2434, 2435, 2436, 2437, 2438, 2439, 2440, 2441, 2443, 2444, 2445, 2446, 2447, 2448, 2449, 2450, 2452, 2454, 2455, 2456, 2458, 2459, 2460, 2462, 2463, 2464, 2465, 2467, 2468, 2469, 2470, 2471, 2472, 2473, 2474, 2475, 2476, 2477, 2478, 2479, 2480, 2484, 2485, 2486, 2487, 2488, 2489, 2490, 2491, 2492, 2493, 2494, 2495, 2496, 2497, 2500, 2501, 2502, 2503, 2504, 2505, 2506, 2507, 2508, 2509, 2510, 2511, 2512, 2513, 2514, 2516, 2518, 2519, 2520, 2521, 2522, 2523, 2524, 2525, 2526, 2527, 2528, 2529, 2530, 2531, 2532, 2533, 2534, 2535, 2536, 2537, 2538, 2539, 2540, 2541, 2542, 2543, 2545, 2546, 2547, 2548, 2551, 2553, 2554, 2555, 2556, 2557, 2558, 2560, 2562, 2563, 2564, 2565, 2566, 2567, 2568, 2569, 2570, 2572, 2573, 2574, 2575, 2576, 2577, 2578, 2579, 2580, 2581, 2582, 2583, 2584, 2585, 2586, 2587, 2588, 2589, 2590, 2591, 2592, 2593, 2594, 2595, 2596, 2597, 2598, 2599, 2600, 2601, 2602, 2603, 2606, 2607, 2608, 2610, 2611, 2612, 2613, 2614, 2617, 2618, 2619, 2620, 2621, 2622, 2623, 2624, 2626, 2627, 2628, 2629, 2630, 2631, 2632, 2633, 2634, 2635, 2636, 2638, 2639, 2640, 2641, 2642, 2643, 2644, 2645, 2646, 2647, 2648, 2649, 2650, 2651, 2652, 2653, 2654, 2655, 2656, 2658, 2659, 2660, 2661, 2662, 2663, 2664, 2665, 2667, 2668, 2669, 2674, 2675, 2676, 2677, 2678, 2679, 2681, 2682, 2683, 2684, 2685, 2686, 2687, 2688, 2689, 2690, 2691, 2692, 2694, 2695, 2696, 2697, 2698, 2699, 2700, 2701, 2702, 2703, 2704, 2705, 2706, 2708, 2709, 2710, 2712, 2713, 2714, 2718, 2720, 2722, 2724, 2727, 2728, 2729, 2730, 2732, 2733, 2734, 2735, 2736, 2737, 2738, 2739, 2740, 2741, 2742, 2743, 2744, 2745, 2746, 2747, 2749, 2750, 2751, 2752, 2754, 2756, 2757, 2758, 2760, 2761, 2762, 2763, 2764, 2765, 2766, 2767, 2769, 2770, 2771, 2772, 2773, 2775, 2776, 2779, 2780, 2781, 2782, 2784, 2785, 2786, 2787, 2789, 2790, 2791, 2793, 2794, 2795, 2796, 2797, 2798, 2799, 2800, 2801, 2802, 2804, 2805, 2807, 2808, 2810, 2811, 2813, 2814, 2815, 2816, 2817, 2818, 2819, 2820, 2821, 2822, 2823, 2824, 2825, 2826, 2827, 2828, 2829, 2830, 2831, 2832, 2833, 2834, 2836, 2839, 2840, 2841, 2842, 2844, 2845, 2846, 2847, 2848, 2849, 2851, 2852, 2853, 2854, 2855, 2856, 2858, 2859, 2860, 2861, 2862, 2863, 2865, 2866, 2867, 2868, 2869, 2870, 2871, 2873, 2875, 2876, 2877, 2878, 2879, 2882, 2883, 2884, 2885, 2886, 2887, 2889, 2890, 2891, 2892, 2893, 2894, 2895, 2896, 2897, 2898, 2899, 2900, 2901, 2902, 2903, 2905, 2906, 2907, 2909, 2910, 2911, 2912, 2913, 2914, 2915, 2917, 2918, 2919, 2920, 2923, 2924, 2925, 2926, 2928, 2929, 2930, 2931, 2932, 2933, 2934, 2935, 2938, 2939, 2941, 2942, 2943, 2945, 2946, 2947, 2948, 2949, 2950, 2951, 2952, 2953, 2954, 2955, 2956, 2957, 2958, 2959, 2960, 2961, 2962, 2963, 2964, 2965, 2967, 2968, 2969, 2970, 2971, 2972, 2973, 2974, 2975, 2976, 2977, 2978, 2979, 2980, 2981, 2983, 2984, 2985, 2986, 2987, 2988, 2990, 2991, 2992, 2994, 2995, 2996, 2997, 2998, 2999]\n",
      "중위 순회 실행시간:  0.0019843578338623047\n"
     ]
    },
    {
     "output_type": "stream",
     "name": "stdout",
     "text": [
      "[1, 3, 5, 6, 7, 8, 9, 10, 11, 12, 13, 14, 15, 16, 17, 18, 20, 22, 23, 24, 25, 26, 27, 28, 30, 31, 32, 33, 34, 35, 36, 38, 39, 40, 41, 42, 43, 44, 45, 47, 48, 49, 50, 51, 52, 53, 54, 55, 56, 57, 58, 59, 60, 61, 62, 63, 64, 66, 67, 68, 69, 73, 74, 77, 79, 80, 81, 82, 83, 84, 85, 86, 87, 89, 92, 93, 94, 95, 96, 97, 98, 99, 100, 102, 103, 104, 105, 106, 107, 108, 110, 111, 112, 113, 115, 116, 117, 118, 119, 120, 121, 123, 126, 127, 128, 129, 130, 131, 132, 133, 134, 135, 136, 137, 138, 139, 140, 142, 143, 144, 147, 148, 149, 150, 151, 153, 154, 155, 156, 157, 159, 160, 161, 162, 163, 164, 165, 166, 167, 168, 169, 170, 172, 173, 174, 175, 176, 177, 178, 179, 181, 182, 183, 184, 185, 186, 187, 188, 189, 190, 191, 192, 193, 194, 195, 196, 198, 199, 200, 201, 202, 203, 204, 205, 206, 207, 209, 210, 211, 212, 213, 214, 215, 216, 217, 218, 219, 220, 221, 222, 223, 224, 225, 226, 227, 229, 230, 232, 235, 236, 237, 238, 239, 240, 241, 242, 243, 244, 245, 246, 248, 249, 250, 251, 252, 253, 254, 255, 256, 258, 259, 260, 261, 262, 263, 265, 266, 267, 268, 269, 270, 271, 273, 274, 275, 276, 277, 278, 279, 281, 282, 283, 284, 285, 286, 287, 288, 289, 290, 291, 293, 294, 295, 296, 297, 298, 299, 300, 301, 302, 303, 304, 306, 307, 309, 310, 311, 312, 313, 314, 316, 317, 320, 321, 322, 324, 325, 326, 329, 331, 332, 333, 334, 335, 336, 337, 338, 339, 340, 341, 343, 344, 345, 346, 347, 351, 352, 353, 354, 355, 357, 360, 361, 362, 363, 365, 366, 367, 370, 371, 372, 373, 374, 375, 376, 377, 378, 379, 380, 382, 383, 384, 385, 386, 387, 388, 389, 390, 391, 392, 393, 394, 395, 396, 397, 398, 399, 402, 403, 405, 406, 407, 408, 411, 412, 413, 414, 415, 416, 417, 418, 419, 420, 421, 422, 423, 424, 425, 426, 427, 429, 430, 431, 432, 433, 435, 436, 437, 438, 439, 440, 441, 442, 444, 447, 448, 451, 452, 453, 454, 455, 457, 459, 460, 461, 462, 464, 465, 466, 467, 468, 469, 471, 473, 474, 475, 476, 477, 479, 481, 482, 483, 484, 485, 486, 488, 490, 491, 492, 493, 494, 495, 496, 497, 498, 499, 500, 501, 502, 503, 504, 505, 506, 507, 508, 509, 511, 512, 513, 514, 515, 516, 517, 518, 519, 520, 521, 522, 523, 524, 526, 527, 528, 530, 531, 532, 534, 535, 536, 537, 538, 541, 542, 543, 544, 545, 546, 547, 548, 549, 550, 552, 554, 555, 556, 559, 560, 561, 563, 565, 566, 567, 568, 569, 570, 571, 573, 575, 576, 578, 579, 580, 582, 583, 584, 585, 586, 587, 588, 589, 593, 594, 595, 596, 597, 598, 599, 600, 601, 602, 604, 605, 606, 608, 609, 610, 611, 612, 613, 614, 617, 618, 619, 621, 622, 623, 624, 625, 626, 627, 628, 629, 630, 631, 633, 634, 635, 636, 637, 638, 639, 641, 642, 644, 645, 646, 647, 648, 649, 650, 651, 652, 653, 654, 656, 657, 658, 660, 661, 663, 664, 665, 667, 668, 669, 670, 671, 672, 674, 675, 676, 677, 678, 679, 680, 681, 682, 684, 685, 686, 687, 688, 689, 690, 691, 692, 693, 694, 695, 696, 697, 698, 700, 701, 702, 703, 704, 705, 706, 707, 708, 709, 710, 712, 713, 714, 715, 716, 717, 718, 719, 721, 723, 724, 725, 726, 727, 728, 729, 730, 732, 733, 734, 735, 736, 739, 740, 741, 742, 743, 744, 745, 746, 748, 750, 751, 753, 754, 755, 756, 757, 758, 759, 760, 761, 762, 763, 764, 765, 766, 767, 768, 769, 770, 771, 772, 773, 775, 778, 779, 780, 782, 783, 784, 785, 787, 788, 789, 790, 791, 792, 793, 795, 796, 797, 798, 799, 800, 801, 802, 803, 804, 805, 806, 809, 811, 812, 813, 815, 816, 818, 819, 820, 821, 822, 823, 824, 825, 826, 827, 828, 832, 833, 834, 835, 836, 837, 838, 839, 840, 841, 842, 843, 844, 845, 846, 847, 848, 850, 851, 852, 853, 854, 855, 856, 857, 858, 861, 863, 864, 865, 866, 867, 868, 869, 871, 872, 873, 874, 875, 876, 878, 879, 880, 881, 882, 883, 884, 885, 886, 887, 888, 889, 890, 891, 892, 893, 894, 895, 896, 897, 898, 900, 901, 902, 903, 904, 905, 906, 907, 909, 910, 911, 912, 913, 914, 915, 916, 917, 918, 919, 920, 921, 922, 923, 924, 925, 926, 927, 928, 930, 931, 932, 934, 935, 938, 939, 940, 941, 942, 943, 944, 945, 946, 947, 948, 949, 950, 951, 952, 953, 954, 955, 956, 958, 959, 960, 961, 963, 964, 965, 966, 967, 969, 971, 972, 974, 975, 976, 977, 978, 979, 980, 981, 982, 983, 984, 985, 986, 987, 988, 989, 991, 992, 993, 994, 996, 997, 998, 999, 1000, 1003, 1004, 1005, 1006, 1007, 1008, 1010, 1011, 1012, 1013, 1014, 1015, 1016, 1017, 1018, 1020, 1021, 1022, 1023, 1024, 1025, 1026, 1027, 1028, 1029, 1030, 1031, 1032, 1033, 1034, 1037, 1038, 1039, 1040, 1041, 1042, 1043, 1044, 1045, 1046, 1047, 1048, 1049, 1050, 1051, 1052, 1056, 1057, 1058, 1060, 1061, 1062, 1063, 1064, 1065, 1066, 1068, 1069, 1070, 1071, 1072, 1073, 1075, 1076, 1077, 1078, 1079, 1080, 1081, 1082, 1083, 1084, 1085, 1086, 1087, 1088, 1089, 1090, 1091, 1092, 1093, 1094, 1095, 1096, 1097, 1098, 1099, 1100, 1101, 1102, 1103, 1104, 1105, 1106, 1107, 1108, 1109, 1110, 1111, 1113, 1115, 1116, 1119, 1121, 1122, 1123, 1124, 1125, 1127, 1128, 1129, 1130, 1131, 1132, 1133, 1135, 1136, 1138, 1139, 1140, 1141, 1143, 1144, 1145, 1147, 1149, 1150, 1151, 1154, 1155, 1156, 1158, 1161, 1162, 1163, 1165, 1166, 1167, 1169, 1170, 1171, 1173, 1174, 1175, 1176, 1177, 1178, 1179, 1180, 1181, 1182, 1183, 1184, 1185, 1186, 1187, 1188, 1191, 1194, 1195, 1196, 1197, 1198, 1199, 1200, 1201, 1202, 1203, 1204, 1205, 1206, 1207, 1208, 1210, 1211, 1213, 1214, 1215, 1218, 1219, 1220, 1221, 1222, 1223, 1224, 1225, 1226, 1227, 1228, 1229, 1230, 1231, 1232, 1233, 1234, 1235, 1236, 1237, 1238, 1240, 1241, 1242, 1243, 1244, 1245, 1249, 1250, 1251, 1253, 1254, 1255, 1256, 1257, 1259, 1260, 1262, 1263, 1264, 1266, 1267, 1269, 1271, 1274, 1275, 1276, 1277, 1278, 1279, 1280, 1282, 1283, 1284, 1285, 1286, 1287, 1288, 1289, 1290, 1291, 1292, 1293, 1294, 1296, 1297, 1298, 1300, 1301, 1303, 1304, 1305, 1307, 1308, 1310, 1311, 1313, 1314, 1315, 1316, 1317, 1318, 1319, 1320, 1321, 1322, 1323, 1324, 1326, 1327, 1329, 1330, 1331, 1332, 1333, 1334, 1335, 1336, 1337, 1338, 1339, 1340, 1341, 1342, 1343, 1344, 1345, 1346, 1347, 1348, 1349, 1350, 1351, 1352, 1353, 1354, 1355, 1356, 1357, 1359, 1360, 1361, 1362, 1363, 1364, 1365, 1367, 1368, 1369, 1370, 1371, 1372, 1373, 1374, 1375, 1376, 1377, 1378, 1379, 1380, 1381, 1382, 1383, 1384, 1385, 1386, 1387, 1389, 1390, 1391, 1393, 1394, 1397, 1399, 1400, 1401, 1402, 1403, 1404, 1405, 1406, 1407, 1408, 1409, 1410, 1411, 1413, 1414, 1415, 1416, 1417, 1418, 1419, 1420, 1422, 1423, 1424, 1425, 1426, 1427, 1429, 1430, 1431, 1432, 1433, 1434, 1436, 1437, 1438, 1439, 1440, 1441, 1442, 1443, 1444, 1446, 1447, 1448, 1449, 1450, 1451, 1452, 1453, 1454, 1455, 1456, 1457, 1458, 1459, 1460, 1461, 1462, 1463, 1464, 1465, 1466, 1467, 1469, 1471, 1472, 1473, 1474, 1475, 1476, 1479, 1481, 1482, 1483, 1485, 1486, 1488, 1490, 1491, 1492, 1493, 1494, 1495, 1496, 1497, 1498, 1499, 1500, 1501, 1502, 1504, 1505, 1506, 1507, 1510, 1511, 1514, 1515, 1516, 1517, 1518, 1519, 1520, 1521, 1522, 1523, 1524, 1525, 1526, 1527, 1528, 1529, 1530, 1532, 1533, 1534, 1535, 1536, 1537, 1539, 1540, 1541, 1542, 1543, 1544, 1545, 1546, 1548, 1549, 1550, 1551, 1552, 1553, 1555, 1556, 1557, 1558, 1559, 1560, 1561, 1562, 1563, 1564, 1565, 1566, 1567, 1569, 1571, 1572, 1573, 1574, 1576, 1578, 1579, 1580, 1581, 1582, 1583, 1584, 1585, 1587, 1588, 1589, 1590, 1591, 1592, 1593, 1595, 1596, 1597, 1598, 1600, 1602, 1603, 1605, 1606, 1607, 1609, 1610, 1611, 1612, 1613, 1614, 1616, 1617, 1618, 1619, 1620, 1621, 1622, 1623, 1624, 1626, 1627, 1628, 1629, 1630, 1631, 1632, 1633, 1634, 1635, 1636, 1637, 1638, 1640, 1641, 1642, 1643, 1644, 1647, 1648, 1649, 1650, 1651, 1652, 1653, 1654, 1655, 1656, 1657, 1659, 1660, 1662, 1663, 1664, 1665, 1666, 1669, 1670, 1671, 1672, 1673, 1674, 1675, 1676, 1677, 1678, 1679, 1680, 1682, 1684, 1685, 1689, 1690, 1691, 1692, 1693, 1694, 1695, 1696, 1697, 1698, 1700, 1701, 1704, 1705, 1706, 1707, 1708, 1709, 1710, 1712, 1713, 1714, 1715, 1716, 1717, 1719, 1721, 1722, 1723, 1724, 1726, 1728, 1729, 1730, 1731, 1732, 1733, 1735, 1736, 1737, 1739, 1740, 1741, 1742, 1743, 1744, 1745, 1746, 1747, 1748, 1749, 1750, 1752, 1753, 1755, 1756, 1757, 1758, 1759, 1761, 1763, 1765, 1766, 1767, 1770, 1771, 1772, 1773, 1775, 1777, 1778, 1779, 1780, 1781, 1783, 1784, 1785, 1786, 1787, 1789, 1791, 1792, 1793, 1794, 1795, 1796, 1797, 1798, 1799, 1800, 1801, 1802, 1804, 1805, 1806, 1807, 1808, 1809, 1810, 1812, 1813, 1815, 1818, 1819, 1820, 1821, 1823, 1824, 1825, 1826, 1827, 1828, 1829, 1831, 1832, 1833, 1835, 1836, 1837, 1838, 1839, 1840, 1841, 1842, 1843, 1844, 1845, 1846, 1847, 1848, 1849, 1850, 1851, 1852, 1853, 1854, 1856, 1857, 1858, 1860, 1861, 1862, 1863, 1864, 1866, 1867, 1868, 1869, 1870, 1872, 1873, 1874, 1875, 1876, 1877, 1878, 1879, 1880, 1881, 1882, 1883, 1884, 1885, 1886, 1887, 1888, 1891, 1892, 1893, 1895, 1897, 1899, 1900, 1901, 1902, 1903, 1904, 1905, 1906, 1909, 1911, 1912, 1913, 1914, 1915, 1916, 1917, 1919, 1920, 1921, 1922, 1925, 1926, 1927, 1928, 1930, 1932, 1933, 1934, 1935, 1936, 1937, 1939, 1942, 1943, 1944, 1945, 1946, 1947, 1948, 1949, 1950, 1951, 1952, 1953, 1955, 1956, 1959, 1961, 1962, 1964, 1965, 1966, 1968, 1970, 1971, 1973, 1974, 1977, 1978, 1980, 1981, 1982, 1983, 1984, 1985, 1986, 1987, 1988, 1989, 1990, 1991, 1992, 1994, 1997, 1999, 2000, 2001, 2002, 2003, 2004, 2005, 2006, 2007, 2009, 2010, 2011, 2012, 2013, 2014, 2017, 2018, 2019, 2020, 2021, 2022, 2024, 2025, 2026, 2027, 2029, 2030, 2031, 2032, 2033, 2034, 2035, 2036, 2037, 2038, 2039, 2040, 2041, 2042, 2043, 2044, 2045, 2046, 2047, 2048, 2049, 2051, 2054, 2055, 2056, 2057, 2058, 2061, 2063, 2064, 2065, 2066, 2067, 2070, 2072, 2073, 2074, 2076, 2078, 2081, 2082, 2083, 2084, 2085, 2086, 2087, 2089, 2090, 2091, 2092, 2093, 2094, 2096, 2097, 2099, 2100, 2101, 2103, 2105, 2107, 2109, 2110, 2111, 2112, 2113, 2115, 2116, 2117, 2118, 2119, 2120, 2121, 2122, 2123, 2124, 2125, 2126, 2127, 2128, 2129, 2130, 2131, 2132, 2133, 2134, 2136, 2137, 2138, 2139, 2140, 2141, 2142, 2143, 2144, 2146, 2147, 2149, 2150, 2151, 2152, 2153, 2154, 2156, 2157, 2159, 2161, 2162, 2163, 2164, 2165, 2167, 2168, 2169, 2170, 2172, 2174, 2175, 2176, 2177, 2178, 2180, 2181, 2182, 2183, 2184, 2185, 2186, 2187, 2188, 2189, 2190, 2191, 2192, 2194, 2195, 2196, 2197, 2198, 2199, 2200, 2203, 2204, 2205, 2206, 2207, 2208, 2212, 2213, 2214, 2215, 2216, 2217, 2218, 2220, 2221, 2222, 2223, 2224, 2226, 2227, 2230, 2231, 2232, 2234, 2235, 2236, 2237, 2238, 2240, 2241, 2242, 2243, 2244, 2245, 2246, 2247, 2248, 2249, 2250, 2252, 2253, 2254, 2256, 2257, 2258, 2260, 2261, 2262, 2263, 2264, 2265, 2266, 2267, 2270, 2271, 2273, 2274, 2275, 2276, 2277, 2278, 2279, 2281, 2282, 2283, 2284, 2285, 2287, 2288, 2289, 2290, 2291, 2292, 2294, 2296, 2297, 2298, 2299, 2301, 2302, 2303, 2304, 2305, 2306, 2308, 2309, 2310, 2313, 2314, 2315, 2316, 2317, 2318, 2319, 2320, 2321, 2322, 2323, 2324, 2325, 2326, 2327, 2329, 2330, 2331, 2333, 2334, 2335, 2336, 2337, 2339, 2341, 2342, 2343, 2344, 2345, 2346, 2347, 2348, 2349, 2350, 2351, 2352, 2353, 2354, 2355, 2357, 2358, 2359, 2360, 2362, 2363, 2364, 2365, 2366, 2367, 2369, 2370, 2371, 2372, 2374, 2375, 2376, 2377, 2378, 2379, 2381, 2382, 2384, 2385, 2386, 2387, 2388, 2389, 2390, 2391, 2392, 2393, 2394, 2395, 2397, 2398, 2399, 2400, 2401, 2402, 2404, 2405, 2406, 2407, 2408, 2409, 2410, 2411, 2412, 2413, 2414, 2415, 2416, 2418, 2419, 2420, 2421, 2422, 2423, 2424, 2425, 2426, 2427, 2428, 2429, 2430, 2431, 2432, 2433, 2434, 2435, 2436, 2437, 2438, 2439, 2440, 2441, 2443, 2444, 2445, 2446, 2447, 2448, 2449, 2450, 2452, 2454, 2455, 2456, 2458, 2459, 2460, 2462, 2463, 2464, 2465, 2467, 2468, 2469, 2470, 2471, 2472, 2473, 2474, 2475, 2476, 2477, 2478, 2479, 2480, 2484, 2485, 2486, 2487, 2488, 2489, 2490, 2491, 2492, 2493, 2494, 2495, 2496, 2497, 2500, 2501, 2502, 2503, 2504, 2505, 2506, 2507, 2508, 2509, 2510, 2511, 2512, 2513, 2514, 2516, 2518, 2519, 2520, 2521, 2522, 2523, 2524, 2525, 2526, 2527, 2528, 2529, 2530, 2531, 2532, 2533, 2534, 2535, 2536, 2537, 2538, 2539, 2540, 2541, 2542, 2543, 2545, 2546, 2547, 2548, 2551, 2553, 2554, 2555, 2556, 2557, 2558, 2560, 2562, 2563, 2564, 2565, 2566, 2567, 2568, 2569, 2570, 2572, 2573, 2574, 2575, 2576, 2577, 2578, 2579, 2580, 2581, 2582, 2583, 2584, 2585, 2586, 2587, 2588, 2589, 2590, 2591, 2592, 2593, 2594, 2595, 2596, 2597, 2598, 2599, 2600, 2601, 2602, 2603, 2606, 2607, 2608, 2610, 2611, 2612, 2613, 2614, 2617, 2618, 2619, 2620, 2621, 2622, 2623, 2624, 2626, 2627, 2628, 2629, 2630, 2631, 2632, 2633, 2634, 2635, 2636, 2638, 2639, 2640, 2641, 2642, 2643, 2644, 2645, 2646, 2647, 2648, 2649, 2650, 2651, 2652, 2653, 2654, 2655, 2656, 2658, 2659, 2660, 2661, 2662, 2663, 2664, 2665, 2667, 2668, 2669, 2674, 2675, 2676, 2677, 2678, 2679, 2681, 2682, 2683, 2684, 2685, 2686, 2687, 2688, 2689, 2690, 2691, 2692, 2694, 2695, 2696, 2697, 2698, 2699, 2700, 2701, 2702, 2703, 2704, 2705, 2706, 2708, 2709, 2710, 2712, 2713, 2714, 2718, 2720, 2722, 2724, 2727, 2728, 2729, 2730, 2732, 2733, 2734, 2735, 2736, 2737, 2738, 2739, 2740, 2741, 2742, 2743, 2744, 2745, 2746, 2747, 2749, 2750, 2751, 2752, 2754, 2756, 2757, 2758, 2760, 2761, 2762, 2763, 2764, 2765, 2766, 2767, 2769, 2770, 2771, 2772, 2773, 2775, 2776, 2779, 2780, 2781, 2782, 2784, 2785, 2786, 2787, 2789, 2790, 2791, 2793, 2794, 2795, 2796, 2797, 2798, 2799, 2800, 2801, 2802, 2804, 2805, 2807, 2808, 2810, 2811, 2813, 2814, 2815, 2816, 2817, 2818, 2819, 2820, 2821, 2822, 2823, 2824, 2825, 2826, 2827, 2828, 2829, 2830, 2831, 2832, 2833, 2834, 2836, 2839, 2840, 2841, 2842, 2844, 2845, 2846, 2847, 2848, 2849, 2851, 2852, 2853, 2854, 2855, 2856, 2858, 2859, 2860, 2861, 2862, 2863, 2865, 2866, 2867, 2868, 2869, 2870, 2871, 2873, 2875, 2876, 2877, 2878, 2879, 2882, 2883, 2884, 2885, 2886, 2887, 2889, 2890, 2891, 2892, 2893, 2894, 2895, 2896, 2897, 2898, 2899, 2900, 2901, 2902, 2903, 2905, 2906, 2907, 2909, 2910, 2911, 2912, 2913, 2914, 2915, 2917, 2918, 2919, 2920, 2923, 2924, 2925, 2926, 2928, 2929, 2930, 2931, 2932, 2933, 2934, 2935, 2938, 2939, 2941, 2942, 2943, 2945, 2946, 2947, 2948, 2949, 2950, 2951, 2952, 2953, 2954, 2955, 2956, 2957, 2958, 2959, 2960, 2961, 2962, 2963, 2964, 2965, 2967, 2968, 2969, 2970, 2971, 2972, 2973, 2974, 2975, 2976, 2977, 2978, 2979, 2980, 2981, 2983, 2984, 2985, 2986, 2987, 2988, 2990, 2991, 2992, 2994, 2995, 2996, 2997, 2998, 2999]\n",
      "삽입 정렬 실행시간:  0.4857311248779297\n",
      "1, 3, 5, 6, 7, 8, 9, 10, 11, 12, 13, 14, 15, 16, 17, 18, 20, 22, 23, 24, 25, 26, 27, 28, 30, 31, 32, 33, 34, 35, 36, 38, 39, 40, 41, 42, 43, 44, 45, 47, 48, 49, 50, 51, 52, 53, 54, 55, 56, 57, 58, 59, 60, 61, 62, 63, 64, 66, 67, 68, 69, 73, 74, 77, 79, 80, 81, 82, 83, 84, 85, 86, 87, 89, 92, 93, 94, 95, 96, 97, 98, 99, 100, 102, 103, 104, 105, 106, 107, 108, 110, 111, 112, 113, 115, 116, 117, 118, 119, 120, 121, 123, 126, 127, 128, 129, 130, 131, 132, 133, 134, 135, 136, 137, 138, 139, 140, 142, 143, 144, 147, 148, 149, 150, 151, 153, 154, 155, 156, 157, 159, 160, 161, 162, 163, 164, 165, 166, 167, 168, 169, 170, 172, 173, 174, 175, 176, 177, 178, 179, 181, 182, 183, 184, 185, 186, 187, 188, 189, 190, 191, 192, 193, 194, 195, 196, 198, 199, 200, 201, 202, 203, 204, 205, 206, 207, 209, 210, 211, 212, 213, 214, 215, 216, 217, 218, 219, 220, 221, 222, 223, 224, 225, 226, 227, 229, 230, 232, 235, 236, 237, 238, 239, 240, 241, 242, 243, 244, 245, 246, 248, 249, 250, 251, 252, 253, 254, 255, 256, 258, 259, 260, 261, 262, 263, 265, 266, 267, 268, 269, 270, 271, 273, 274, 275, 276, 277, 278, 279, 281, 282, 283, 284, 285, 286, 287, 288, 289, 290, 291, 293, 294, 295, 296, 297, 298, 299, 300, 301, 302, 303, 304, 306, 307, 309, 310, 311, 312, 313, 314, 316, 317, 320, 321, 322, 324, 325, 326, 329, 331, 332, 333, 334, 335, 336, 337, 338, 339, 340, 341, 343, 344, 345, 346, 347, 351, 352, 353, 354, 355, 357, 360, 361, 362, 363, 365, 366, 367, 370, 371, 372, 373, 374, 375, 376, 377, 378, 379, 380, 382, 383, 384, 385, 386, 387, 388, 389, 390, 391, 392, 393, 394, 395, 396, 397, 398, 399, 402, 403, 405, 406, 407, 408, 411, 412, 413, 414, 415, 416, 417, 418, 419, 420, 421, 422, 423, 424, 425, 426, 427, 429, 430, 431, 432, 433, 435, 436, 437, 438, 439, 440, 441, 442, 444, 447, 448, 451, 452, 453, 454, 455, 457, 459, 460, 461, 462, 464, 465, 466, 467, 468, 469, 471, 473, 474, 475, 476, 477, 479, 481, 482, 483, 484, 485, 486, 488, 490, 491, 492, 493, 494, 495, 496, 497, 498, 499, 500, 501, 502, 503, 504, 505, 506, 507, 508, 509, 511, 512, 513, 514, 515, 516, 517, 518, 519, 520, 521, 522, 523, 524, 526, 527, 528, 530, 531, 532, 534, 535, 536, 537, 538, 541, 542, 543, 544, 545, 546, 547, 548, 549, 550, 552, 554, 555, 556, 559, 560, 561, 563, 565, 566, 567, 568, 569, 570, 571, 573, 575, 576, 578, 579, 580, 582, 583, 584, 585, 586, 587, 588, 589, 593, 594, 595, 596, 597, 598, 599, 600, 601, 602, 604, 605, 606, 608, 609, 610, 611, 612, 613, 614, 617, 618, 619, 621, 622, 623, 624, 625, 626, 627, 628, 629, 630, 631, 633, 634, 635, 636, 637, 638, 639, 641, 642, 644, 645, 646, 647, 648, 649, 650, 651, 652, 653, 654, 656, 657, 658, 660, 661, 663, 664, 665, 667, 668, 669, 670, 671, 672, 674, 675, 676, 677, 678, 679, 680, 681, 682, 684, 685, 686, 687, 688, 689, 690, 691, 692, 693, 694, 695, 696, 697, 698, 700, 701, 702, 703, 704, 705, 706, 707, 708, 709, 710, 712, 713, 714, 715, 716, 717, 718, 719, 721, 723, 724, 725, 726, 727, 728, 729, 730, 732, 733, 734, 735, 736, 739, 740, 741, 742, 743, 744, 745, 746, 748, 750, 751, 753, 754, 755, 756, 757, 758, 759, 760, 761, 762, 763, 764, 765, 766, 767, 768, 769, 770, 771, 772, 773, 775, 778, 779, 780, 782, 783, 784, 785, 787, 788, 789, 790, 791, 792, 793, 795, 796, 797, 798, 799, 800, 801, 802, 803, 804, 805, 806, 809, 811, 812, 813, 815, 816, 818, 819, 820, 821, 822, 823, 824, 825, 826, 827, 828, 832, 833, 834, 835, 836, 837, 838, 839, 840, 841, 842, 843, 844, 845, 846, 847, 848, 850, 851, 852, 853, 854, 855, 856, 857, 858, 861, 863, 864, 865, 866, 867, 868, 869, 871, 872, 873, 874, 875, 876, 878, 879, 880, 881, 882, 883, 884, 885, 886, 887, 888, 889, 890, 891, 892, 893, 894, 895, 896, 897, 898, 900, 901, 902, 903, 904, 905, 906, 907, 909, 910, 911, 912, 913, 914, 915, 916, 917, 918, 919, 920, 921, 922, 923, 924, 925, 926, 927, 928, 930, 931, 932, 934, 935, 938, 939, 940, 941, 942, 943, 944, 945, 946, 947, 948, 949, 950, 951, 952, 953, 954, 955, 956, 958, 959, 960, 961, 963, 964, 965, 966, 967, 969, 971, 972, 974, 975, 976, 977, 978, 979, 980, 981, 982, 983, 984, 985, 986, 987, 988, 989, 991, 992, 993, 994, 996, 997, 998, 999, 1000, 1003, 1004, 1005, 1006, 1007, 1008, 1010, 1011, 1012, 1013, 1014, 1015, 1016, 1017, 1018, 1020, 1021, 1022, 1023, 1024, 1025, 1026, 1027, 1028, 1029, 1030, 1031, 1032, 1033, 1034, 1037, 1038, 1039, 1040, 1041, 1042, 1043, 1044, 1045, 1046, 1047, 1048, 1049, 1050, 1051, 1052, 1056, 1057, 1058, 1060, 1061, 1062, 1063, 1064, 1065, 1066, 1068, 1069, 1070, 1071, 1072, 1073, 1075, 1076, 1077, 1078, 1079, 1080, 1081, 1082, 1083, 1084, 1085, 1086, 1087, 1088, 1089, 1090, 1091, 1092, 1093, 1094, 1095, 1096, 1097, 1098, 1099, 1100, 1101, 1102, 1103, 1104, 1105, 1106, 1107, 1108, 1109, 1110, 1111, 1113, 1115, 1116, 1119, 1121, 1122, 1123, 1124, 1125, 1127, 1128, 1129, 1130, 1131, 1132, 1133, 1135, 1136, 1138, 1139, 1140, 1141, 1143, 1144, 1145, 1147, 1149, 1150, 1151, 1154, 1155, 1156, 1158, 1161, 1162, 1163, 1165, 1166, 1167, 1169, 1170, 1171, 1173, 1174, 1175, 1176, 1177, 1178, 1179, 1180, 1181, 1182, 1183, 1184, 1185, 1186, 1187, 1188, 1191, 1194, 1195, 1196, 1197, 1198, 1199, 1200, 1201, 1202, 1203, 1204, 1205, 1206, 1207, 1208, 1210, 1211, 1213, 1214, 1215, 1218, 1219, 1220, 1221, 1222, 1223, 1224, 1225, 1226, 1227, 1228, 1229, 1230, 1231, 1232, 1233, 1234, 1235, 1236, 1237, 1238, 1240, 1241, 1242, 1243, 1244, 1245, 1249, 1250, 1251, 1253, 1254, 1255, 1256, 1257, 1259, 1260, 1262, 1263, 1264, 1266, 1267, 1269, 1271, 1274, 1275, 1276, 1277, 1278, 1279, 1280, 1282, 1283, 1284, 1285, 1286, 1287, 1288, 1289, 1290, 1291, 1292, 1293, 1294, 1296, 1297, 1298, 1300, 1301, 1303, 1304, 1305, 1307, 1308, 1310, 1311, 1313, 1314, 1315, 1316, 1317, 1318, 1319, 1320, 1321, 1322, 1323, 1324, 1326, 1327, 1329, 1330, 1331, 1332, 1333, 1334, 1335, 1336, 1337, 1338, 1339, 1340, 1341, 1342, 1343, 1344, 1345, 1346, 1347, 1348, 1349, 1350, 1351, 1352, 1353, 1354, 1355, 1356, 1357, 1359, 1360, 1361, 1362, 1363, 1364, 1365, 1367, 1368, 1369, 1370, 1371, 1372, 1373, 1374, 1375, 1376, 1377, 1378, 1379, 1380, 1381, 1382, 1383, 1384, 1385, 1386, 1387, 1389, 1390, 1391, 1393, 1394, 1397, 1399, 1400, 1401, 1402, 1403, 1404, 1405, 1406, 1407, 1408, 1409, 1410, 1411, 1413, 1414, 1415, 1416, 1417, 1418, 1419, 1420, 1422, 1423, 1424, 1425, 1426, 1427, 1429, 1430, 1431, 1432, 1433, 1434, 1436, 1437, 1438, 1439, 1440, 1441, 1442, 1443, 1444, 1446, 1447, 1448, 1449, 1450, 1451, 1452, 1453, 1454, 1455, 1456, 1457, 1458, 1459, 1460, 1461, 1462, 1463, 1464, 1465, 1466, 1467, 1469, 1471, 1472, 1473, 1474, 1475, 1476, 1479, 1481, 1482, 1483, 1485, 1486, 1488, 1490, 1491, 1492, 1493, 1494, 1495, 1496, 1497, 1498, 1499, 1500, 1501, 1502, 1504, 1505, 1506, 1507, 1510, 1511, 1514, 1515, 1516, 1517, 1518, 1519, 1520, 1521, 1522, 1523, 1524, 1525, 1526, 1527, 1528, 1529, 1530, 1532, 1533, 1534, 1535, 1536, 1537, 1539, 1540, 1541, 1542, 1543, 1544, 1545, 1546, 1548, 1549, 1550, 1551, 1552, 1553, 1555, 1556, 1557, 1558, 1559, 1560, 1561, 1562, 1563, 1564, 1565, 1566, 1567, 1569, 1571, 1572, 1573, 1574, 1576, 1578, 1579, 1580, 1581, 1582, 1583, 1584, 1585, 1587, 1588, 1589, 1590, 1591, 1592, 1593, 1595, 1596, 1597, 1598, 1600, 1602, 1603, 1605, 1606, 1607, 1609, 1610, 1611, 1612, 1613, 1614, 1616, 1617, 1618, 1619, 1620, 1621, 1622, 1623, 1624, 1626, 1627, 1628, 1629, 1630, 1631, 1632, 1633, 1634, 1635, 1636, 1637, 1638, 1640, 1641, 1642, 1643, 1644, 1647, 1648, 1649, 1650, 1651, 1652, 1653, 1654, 1655, 1656, 1657, 1659, 1660, 1662, 1663, 1664, 1665, 1666, 1669, 1670, 1671, 1672, 1673, 1674, 1675, 1676, 1677, 1678, 1679, 1680, 1682, 1684, 1685, 1689, 1690, 1691, 1692, 1693, 1694, 1695, 1696, 1697, 1698, 1700, 1701, 1704, 1705, 1706, 1707, 1708, 1709, 1710, 1712, 1713, 1714, 1715, 1716, 1717, 1719, 1721, 1722, 1723, 1724, 1726, 1728, 1729, 1730, 1731, 1732, 1733, 1735, 1736, 1737, 1739, 1740, 1741, 1742, 1743, 1744, 1745, 1746, 1747, 1748, 1749, 1750, 1752, 1753, 1755, 1756, 1757, 1758, 1759, 1761, 1763, 1765, 1766, 1767, 1770, 1771, 1772, 1773, 1775, 1777, 1778, 1779, 1780, 1781, 1783, 1784, 1785, 1786, 1787, 1789, 1791, 1792, 1793, 1794, 1795, 1796, 1797, 1798, 1799, 1800, 1801, 1802, 1804, 1805, 1806, 1807, 1808, 1809, 1810, 1812, 1813, 1815, 1818, 1819, 1820, 1821, 1823, 1824, 1825, 1826, 1827, 1828, 1829, 1831, 1832, 1833, 1835, 1836, 1837, 1838, 1839, 1840, 1841, 1842, 1843, 1844, 1845, 1846, 1847, 1848, 1849, 1850, 1851, 1852, 1853, 1854, 1856, 1857, 1858, 1860, 1861, 1862, 1863, 1864, 1866, 1867, 1868, 1869, 1870, 1872, 1873, 1874, 1875, 1876, 1877, 1878, 1879, 1880, 1881, 1882, 1883, 1884, 1885, 1886, 1887, 1888, 1891, 1892, 1893, 1895, 1897, 1899, 1900, 1901, 1902, 1903, 1904, 1905, 1906, 1909, 1911, 1912, 1913, 1914, 1915, 1916, 1917, 1919, 1920, 1921, 1922, 1925, 1926, 1927, 1928, 1930, 1932, 1933, 1934, 1935, 1936, 1937, 1939, 1942, 1943, 1944, 1945, 1946, 1947, 1948, 1949, 1950, 1951, 1952, 1953, 1955, 1956, 1959, 1961, 1962, 1964, 1965, 1966, 1968, 1970, 1971, 1973, 1974, 1977, 1978, 1980, 1981, 1982, 1983, 1984, 1985, 1986, 1987, 1988, 1989, 1990, 1991, 1992, 1994, 1997, 1999, 2000, 2001, 2002, 2003, 2004, 2005, 2006, 2007, 2009, 2010, 2011, 2012, 2013, 2014, 2017, 2018, 2019, 2020, 2021, 2022, 2024, 2025, 2026, 2027, 2029, 2030, 2031, 2032, 2033, 2034, 2035, 2036, 2037, 2038, 2039, 2040, 2041, 2042, 2043, 2044, 2045, 2046, 2047, 2048, 2049, 2051, 2054, 2055, 2056, 2057, 2058, 2061, 2063, 2064, 2065, 2066, 2067, 2070, 2072, 2073, 2074, 2076, 2078, 2081, 2082, 2083, 2084, 2085, 2086, 2087, 2089, 2090, 2091, 2092, 2093, 2094, 2096, 2097, 2099, 2100, 2101, 2103, 2105, 2107, 2109, 2110, 2111, 2112, 2113, 2115, 2116, 2117, 2118, 2119, 2120, 2121, 2122, 2123, 2124, 2125, 2126, 2127, 2128, 2129, 2130, 2131, 2132, 2133, 2134, 2136, 2137, 2138, 2139, 2140, 2141, 2142, 2143, 2144, 2146, 2147, 2149, 2150, 2151, 2152, 2153, 2154, 2156, 2157, 2159, 2161, 2162, 2163, 2164, 2165, 2167, 2168, 2169, 2170, 2172, 2174, 2175, 2176, 2177, 2178, 2180, 2181, 2182, 2183, 2184, 2185, 2186, 2187, 2188, 2189, 2190, 2191, 2192, 2194, 2195, 2196, 2197, 2198, 2199, 2200, 2203, 2204, 2205, 2206, 2207, 2208, 2212, 2213, 2214, 2215, 2216, 2217, 2218, 2220, 2221, 2222, 2223, 2224, 2226, 2227, 2230, 2231, 2232, 2234, 2235, 2236, 2237, 2238, 2240, 2241, 2242, 2243, 2244, 2245, 2246, 2247, 2248, 2249, 2250, 2252, 2253, 2254, 2256, 2257, 2258, 2260, 2261, 2262, 2263, 2264, 2265, 2266, 2267, 2270, 2271, 2273, 2274, 2275, 2276, 2277, 2278, 2279, 2281, 2282, 2283, 2284, 2285, 2287, 2288, 2289, 2290, 2291, 2292, 2294, 2296, 2297, 2298, 2299, 2301, 2302, 2303, 2304, 2305, 2306, 2308, 2309, 2310, 2313, 2314, 2315, 2316, 2317, 2318, 2319, 2320, 2321, 2322, 2323, 2324, 2325, 2326, 2327, 2329, 2330, 2331, 2333, 2334, 2335, 2336, 2337, 2339, 2341, 2342, 2343, 2344, 2345, 2346, 2347, 2348, 2349, 2350, 2351, 2352, 2353, 2354, 2355, 2357, 2358, 2359, 2360, 2362, 2363, 2364, 2365, 2366, 2367, 2369, 2370, 2371, 2372, 2374, 2375, 2376, 2377, 2378, 2379, 2381, 2382, 2384, 2385, 2386, 2387, 2388, 2389, 2390, 2391, 2392, 2393, 2394, 2395, 2397, 2398, 2399, 2400, 2401, 2402, 2404, 2405, 2406, 2407, 2408, 2409, 2410, 2411, 2412, 2413, 2414, 2415, 2416, 2418, 2419, 2420, 2421, 2422, 2423, 2424, 2425, 2426, 2427, 2428, 2429, 2430, 2431, 2432, 2433, 2434, 2435, 2436, 2437, 2438, 2439, 2440, 2441, 2443, 2444, 2445, 2446, 2447, 2448, 2449, 2450, 2452, 2454, 2455, 2456, 2458, 2459, 2460, 2462, 2463, 2464, 2465, 2467, 2468, 2469, 2470, 2471, 2472, 2473, 2474, 2475, 2476, 2477, 2478, 2479, 2480, 2484, 2485, 2486, 2487, 2488, 2489, 2490, 2491, 2492, 2493, 2494, 2495, 2496, 2497, 2500, 2501, 2502, 2503, 2504, 2505, 2506, 2507, 2508, 2509, 2510, 2511, 2512, 2513, 2514, 2516, 2518, 2519, 2520, 2521, 2522, 2523, 2524, 2525, 2526, 2527, 2528, 2529, 2530, 2531, 2532, 2533, 2534, 2535, 2536, 2537, 2538, 2539, 2540, 2541, 2542, 2543, 2545, 2546, 2547, 2548, 2551, 2553, 2554, 2555, 2556, 2557, 2558, 2560, 2562, 2563, 2564, 2565, 2566, 2567, 2568, 2569, 2570, 2572, 2573, 2574, 2575, 2576, 2577, 2578, 2579, 2580, 2581, 2582, 2583, 2584, 2585, 2586, 2587, 2588, 2589, 2590, 2591, 2592, 2593, 2594, 2595, 2596, 2597, 2598, 2599, 2600, 2601, 2602, 2603, 2606, 2607, 2608, 2610, 2611, 2612, 2613, 2614, 2617, 2618, 2619, 2620, 2621, 2622, 2623, 2624, 2626, 2627, 2628, 2629, 2630, 2631, 2632, 2633, 2634, 2635, 2636, 2638, 2639, 2640, 2641, 2642, 2643, 2644, 2645, 2646, 2647, 2648, 2649, 2650, 2651, 2652, 2653, 2654, 2655, 2656, 2658, 2659, 2660, 2661, 2662, 2663, 2664, 2665, 2667, 2668, 2669, 2674, 2675, 2676, 2677, 2678, 2679, 2681, 2682, 2683, 2684, 2685, 2686, 2687, 2688, 2689, 2690, 2691, 2692, 2694, 2695, 2696, 2697, 2698, 2699, 2700, 2701, 2702, 2703, 2704, 2705, 2706, 2708, 2709, 2710, 2712, 2713, 2714, 2718, 2720, 2722, 2724, 2727, 2728, 2729, 2730, 2732, 2733, 2734, 2735, 2736, 2737, 2738, 2739, 2740, 2741, 2742, 2743, 2744, 2745, 2746, 2747, 2749, 2750, 2751, 2752, 2754, 2756, 2757, 2758, 2760, 2761, 2762, 2763, 2764, 2765, 2766, 2767, 2769, 2770, 2771, 2772, 2773, 2775, 2776, 2779, 2780, 2781, 2782, 2784, 2785, 2786, 2787, 2789, 2790, 2791, 2793, 2794, 2795, 2796, 2797, 2798, 2799, 2800, 2801, 2802, 2804, 2805, 2807, 2808, 2810, 2811, 2813, 2814, 2815, 2816, 2817, 2818, 2819, 2820, 2821, 2822, 2823, 2824, 2825, 2826, 2827, 2828, 2829, 2830, 2831, 2832, 2833, 2834, 2836, 2839, 2840, 2841, 2842, 2844, 2845, 2846, 2847, 2848, 2849, 2851, 2852, 2853, 2854, 2855, 2856, 2858, 2859, 2860, 2861, 2862, 2863, 2865, 2866, 2867, 2868, 2869, 2870, 2871, 2873, 2875, 2876, 2877, 2878, 2879, 2882, 2883, 2884, 2885, 2886, 2887, 2889, 2890, 2891, 2892, 2893, 2894, 2895, 2896, 2897, 2898, 2899, 2900, 2901, 2902, 2903, 2905, 2906, 2907, 2909, 2910, 2911, 2912, 2913, 2914, 2915, 2917, 2918, 2919, 2920, 2923, 2924, 2925, 2926, 2928, 2929, 2930, 2931, 2932, 2933, 2934, 2935, 2938, 2939, 2941, 2942, 2943, 2945, 2946, 2947, 2948, 2949, 2950, 2951, 2952, 2953, 2954, 2955, 2956, 2957, 2958, 2959, 2960, 2961, 2962, 2963, 2964, 2965, 2967, 2968, 2969, 2970, 2971, 2972, 2973, 2974, 2975, 2976, 2977, 2978, 2979, 2980, 2981, 2983, 2984, 2985, 2986, 2987, 2988, 2990, 2991, 2992, 2994, 2995, 2996, 2997, 2998, 2999, None\n",
      "힙 정렬 실행시간:  0.17151165008544922\n"
     ]
    }
   ],
   "metadata": {}
  },
  {
   "cell_type": "code",
   "execution_count": 67,
   "source": [
    "class HeapTree:\n",
    "    def __init__(self):\n",
    "        self.heap = [None]\n",
    "\n",
    "    def insert_max_heap(self, item):\n",
    "        self.heap.append(item)\n",
    "        print(\"삽입 연산: \",self.heap)\n",
    "        \n",
    "        index = len(self.heap) - 1\n",
    "    \n",
    "        while index != 1:\n",
    "            Parent = index//2\n",
    "\n",
    "            if self.heap[Parent] > self.heap[index]:\n",
    "                self.heap[Parent], self.heap[index] = self.heap[index], self.heap[Parent]\n",
    "                index = Parent\n",
    "            else:\n",
    "                break\n",
    "\n",
    "\n",
    "    def maxHeap_sorted(self, key):\n",
    "        parent = key\n",
    "        left = key * 2; right = key*2+1\n",
    "\n",
    "        if left < len(self.heap) and self.heap[left] < self.heap[parent]:\n",
    "            parent = left\n",
    "        elif right < len(self.heap) and self.heap[right] < self.heap[parent]:\n",
    "            parent = right\n",
    "\n",
    "        if parent != key:\n",
    "            self.heap[key], self.heap[parent] = self.heap[parent], self.heap[key]\n",
    "            self.maxHeap_sorted(parent)\n",
    "            \n",
    "        return self.heap"
   ],
   "outputs": [],
   "metadata": {}
  },
  {
   "cell_type": "code",
   "execution_count": 57,
   "source": [
    "array = [5,4,3,2,1,0]\n",
    "\n",
    "Heap = HeapTree()\n",
    "for i in array:\n",
    "    Heap.insert_max_heap(i)"
   ],
   "outputs": [
    {
     "output_type": "stream",
     "name": "stdout",
     "text": [
      "삽입 연산:  [None, 5]\n",
      "삽입 연산:  [None, 5, 4]\n",
      "삽입 연산:  [None, 4, 5, 3]\n",
      "삽입 연산:  [None, 3, 5, 4, 2]\n",
      "삽입 연산:  [None, 2, 3, 4, 5, 1]\n",
      "삽입 연산:  [None, 1, 2, 4, 5, 3, 0]\n"
     ]
    }
   ],
   "metadata": {}
  },
  {
   "cell_type": "code",
   "execution_count": null,
   "source": [],
   "outputs": [],
   "metadata": {}
  }
 ],
 "metadata": {
  "kernelspec": {
   "name": "python3",
   "display_name": "Python 3.8.8 64-bit ('base': conda)"
  },
  "language_info": {
   "codemirror_mode": {
    "name": "ipython",
    "version": 3
   },
   "file_extension": ".py",
   "mimetype": "text/x-python",
   "name": "python",
   "nbconvert_exporter": "python",
   "pygments_lexer": "ipython3",
   "version": "3.8.8"
  },
  "interpreter": {
   "hash": "97ae724bfa85b9b34df7982b8bb8c7216f435b92902d749e4263f71162bea840"
  }
 },
 "nbformat": 4,
 "nbformat_minor": 5
}