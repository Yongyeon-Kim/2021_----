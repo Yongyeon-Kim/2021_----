{
 "cells": [
  {
   "cell_type": "code",
   "execution_count": 46,
   "id": "passive-uganda",
   "metadata": {},
   "outputs": [],
   "source": [
    "import time\n",
    "start = time.time()\n",
    "\n",
    "def iteration_fibo(n):\n",
    "    a = 0; b =1; result=0\n",
    "    for i in range(1, n):\n",
    "        result = a + b\n",
    "        a = b\n",
    "        b = result    \n",
    "    return result"
   ]
  },
  {
   "cell_type": "code",
   "execution_count": 47,
   "id": "valuable-hamilton",
   "metadata": {},
   "outputs": [
    {
     "name": "stdout",
     "output_type": "stream",
     "text": [
      "832040\n",
      "time:  0.3590402603149414\n"
     ]
    }
   ],
   "source": [
    "print(iteration_fibo(30))\n",
    "print('time: ', time.time()-start)"
   ]
  },
  {
   "cell_type": "code",
   "execution_count": 50,
   "id": "collected-tyler",
   "metadata": {},
   "outputs": [],
   "source": [
    "import time\n",
    "start = time.time()\n",
    "\n",
    "def recursion_fibo(n): \n",
    "    if n == 0:\n",
    "        return 0\n",
    "    elif n == 1:\n",
    "        return 1\n",
    "    else:\n",
    "        return recursion_fibo(n-1) + recursion_fibo(n-2)"
   ]
  },
  {
   "cell_type": "code",
   "execution_count": 51,
   "id": "amino-vacation",
   "metadata": {},
   "outputs": [
    {
     "name": "stdout",
     "output_type": "stream",
     "text": [
      "832040\n",
      "time:  0.7679462432861328\n"
     ]
    }
   ],
   "source": [
    "print(recursion_fibo(30))\n",
    "print('time: ', time.time() - start)"
   ]
  },
  {
   "cell_type": "code",
   "execution_count": 60,
   "id": "contemporary-provision",
   "metadata": {},
   "outputs": [
    {
     "name": "stdout",
     "output_type": "stream",
     "text": [
      "time:  663.7082140445709\n",
      "확인할 피보나치 수열의 수30\n",
      "반복적인 피보나치 수열:  832040\n",
      "순환하는 피보나치 수열:  832040\n"
     ]
    }
   ],
   "source": [
    "import time\n",
    "\n",
    "class Fibonacci:\n",
    "    def __init__(self):\n",
    "        pass\n",
    "\n",
    "    def iteration_fibo(self, n):\n",
    "        start = time.time()\n",
    "        \n",
    "        a = 0; b =1; result=0\n",
    "        for i in range(1, n):\n",
    "            result = a + b\n",
    "            a = b\n",
    "            b = result\n",
    "        \n",
    "        return result\n",
    "    \n",
    "    \n",
    "    def recursion_fibo(self, n): \n",
    "        \n",
    "        if n == 0:\n",
    "            return 0\n",
    "        elif n == 1:\n",
    "            return 1\n",
    "        else:\n",
    "            return recursion_fibo(n-1) + recursion_fibo(n-2)\n",
    "    \n",
    "    def fibo(self):\n",
    "        n = int(input(\"확인할 피보나치 수열의 수\"))\n",
    "        print(\"반복적인 피보나치 수열: \",self.recursion_fibo(n))\n",
    "        print(\"순환하는 피보나치 수열: \", self.iteration_fibo(n))\n",
    "\n",
    "f1 = Fibonacci()\n",
    "f1.fibo()"
   ]
  },
  {
   "cell_type": "code",
   "execution_count": null,
   "id": "sweet-purchase",
   "metadata": {},
   "outputs": [],
   "source": [
    "import time\n",
    "\n",
    "class Fibonacci:\n",
    "    def __init__(self):\n",
    "        pass\n",
    "\n",
    "    def iteration_fibo(self, n):\n",
    "        start = time.time()\n",
    "        \n",
    "        a = 0; b =1; result=0\n",
    "        for i in range(1, n):\n",
    "            result = a + b\n",
    "            a = b\n",
    "            b = result\n",
    "        \n",
    "        return result\n",
    "    \n",
    "    def recursion_fibo(self, n): \n",
    "        if n == 0:\n",
    "            return 0\n",
    "        elif n == 1:\n",
    "            return 1\n",
    "        else:\n",
    "            return recursion_fibo(n-1) + recursion_fibo(n-2)\n",
    "    \n",
    "    def fibo(self):\n",
    "        n = int(input(\"확인할 피보나치 수열의 수\"))\n",
    "        print(\"반복적인 피보나치 수열: \",self.recursion_fibo(n))\n",
    "        print(\"순환하는 피보나치 수열: \", self.iteration_fibo(n))\n",
    "\n",
    "f1 = Fibonacci()\n",
    "f1.fibo()"
   ]
  },
  {
   "cell_type": "code",
   "execution_count": 61,
   "id": "competitive-supervisor",
   "metadata": {},
   "outputs": [
    {
     "ename": "TypeError",
     "evalue": "Ackermann() missing 1 required positional argument: 'n'",
     "output_type": "error",
     "traceback": [
      "\u001b[1;31m---------------------------------------------------------------------------\u001b[0m",
      "\u001b[1;31mTypeError\u001b[0m                                 Traceback (most recent call last)",
      "\u001b[1;32m<ipython-input-61-b994083bdfb8>\u001b[0m in \u001b[0;36m<module>\u001b[1;34m\u001b[0m\n\u001b[0;32m      7\u001b[0m         \u001b[1;32mreturn\u001b[0m \u001b[0mAckermann\u001b[0m\u001b[1;33m(\u001b[0m\u001b[0mm\u001b[0m\u001b[1;33m-\u001b[0m\u001b[1;36m2\u001b[0m\u001b[1;33m,\u001b[0m \u001b[0mAckermann\u001b[0m\u001b[1;33m(\u001b[0m\u001b[0mn\u001b[0m\u001b[1;33m-\u001b[0m\u001b[1;36m1\u001b[0m\u001b[1;33m)\u001b[0m\u001b[1;33m)\u001b[0m\u001b[1;33m\u001b[0m\u001b[1;33m\u001b[0m\u001b[0m\n\u001b[0;32m      8\u001b[0m \u001b[1;33m\u001b[0m\u001b[0m\n\u001b[1;32m----> 9\u001b[1;33m \u001b[0mprint\u001b[0m\u001b[1;33m(\u001b[0m\u001b[0mAckermann\u001b[0m\u001b[1;33m(\u001b[0m\u001b[1;36m3\u001b[0m\u001b[1;33m,\u001b[0m\u001b[1;36m2\u001b[0m\u001b[1;33m)\u001b[0m\u001b[1;33m)\u001b[0m\u001b[1;33m\u001b[0m\u001b[1;33m\u001b[0m\u001b[0m\n\u001b[0m",
      "\u001b[1;32m<ipython-input-61-b994083bdfb8>\u001b[0m in \u001b[0;36mAckermann\u001b[1;34m(m, n)\u001b[0m\n\u001b[0;32m      5\u001b[0m         \u001b[1;32mreturn\u001b[0m \u001b[0mAckermann\u001b[0m\u001b[1;33m(\u001b[0m\u001b[0mm\u001b[0m\u001b[1;33m-\u001b[0m\u001b[1;36m1\u001b[0m\u001b[1;33m,\u001b[0m \u001b[1;36m1\u001b[0m\u001b[1;33m)\u001b[0m\u001b[1;33m\u001b[0m\u001b[1;33m\u001b[0m\u001b[0m\n\u001b[0;32m      6\u001b[0m     \u001b[1;32mif\u001b[0m \u001b[0mm\u001b[0m\u001b[1;33m>=\u001b[0m\u001b[1;36m1\u001b[0m \u001b[1;32mand\u001b[0m \u001b[0mn\u001b[0m\u001b[1;33m>=\u001b[0m\u001b[1;36m1\u001b[0m\u001b[1;33m:\u001b[0m\u001b[1;33m\u001b[0m\u001b[1;33m\u001b[0m\u001b[0m\n\u001b[1;32m----> 7\u001b[1;33m         \u001b[1;32mreturn\u001b[0m \u001b[0mAckermann\u001b[0m\u001b[1;33m(\u001b[0m\u001b[0mm\u001b[0m\u001b[1;33m-\u001b[0m\u001b[1;36m2\u001b[0m\u001b[1;33m,\u001b[0m \u001b[0mAckermann\u001b[0m\u001b[1;33m(\u001b[0m\u001b[0mn\u001b[0m\u001b[1;33m-\u001b[0m\u001b[1;36m1\u001b[0m\u001b[1;33m)\u001b[0m\u001b[1;33m)\u001b[0m\u001b[1;33m\u001b[0m\u001b[1;33m\u001b[0m\u001b[0m\n\u001b[0m\u001b[0;32m      8\u001b[0m \u001b[1;33m\u001b[0m\u001b[0m\n\u001b[0;32m      9\u001b[0m \u001b[0mprint\u001b[0m\u001b[1;33m(\u001b[0m\u001b[0mAckermann\u001b[0m\u001b[1;33m(\u001b[0m\u001b[1;36m3\u001b[0m\u001b[1;33m,\u001b[0m\u001b[1;36m2\u001b[0m\u001b[1;33m)\u001b[0m\u001b[1;33m)\u001b[0m\u001b[1;33m\u001b[0m\u001b[1;33m\u001b[0m\u001b[0m\n",
      "\u001b[1;31mTypeError\u001b[0m: Ackermann() missing 1 required positional argument: 'n'"
     ]
    }
   ],
   "source": [
    "def Ackermann(m, n):\n",
    "    if m==0:\n",
    "        return n+1\n",
    "    if n==0:\n",
    "        return Ackermann(m-1, 1)\n",
    "    if m>=1 and n>=1:\n",
    "        return Ackermann(m-2, Ackermann(n-1))\n",
    "\n",
    "print(Ackermann(3,2))"
   ]
  },
  {
   "cell_type": "code",
   "execution_count": null,
   "id": "floating-grant",
   "metadata": {},
   "outputs": [],
   "source": [
    "def a(m,n):\n",
    "    if m==0:\n",
    "        return n+1\n",
    "    elif n==0:\n",
    "        return a(m-1,1)\n",
    "    else:\n",
    "        return a(m-2, a(m,n-1))\n",
    "\n",
    "    \n",
    "print(a(2,3))"
   ]
  },
  {
   "cell_type": "code",
   "execution_count": null,
   "id": "national-being",
   "metadata": {},
   "outputs": [],
   "source": []
  }
 ],
 "metadata": {
  "kernelspec": {
   "display_name": "Python 3",
   "language": "python",
   "name": "python3"
  },
  "language_info": {
   "codemirror_mode": {
    "name": "ipython",
    "version": 3
   },
   "file_extension": ".py",
   "mimetype": "text/x-python",
   "name": "python",
   "nbconvert_exporter": "python",
   "pygments_lexer": "ipython3",
   "version": "3.9.2"
  }
 },
 "nbformat": 4,
 "nbformat_minor": 5
}
